{
  "nbformat": 4,
  "nbformat_minor": 0,
  "metadata": {
    "colab": {
      "name": "Group244_BreastCancer.ipynb",
      "provenance": [],
      "authorship_tag": "ABX9TyMiyB2TgRJL/UR9T405g81y",
      "include_colab_link": true
    },
    "kernelspec": {
      "name": "python3",
      "display_name": "Python 3"
    },
    "language_info": {
      "name": "python"
    }
  },
  "cells": [
    {
      "cell_type": "markdown",
      "metadata": {
        "id": "view-in-github",
        "colab_type": "text"
      },
      "source": [
        "<a href=\"https://colab.research.google.com/github/vpaluparthi/ML_Assignment1/blob/main/Group244_BreastCancer.ipynb\" target=\"_parent\"><img src=\"https://colab.research.google.com/assets/colab-badge.svg\" alt=\"Open In Colab\"/></a>"
      ]
    },
    {
      "cell_type": "markdown",
      "metadata": {
        "id": "AjFRoFHA0j_I"
      },
      "source": [
        "# Machine Learning Assignment 1\n",
        "\n",
        "Assignment Topic: Build and Evaluate Machine Learning model for analysis of Breast Cancer dataset.\n",
        "\n",
        "Names:\n",
        "P. Vijaya Kumar (BITS ID: 2020FC04388)\n",
        "Archana C (BITS ID: 2020FC04392)\n",
        "Anirudh Kanukanti (BITS ID: )\n",
        "\n",
        "Group: 244\n",
        "\n"
      ]
    },
    {
      "cell_type": "markdown",
      "metadata": {
        "id": "EtSoSXEEAVj5"
      },
      "source": [
        "# Step 1: Initialization\n",
        "\n",
        "# A.\tImport the required libraries\n",
        "\n",
        "# B.\tDownload the dataset\n",
        "\n",
        "\n",
        "\n",
        "\n",
        "\n"
      ]
    },
    {
      "cell_type": "code",
      "metadata": {
        "id": "M6msL1qtWzf8"
      },
      "source": [
        "import pandas as pd\n",
        "import numpy as np\n",
        "import seaborn as sns\n",
        "\n",
        "from sklearn.ensemble import RandomForestClassifier\n",
        "from sklearn.linear_model import LogisticRegression\n",
        "from sklearn.model_selection import train_test_split\n",
        "from sklearn.naive_bayes import GaussianNB\n",
        "from sklearn.tree import DecisionTreeClassifier\n",
        "\n",
        "from sklearn import metrics\n",
        "from sklearn.metrics import confusion_matrix\n",
        "\n",
        "import matplotlib.pyplot as plt\n",
        "\n",
        "from pydrive.drive import GoogleDrive\n",
        "from pydrive.auth import GoogleAuth\n",
        "from pydrive.drive import GoogleDrive\n",
        "from google.colab import auth\n",
        "from oauth2client.client import GoogleCredentials\n",
        "\n",
        "auth.authenticate_user()\n",
        "gauth = GoogleAuth()\n",
        "gauth.credentials = GoogleCredentials.get_application_default()\n",
        "drive = GoogleDrive(gauth)\n",
        "\n",
        "fileDownloaded = drive.CreateFile({'id':'1AnRf3cl-MflHd4JVK07Az3UdvemNRU4a'})\n",
        "fileDownloaded.GetContentFile('breast-cancer-wisconsin.csv')\n",
        "data = pd.read_csv('breast-cancer-wisconsin.csv', delimiter=',')\n",
        "#data.columns = ['Sample code number', 'Clump Thickness', 'Uniformity of Cell Size', 'Uniformity of Cell Shape',\n",
        "#                'Marginal Adhesion', 'Single Epithelial Cell Size', 'Bare Nuclei', 'Bland Chromatin','Normal Nucleoli', 'Mitoses','Class']\n",
        "data = data.drop(columns=['Sample code number'])"
      ],
      "execution_count": 309,
      "outputs": []
    },
    {
      "cell_type": "markdown",
      "metadata": {
        "id": "ZS-9IDjmKh6E"
      },
      "source": [
        "# Step 2:\tData Visualization and Exploration\n",
        "\n",
        "# A.\tPrint the description and shape of the dataset.\n",
        "\n",
        "# B.\tPrint at least 5 rows for sanity check to identify all the features present in the dataset and if the target matches with them."
      ]
    },
    {
      "cell_type": "code",
      "metadata": {
        "colab": {
          "base_uri": "https://localhost:8080/",
          "height": 258
        },
        "id": "nno2I4RHKKOX",
        "outputId": "7b1ff3ff-2084-4a26-a86f-9ec590aa2a95"
      },
      "source": [
        "print('Number of instances = %d' % (data.shape[0]))\n",
        "print('Number of attributes = %d' % (data.shape[1]))\n",
        "data.head()"
      ],
      "execution_count": 310,
      "outputs": [
        {
          "output_type": "stream",
          "text": [
            "Number of instances = 699\n",
            "Number of attributes = 10\n"
          ],
          "name": "stdout"
        },
        {
          "output_type": "execute_result",
          "data": {
            "text/html": [
              "<div>\n",
              "<style scoped>\n",
              "    .dataframe tbody tr th:only-of-type {\n",
              "        vertical-align: middle;\n",
              "    }\n",
              "\n",
              "    .dataframe tbody tr th {\n",
              "        vertical-align: top;\n",
              "    }\n",
              "\n",
              "    .dataframe thead th {\n",
              "        text-align: right;\n",
              "    }\n",
              "</style>\n",
              "<table border=\"1\" class=\"dataframe\">\n",
              "  <thead>\n",
              "    <tr style=\"text-align: right;\">\n",
              "      <th></th>\n",
              "      <th>Clump Thickness</th>\n",
              "      <th>Uniformity of Cell Size</th>\n",
              "      <th>Uniformity of Cell Shape</th>\n",
              "      <th>Marginal Adhesion</th>\n",
              "      <th>Single Epithelial Cell Size</th>\n",
              "      <th>Bare Nuclei</th>\n",
              "      <th>Bland Chromatin</th>\n",
              "      <th>Normal Nucleoli</th>\n",
              "      <th>Mitoses</th>\n",
              "      <th>Class</th>\n",
              "    </tr>\n",
              "  </thead>\n",
              "  <tbody>\n",
              "    <tr>\n",
              "      <th>0</th>\n",
              "      <td>5</td>\n",
              "      <td>1</td>\n",
              "      <td>1</td>\n",
              "      <td>1</td>\n",
              "      <td>2</td>\n",
              "      <td>1</td>\n",
              "      <td>3</td>\n",
              "      <td>1</td>\n",
              "      <td>1</td>\n",
              "      <td>2</td>\n",
              "    </tr>\n",
              "    <tr>\n",
              "      <th>1</th>\n",
              "      <td>5</td>\n",
              "      <td>4</td>\n",
              "      <td>4</td>\n",
              "      <td>5</td>\n",
              "      <td>7</td>\n",
              "      <td>10</td>\n",
              "      <td>3</td>\n",
              "      <td>2</td>\n",
              "      <td>1</td>\n",
              "      <td>2</td>\n",
              "    </tr>\n",
              "    <tr>\n",
              "      <th>2</th>\n",
              "      <td>3</td>\n",
              "      <td>1</td>\n",
              "      <td>1</td>\n",
              "      <td>1</td>\n",
              "      <td>2</td>\n",
              "      <td>2</td>\n",
              "      <td>3</td>\n",
              "      <td>1</td>\n",
              "      <td>1</td>\n",
              "      <td>2</td>\n",
              "    </tr>\n",
              "    <tr>\n",
              "      <th>3</th>\n",
              "      <td>6</td>\n",
              "      <td>8</td>\n",
              "      <td>8</td>\n",
              "      <td>1</td>\n",
              "      <td>3</td>\n",
              "      <td>4</td>\n",
              "      <td>3</td>\n",
              "      <td>7</td>\n",
              "      <td>1</td>\n",
              "      <td>2</td>\n",
              "    </tr>\n",
              "    <tr>\n",
              "      <th>4</th>\n",
              "      <td>4</td>\n",
              "      <td>1</td>\n",
              "      <td>1</td>\n",
              "      <td>3</td>\n",
              "      <td>2</td>\n",
              "      <td>1</td>\n",
              "      <td>3</td>\n",
              "      <td>1</td>\n",
              "      <td>1</td>\n",
              "      <td>2</td>\n",
              "    </tr>\n",
              "  </tbody>\n",
              "</table>\n",
              "</div>"
            ],
            "text/plain": [
              "   Clump Thickness  Uniformity of Cell Size  ...  Mitoses  Class\n",
              "0                5                        1  ...        1      2\n",
              "1                5                        4  ...        1      2\n",
              "2                3                        1  ...        1      2\n",
              "3                6                        8  ...        1      2\n",
              "4                4                        1  ...        1      2\n",
              "\n",
              "[5 rows x 10 columns]"
            ]
          },
          "metadata": {},
          "execution_count": 310
        }
      ]
    },
    {
      "cell_type": "markdown",
      "metadata": {
        "id": "7yx0x7y4UnZP"
      },
      "source": [
        "# C.\tTry exploring the data and see what insights can be drawn from the dataset.\n",
        "# D.\tProvide appropriate visualization to get an insight about the dataset."
      ]
    },
    {
      "cell_type": "markdown",
      "metadata": {
        "id": "WRcWmD_1nDgG"
      },
      "source": [
        "Plotting a box chart to see how the values of the features are spread out"
      ]
    },
    {
      "cell_type": "code",
      "metadata": {
        "colab": {
          "base_uri": "https://localhost:8080/",
          "height": 229
        },
        "id": "8gtmdjOTh7iR",
        "outputId": "27e3424b-56b8-4032-fffc-39b885b8ff71"
      },
      "source": [
        "%matplotlib inline\n",
        "\n",
        "data.boxplot(figsize=(20,3))"
      ],
      "execution_count": 311,
      "outputs": [
        {
          "output_type": "execute_result",
          "data": {
            "text/plain": [
              "<matplotlib.axes._subplots.AxesSubplot at 0x7fdd34987350>"
            ]
          },
          "metadata": {},
          "execution_count": 311
        },
        {
          "output_type": "display_data",
          "data": {
            "image/png": "[encoded data removed]",
            "text/plain": [
              "<Figure size 1440x216 with 1 Axes>"
            ]
          },
          "metadata": {
            "needs_background": "light"
          }
        }
      ]
    },
    {
      "cell_type": "markdown",
      "metadata": {
        "id": "ZYxv17V3th-w"
      },
      "source": [
        "Check how the clump thickness values are distributed"
      ]
    },
    {
      "cell_type": "code",
      "metadata": {
        "colab": {
          "base_uri": "https://localhost:8080/",
          "height": 456
        },
        "id": "usJYgvGziov8",
        "outputId": "f322dcee-aa25-4e3d-9a47-c04fa45241cd"
      },
      "source": [
        "data['Clump Thickness'].hist(bins=10)\n",
        "data['Clump Thickness'].value_counts(sort=False)"
      ],
      "execution_count": 312,
      "outputs": [
        {
          "output_type": "execute_result",
          "data": {
            "text/plain": [
              "1     145\n",
              "2      50\n",
              "3     108\n",
              "4      80\n",
              "5     130\n",
              "6      34\n",
              "7      23\n",
              "8      46\n",
              "9      14\n",
              "10     69\n",
              "Name: Clump Thickness, dtype: int64"
            ]
          },
          "metadata": {},
          "execution_count": 312
        },
        {
          "output_type": "display_data",
          "data": {
            "image/png": "[encoded data removed]",
            "text/plain": [
              "<Figure size 432x288 with 1 Axes>"
            ]
          },
          "metadata": {
            "needs_background": "light"
          }
        }
      ]
    },
    {
      "cell_type": "markdown",
      "metadata": {
        "id": "GLyGbquHmJye"
      },
      "source": [
        "# 3.\tData Pre-processing and cleaning\n",
        "# A.\tDo the appropriate preprocessing of the data like identifying NULL or Missing Values if any, handling of outliers if present in the dataset, skewed data etc.\n",
        "# B. Applying Feature Transformation techniques\n",
        "\n",
        "\n",
        "> Dropping Class column since it is output column\n",
        "\n",
        "> Replacing \"?\" characters in data with n.NaN. Replacing these missing values with median value\n",
        "\n",
        "> Filling missing values with median value in Bare Nuclei column\n",
        "\n",
        "\n",
        "\n"
      ]
    },
    {
      "cell_type": "code",
      "metadata": {
        "colab": {
          "base_uri": "https://localhost:8080/"
        },
        "id": "JYHBG-7uhpob",
        "outputId": "353b0563-6b07-410e-b3f9-23389b793203"
      },
      "source": [
        "#data = data.drop(['Class'],axis=1)\n",
        "\n",
        "data = data.replace('?',np.NaN)\n",
        "\n",
        "print('Number of missing values:')\n",
        "for col in data.columns:\n",
        "    print('\\t%s: %d' % (col,data[col].isna().sum()))"
      ],
      "execution_count": 313,
      "outputs": [
        {
          "output_type": "stream",
          "text": [
            "Number of missing values:\n",
            "\tClump Thickness: 0\n",
            "\tUniformity of Cell Size: 0\n",
            "\tUniformity of Cell Shape: 0\n",
            "\tMarginal Adhesion: 0\n",
            "\tSingle Epithelial Cell Size: 0\n",
            "\tBare Nuclei: 16\n",
            "\tBland Chromatin: 0\n",
            "\tNormal Nucleoli: 0\n",
            "\tMitoses: 0\n",
            "\tClass: 0\n"
          ],
          "name": "stdout"
        }
      ]
    },
    {
      "cell_type": "code",
      "metadata": {
        "colab": {
          "base_uri": "https://localhost:8080/"
        },
        "id": "pePIikzNhvQe",
        "outputId": "c67c2ace-ca52-492c-be85-9adb8cff71fc"
      },
      "source": [
        "bare_nuclei_data = data['Bare Nuclei']\n",
        "\n",
        "print('Before replacing missing values:')\n",
        "print(bare_nuclei_data[20:25])\n",
        "bare_nuclei_data = bare_nuclei_data.fillna(bare_nuclei_data.median())\n",
        "bare_nuclei_data = pd.to_numeric(bare_nuclei_data)\n",
        "print('\\nAfter replacing missing values:')\n",
        "print(bare_nuclei_data[20:25])"
      ],
      "execution_count": 314,
      "outputs": [
        {
          "output_type": "stream",
          "text": [
            "Before replacing missing values:\n",
            "20     10\n",
            "21      7\n",
            "22      1\n",
            "23    NaN\n",
            "24      1\n",
            "Name: Bare Nuclei, dtype: object\n",
            "\n",
            "After replacing missing values:\n",
            "20    10.0\n",
            "21     7.0\n",
            "22     1.0\n",
            "23     1.0\n",
            "24     1.0\n",
            "Name: Bare Nuclei, dtype: float64\n"
          ],
          "name": "stdout"
        }
      ]
    },
    {
      "cell_type": "code",
      "metadata": {
        "colab": {
          "base_uri": "https://localhost:8080/"
        },
        "id": "-YTMlHR1h2_h",
        "outputId": "3a5ad7f1-7014-4d96-a3d1-522516c11111"
      },
      "source": [
        "print('Number of rows in original data = %d' % (data.shape[0]))\n",
        "data2 = data\n",
        "data2['Bare Nuclei'] = bare_nuclei_data\n",
        "data2 = data2.dropna()\n",
        "print('Number of rows after discarding missing values = %d' % (data2.shape[0]))"
      ],
      "execution_count": 315,
      "outputs": [
        {
          "output_type": "stream",
          "text": [
            "Number of rows in original data = 699\n",
            "Number of rows after discarding missing values = 699\n"
          ],
          "name": "stdout"
        }
      ]
    },
    {
      "cell_type": "code",
      "metadata": {
        "colab": {
          "base_uri": "https://localhost:8080/",
          "height": 223
        },
        "id": "w0cBfV-AiCcs",
        "outputId": "62708bf9-e230-4dc8-ef76-66d946ece096"
      },
      "source": [
        "Z = (data2-data2.mean())/data2.std()\n",
        "Z[20:25]"
      ],
      "execution_count": 316,
      "outputs": [
        {
          "output_type": "execute_result",
          "data": {
            "text/html": [
              "<div>\n",
              "<style scoped>\n",
              "    .dataframe tbody tr th:only-of-type {\n",
              "        vertical-align: middle;\n",
              "    }\n",
              "\n",
              "    .dataframe tbody tr th {\n",
              "        vertical-align: top;\n",
              "    }\n",
              "\n",
              "    .dataframe thead th {\n",
              "        text-align: right;\n",
              "    }\n",
              "</style>\n",
              "<table border=\"1\" class=\"dataframe\">\n",
              "  <thead>\n",
              "    <tr style=\"text-align: right;\">\n",
              "      <th></th>\n",
              "      <th>Clump Thickness</th>\n",
              "      <th>Uniformity of Cell Size</th>\n",
              "      <th>Uniformity of Cell Shape</th>\n",
              "      <th>Marginal Adhesion</th>\n",
              "      <th>Single Epithelial Cell Size</th>\n",
              "      <th>Bare Nuclei</th>\n",
              "      <th>Bland Chromatin</th>\n",
              "      <th>Normal Nucleoli</th>\n",
              "      <th>Mitoses</th>\n",
              "      <th>Class</th>\n",
              "    </tr>\n",
              "  </thead>\n",
              "  <tbody>\n",
              "    <tr>\n",
              "      <th>20</th>\n",
              "      <td>0.917080</td>\n",
              "      <td>-0.044070</td>\n",
              "      <td>-0.406284</td>\n",
              "      <td>2.519152</td>\n",
              "      <td>0.805662</td>\n",
              "      <td>1.798376</td>\n",
              "      <td>0.640688</td>\n",
              "      <td>0.371049</td>\n",
              "      <td>1.405526</td>\n",
              "      <td>1.377569</td>\n",
              "    </tr>\n",
              "    <tr>\n",
              "      <th>21</th>\n",
              "      <td>1.982519</td>\n",
              "      <td>0.611354</td>\n",
              "      <td>0.603167</td>\n",
              "      <td>0.067638</td>\n",
              "      <td>1.257272</td>\n",
              "      <td>0.970088</td>\n",
              "      <td>1.460910</td>\n",
              "      <td>2.335921</td>\n",
              "      <td>-0.343666</td>\n",
              "      <td>1.377569</td>\n",
              "    </tr>\n",
              "    <tr>\n",
              "      <th>22</th>\n",
              "      <td>-0.503505</td>\n",
              "      <td>-0.699494</td>\n",
              "      <td>-0.742767</td>\n",
              "      <td>-0.632794</td>\n",
              "      <td>-0.549168</td>\n",
              "      <td>-0.686488</td>\n",
              "      <td>-0.589645</td>\n",
              "      <td>-0.611387</td>\n",
              "      <td>-0.343666</td>\n",
              "      <td>-0.724878</td>\n",
              "    </tr>\n",
              "    <tr>\n",
              "      <th>23</th>\n",
              "      <td>1.272227</td>\n",
              "      <td>0.283642</td>\n",
              "      <td>0.603167</td>\n",
              "      <td>-0.632794</td>\n",
              "      <td>-0.549168</td>\n",
              "      <td>-0.686488</td>\n",
              "      <td>1.460910</td>\n",
              "      <td>0.043570</td>\n",
              "      <td>-0.343666</td>\n",
              "      <td>1.377569</td>\n",
              "    </tr>\n",
              "    <tr>\n",
              "      <th>24</th>\n",
              "      <td>-1.213798</td>\n",
              "      <td>-0.699494</td>\n",
              "      <td>-0.742767</td>\n",
              "      <td>-0.632794</td>\n",
              "      <td>-0.549168</td>\n",
              "      <td>-0.686488</td>\n",
              "      <td>-0.179534</td>\n",
              "      <td>-0.611387</td>\n",
              "      <td>-0.343666</td>\n",
              "      <td>-0.724878</td>\n",
              "    </tr>\n",
              "  </tbody>\n",
              "</table>\n",
              "</div>"
            ],
            "text/plain": [
              "    Clump Thickness  Uniformity of Cell Size  ...   Mitoses     Class\n",
              "20         0.917080                -0.044070  ...  1.405526  1.377569\n",
              "21         1.982519                 0.611354  ... -0.343666  1.377569\n",
              "22        -0.503505                -0.699494  ... -0.343666 -0.724878\n",
              "23         1.272227                 0.283642  ... -0.343666  1.377569\n",
              "24        -1.213798                -0.699494  ... -0.343666 -0.724878\n",
              "\n",
              "[5 rows x 10 columns]"
            ]
          },
          "metadata": {},
          "execution_count": 316
        }
      ]
    },
    {
      "cell_type": "code",
      "metadata": {
        "colab": {
          "base_uri": "https://localhost:8080/"
        },
        "id": "c5u0rvSkiF_n",
        "outputId": "237f023d-5cac-4ea0-9fe8-9fbd3d36868d"
      },
      "source": [
        "print('Number of rows before discarding outliers = %d' % (Z.shape[0]))\n",
        "\n",
        "Z2 = Z.loc[((Z > -3).sum(axis=1)==9) & ((Z <= 3).sum(axis=1)==9),:]\n",
        "print('Number of rows after discarding missing values = %d' % (Z2.shape[0]))"
      ],
      "execution_count": 317,
      "outputs": [
        {
          "output_type": "stream",
          "text": [
            "Number of rows before discarding outliers = 699\n",
            "Number of rows after discarding missing values = 0\n"
          ],
          "name": "stdout"
        }
      ]
    },
    {
      "cell_type": "code",
      "metadata": {
        "colab": {
          "base_uri": "https://localhost:8080/",
          "height": 147
        },
        "id": "o-RIGWv0iJqi",
        "outputId": "bb6cc429-ad09-4389-872b-5c87abf72344"
      },
      "source": [
        "dups = data2.duplicated()\n",
        "print('Number of duplicate rows = %d' % (dups.sum()))\n",
        "data2.loc[[11,28]]"
      ],
      "execution_count": 318,
      "outputs": [
        {
          "output_type": "stream",
          "text": [
            "Number of duplicate rows = 242\n"
          ],
          "name": "stdout"
        },
        {
          "output_type": "execute_result",
          "data": {
            "text/html": [
              "<div>\n",
              "<style scoped>\n",
              "    .dataframe tbody tr th:only-of-type {\n",
              "        vertical-align: middle;\n",
              "    }\n",
              "\n",
              "    .dataframe tbody tr th {\n",
              "        vertical-align: top;\n",
              "    }\n",
              "\n",
              "    .dataframe thead th {\n",
              "        text-align: right;\n",
              "    }\n",
              "</style>\n",
              "<table border=\"1\" class=\"dataframe\">\n",
              "  <thead>\n",
              "    <tr style=\"text-align: right;\">\n",
              "      <th></th>\n",
              "      <th>Clump Thickness</th>\n",
              "      <th>Uniformity of Cell Size</th>\n",
              "      <th>Uniformity of Cell Shape</th>\n",
              "      <th>Marginal Adhesion</th>\n",
              "      <th>Single Epithelial Cell Size</th>\n",
              "      <th>Bare Nuclei</th>\n",
              "      <th>Bland Chromatin</th>\n",
              "      <th>Normal Nucleoli</th>\n",
              "      <th>Mitoses</th>\n",
              "      <th>Class</th>\n",
              "    </tr>\n",
              "  </thead>\n",
              "  <tbody>\n",
              "    <tr>\n",
              "      <th>11</th>\n",
              "      <td>2</td>\n",
              "      <td>1</td>\n",
              "      <td>1</td>\n",
              "      <td>1</td>\n",
              "      <td>2</td>\n",
              "      <td>1.0</td>\n",
              "      <td>2</td>\n",
              "      <td>1</td>\n",
              "      <td>1</td>\n",
              "      <td>2</td>\n",
              "    </tr>\n",
              "    <tr>\n",
              "      <th>28</th>\n",
              "      <td>2</td>\n",
              "      <td>1</td>\n",
              "      <td>1</td>\n",
              "      <td>1</td>\n",
              "      <td>2</td>\n",
              "      <td>1.0</td>\n",
              "      <td>2</td>\n",
              "      <td>1</td>\n",
              "      <td>1</td>\n",
              "      <td>2</td>\n",
              "    </tr>\n",
              "  </tbody>\n",
              "</table>\n",
              "</div>"
            ],
            "text/plain": [
              "    Clump Thickness  Uniformity of Cell Size  ...  Mitoses  Class\n",
              "11                2                        1  ...        1      2\n",
              "28                2                        1  ...        1      2\n",
              "\n",
              "[2 rows x 10 columns]"
            ]
          },
          "metadata": {},
          "execution_count": 318
        }
      ]
    },
    {
      "cell_type": "markdown",
      "metadata": {
        "id": "zwPt61UlnXLV"
      },
      "source": [
        "Removing duplicate rows"
      ]
    },
    {
      "cell_type": "code",
      "metadata": {
        "colab": {
          "base_uri": "https://localhost:8080/",
          "height": 441
        },
        "id": "lN2IWTIdiMwr",
        "outputId": "6c0b9866-1217-47c0-b7fb-7ac0e56bf3a7"
      },
      "source": [
        "data2.drop_duplicates()"
      ],
      "execution_count": 319,
      "outputs": [
        {
          "output_type": "execute_result",
          "data": {
            "text/html": [
              "<div>\n",
              "<style scoped>\n",
              "    .dataframe tbody tr th:only-of-type {\n",
              "        vertical-align: middle;\n",
              "    }\n",
              "\n",
              "    .dataframe tbody tr th {\n",
              "        vertical-align: top;\n",
              "    }\n",
              "\n",
              "    .dataframe thead th {\n",
              "        text-align: right;\n",
              "    }\n",
              "</style>\n",
              "<table border=\"1\" class=\"dataframe\">\n",
              "  <thead>\n",
              "    <tr style=\"text-align: right;\">\n",
              "      <th></th>\n",
              "      <th>Clump Thickness</th>\n",
              "      <th>Uniformity of Cell Size</th>\n",
              "      <th>Uniformity of Cell Shape</th>\n",
              "      <th>Marginal Adhesion</th>\n",
              "      <th>Single Epithelial Cell Size</th>\n",
              "      <th>Bare Nuclei</th>\n",
              "      <th>Bland Chromatin</th>\n",
              "      <th>Normal Nucleoli</th>\n",
              "      <th>Mitoses</th>\n",
              "      <th>Class</th>\n",
              "    </tr>\n",
              "  </thead>\n",
              "  <tbody>\n",
              "    <tr>\n",
              "      <th>0</th>\n",
              "      <td>5</td>\n",
              "      <td>1</td>\n",
              "      <td>1</td>\n",
              "      <td>1</td>\n",
              "      <td>2</td>\n",
              "      <td>1.0</td>\n",
              "      <td>3</td>\n",
              "      <td>1</td>\n",
              "      <td>1</td>\n",
              "      <td>2</td>\n",
              "    </tr>\n",
              "    <tr>\n",
              "      <th>1</th>\n",
              "      <td>5</td>\n",
              "      <td>4</td>\n",
              "      <td>4</td>\n",
              "      <td>5</td>\n",
              "      <td>7</td>\n",
              "      <td>10.0</td>\n",
              "      <td>3</td>\n",
              "      <td>2</td>\n",
              "      <td>1</td>\n",
              "      <td>2</td>\n",
              "    </tr>\n",
              "    <tr>\n",
              "      <th>2</th>\n",
              "      <td>3</td>\n",
              "      <td>1</td>\n",
              "      <td>1</td>\n",
              "      <td>1</td>\n",
              "      <td>2</td>\n",
              "      <td>2.0</td>\n",
              "      <td>3</td>\n",
              "      <td>1</td>\n",
              "      <td>1</td>\n",
              "      <td>2</td>\n",
              "    </tr>\n",
              "    <tr>\n",
              "      <th>3</th>\n",
              "      <td>6</td>\n",
              "      <td>8</td>\n",
              "      <td>8</td>\n",
              "      <td>1</td>\n",
              "      <td>3</td>\n",
              "      <td>4.0</td>\n",
              "      <td>3</td>\n",
              "      <td>7</td>\n",
              "      <td>1</td>\n",
              "      <td>2</td>\n",
              "    </tr>\n",
              "    <tr>\n",
              "      <th>4</th>\n",
              "      <td>4</td>\n",
              "      <td>1</td>\n",
              "      <td>1</td>\n",
              "      <td>3</td>\n",
              "      <td>2</td>\n",
              "      <td>1.0</td>\n",
              "      <td>3</td>\n",
              "      <td>1</td>\n",
              "      <td>1</td>\n",
              "      <td>2</td>\n",
              "    </tr>\n",
              "    <tr>\n",
              "      <th>...</th>\n",
              "      <td>...</td>\n",
              "      <td>...</td>\n",
              "      <td>...</td>\n",
              "      <td>...</td>\n",
              "      <td>...</td>\n",
              "      <td>...</td>\n",
              "      <td>...</td>\n",
              "      <td>...</td>\n",
              "      <td>...</td>\n",
              "      <td>...</td>\n",
              "    </tr>\n",
              "    <tr>\n",
              "      <th>693</th>\n",
              "      <td>3</td>\n",
              "      <td>1</td>\n",
              "      <td>1</td>\n",
              "      <td>1</td>\n",
              "      <td>2</td>\n",
              "      <td>1.0</td>\n",
              "      <td>2</td>\n",
              "      <td>1</td>\n",
              "      <td>2</td>\n",
              "      <td>2</td>\n",
              "    </tr>\n",
              "    <tr>\n",
              "      <th>694</th>\n",
              "      <td>3</td>\n",
              "      <td>1</td>\n",
              "      <td>1</td>\n",
              "      <td>1</td>\n",
              "      <td>3</td>\n",
              "      <td>2.0</td>\n",
              "      <td>1</td>\n",
              "      <td>1</td>\n",
              "      <td>1</td>\n",
              "      <td>2</td>\n",
              "    </tr>\n",
              "    <tr>\n",
              "      <th>696</th>\n",
              "      <td>5</td>\n",
              "      <td>10</td>\n",
              "      <td>10</td>\n",
              "      <td>3</td>\n",
              "      <td>7</td>\n",
              "      <td>3.0</td>\n",
              "      <td>8</td>\n",
              "      <td>10</td>\n",
              "      <td>2</td>\n",
              "      <td>4</td>\n",
              "    </tr>\n",
              "    <tr>\n",
              "      <th>697</th>\n",
              "      <td>4</td>\n",
              "      <td>8</td>\n",
              "      <td>6</td>\n",
              "      <td>4</td>\n",
              "      <td>3</td>\n",
              "      <td>4.0</td>\n",
              "      <td>10</td>\n",
              "      <td>6</td>\n",
              "      <td>1</td>\n",
              "      <td>4</td>\n",
              "    </tr>\n",
              "    <tr>\n",
              "      <th>698</th>\n",
              "      <td>4</td>\n",
              "      <td>8</td>\n",
              "      <td>8</td>\n",
              "      <td>5</td>\n",
              "      <td>4</td>\n",
              "      <td>5.0</td>\n",
              "      <td>10</td>\n",
              "      <td>4</td>\n",
              "      <td>1</td>\n",
              "      <td>4</td>\n",
              "    </tr>\n",
              "  </tbody>\n",
              "</table>\n",
              "<p>457 rows × 10 columns</p>\n",
              "</div>"
            ],
            "text/plain": [
              "     Clump Thickness  Uniformity of Cell Size  ...  Mitoses  Class\n",
              "0                  5                        1  ...        1      2\n",
              "1                  5                        4  ...        1      2\n",
              "2                  3                        1  ...        1      2\n",
              "3                  6                        8  ...        1      2\n",
              "4                  4                        1  ...        1      2\n",
              "..               ...                      ...  ...      ...    ...\n",
              "693                3                        1  ...        2      2\n",
              "694                3                        1  ...        1      2\n",
              "696                5                       10  ...        2      4\n",
              "697                4                        8  ...        1      4\n",
              "698                4                        8  ...        1      4\n",
              "\n",
              "[457 rows x 10 columns]"
            ]
          },
          "metadata": {},
          "execution_count": 319
        }
      ]
    },
    {
      "cell_type": "code",
      "metadata": {
        "colab": {
          "base_uri": "https://localhost:8080/",
          "height": 161
        },
        "id": "IWUv1GTnieI_",
        "outputId": "de145763-b4ba-4062-b0f6-f182b6617f90"
      },
      "source": [
        "sample = data2.sample(n=3)\n",
        "sample"
      ],
      "execution_count": 320,
      "outputs": [
        {
          "output_type": "execute_result",
          "data": {
            "text/html": [
              "<div>\n",
              "<style scoped>\n",
              "    .dataframe tbody tr th:only-of-type {\n",
              "        vertical-align: middle;\n",
              "    }\n",
              "\n",
              "    .dataframe tbody tr th {\n",
              "        vertical-align: top;\n",
              "    }\n",
              "\n",
              "    .dataframe thead th {\n",
              "        text-align: right;\n",
              "    }\n",
              "</style>\n",
              "<table border=\"1\" class=\"dataframe\">\n",
              "  <thead>\n",
              "    <tr style=\"text-align: right;\">\n",
              "      <th></th>\n",
              "      <th>Clump Thickness</th>\n",
              "      <th>Uniformity of Cell Size</th>\n",
              "      <th>Uniformity of Cell Shape</th>\n",
              "      <th>Marginal Adhesion</th>\n",
              "      <th>Single Epithelial Cell Size</th>\n",
              "      <th>Bare Nuclei</th>\n",
              "      <th>Bland Chromatin</th>\n",
              "      <th>Normal Nucleoli</th>\n",
              "      <th>Mitoses</th>\n",
              "      <th>Class</th>\n",
              "    </tr>\n",
              "  </thead>\n",
              "  <tbody>\n",
              "    <tr>\n",
              "      <th>383</th>\n",
              "      <td>2</td>\n",
              "      <td>1</td>\n",
              "      <td>1</td>\n",
              "      <td>1</td>\n",
              "      <td>2</td>\n",
              "      <td>1.0</td>\n",
              "      <td>1</td>\n",
              "      <td>1</td>\n",
              "      <td>1</td>\n",
              "      <td>2</td>\n",
              "    </tr>\n",
              "    <tr>\n",
              "      <th>41</th>\n",
              "      <td>10</td>\n",
              "      <td>4</td>\n",
              "      <td>3</td>\n",
              "      <td>1</td>\n",
              "      <td>3</td>\n",
              "      <td>3.0</td>\n",
              "      <td>6</td>\n",
              "      <td>5</td>\n",
              "      <td>2</td>\n",
              "      <td>4</td>\n",
              "    </tr>\n",
              "    <tr>\n",
              "      <th>127</th>\n",
              "      <td>3</td>\n",
              "      <td>1</td>\n",
              "      <td>1</td>\n",
              "      <td>1</td>\n",
              "      <td>2</td>\n",
              "      <td>1.0</td>\n",
              "      <td>3</td>\n",
              "      <td>1</td>\n",
              "      <td>1</td>\n",
              "      <td>2</td>\n",
              "    </tr>\n",
              "  </tbody>\n",
              "</table>\n",
              "</div>"
            ],
            "text/plain": [
              "     Clump Thickness  Uniformity of Cell Size  ...  Mitoses  Class\n",
              "383                2                        1  ...        1      2\n",
              "41                10                        4  ...        2      4\n",
              "127                3                        1  ...        1      2\n",
              "\n",
              "[3 rows x 10 columns]"
            ]
          },
          "metadata": {},
          "execution_count": 320
        }
      ]
    },
    {
      "cell_type": "code",
      "metadata": {
        "colab": {
          "base_uri": "https://localhost:8080/",
          "height": 286
        },
        "id": "lotcFTB0ih-U",
        "outputId": "71bfb4ca-cdbd-452b-8107-9db670f9f5b7"
      },
      "source": [
        "sample = data2.sample(frac=0.01, random_state=1)\n",
        "sample"
      ],
      "execution_count": 321,
      "outputs": [
        {
          "output_type": "execute_result",
          "data": {
            "text/html": [
              "<div>\n",
              "<style scoped>\n",
              "    .dataframe tbody tr th:only-of-type {\n",
              "        vertical-align: middle;\n",
              "    }\n",
              "\n",
              "    .dataframe tbody tr th {\n",
              "        vertical-align: top;\n",
              "    }\n",
              "\n",
              "    .dataframe thead th {\n",
              "        text-align: right;\n",
              "    }\n",
              "</style>\n",
              "<table border=\"1\" class=\"dataframe\">\n",
              "  <thead>\n",
              "    <tr style=\"text-align: right;\">\n",
              "      <th></th>\n",
              "      <th>Clump Thickness</th>\n",
              "      <th>Uniformity of Cell Size</th>\n",
              "      <th>Uniformity of Cell Shape</th>\n",
              "      <th>Marginal Adhesion</th>\n",
              "      <th>Single Epithelial Cell Size</th>\n",
              "      <th>Bare Nuclei</th>\n",
              "      <th>Bland Chromatin</th>\n",
              "      <th>Normal Nucleoli</th>\n",
              "      <th>Mitoses</th>\n",
              "      <th>Class</th>\n",
              "    </tr>\n",
              "  </thead>\n",
              "  <tbody>\n",
              "    <tr>\n",
              "      <th>584</th>\n",
              "      <td>5</td>\n",
              "      <td>1</td>\n",
              "      <td>1</td>\n",
              "      <td>6</td>\n",
              "      <td>3</td>\n",
              "      <td>1.0</td>\n",
              "      <td>1</td>\n",
              "      <td>1</td>\n",
              "      <td>1</td>\n",
              "      <td>2</td>\n",
              "    </tr>\n",
              "    <tr>\n",
              "      <th>417</th>\n",
              "      <td>1</td>\n",
              "      <td>1</td>\n",
              "      <td>1</td>\n",
              "      <td>1</td>\n",
              "      <td>2</td>\n",
              "      <td>1.0</td>\n",
              "      <td>2</td>\n",
              "      <td>1</td>\n",
              "      <td>1</td>\n",
              "      <td>2</td>\n",
              "    </tr>\n",
              "    <tr>\n",
              "      <th>606</th>\n",
              "      <td>4</td>\n",
              "      <td>1</td>\n",
              "      <td>1</td>\n",
              "      <td>2</td>\n",
              "      <td>2</td>\n",
              "      <td>1.0</td>\n",
              "      <td>1</td>\n",
              "      <td>1</td>\n",
              "      <td>1</td>\n",
              "      <td>2</td>\n",
              "    </tr>\n",
              "    <tr>\n",
              "      <th>349</th>\n",
              "      <td>4</td>\n",
              "      <td>2</td>\n",
              "      <td>3</td>\n",
              "      <td>5</td>\n",
              "      <td>3</td>\n",
              "      <td>8.0</td>\n",
              "      <td>7</td>\n",
              "      <td>6</td>\n",
              "      <td>1</td>\n",
              "      <td>4</td>\n",
              "    </tr>\n",
              "    <tr>\n",
              "      <th>134</th>\n",
              "      <td>3</td>\n",
              "      <td>1</td>\n",
              "      <td>1</td>\n",
              "      <td>1</td>\n",
              "      <td>3</td>\n",
              "      <td>1.0</td>\n",
              "      <td>2</td>\n",
              "      <td>1</td>\n",
              "      <td>1</td>\n",
              "      <td>2</td>\n",
              "    </tr>\n",
              "    <tr>\n",
              "      <th>502</th>\n",
              "      <td>4</td>\n",
              "      <td>1</td>\n",
              "      <td>1</td>\n",
              "      <td>2</td>\n",
              "      <td>2</td>\n",
              "      <td>1.0</td>\n",
              "      <td>2</td>\n",
              "      <td>1</td>\n",
              "      <td>1</td>\n",
              "      <td>2</td>\n",
              "    </tr>\n",
              "    <tr>\n",
              "      <th>117</th>\n",
              "      <td>4</td>\n",
              "      <td>5</td>\n",
              "      <td>5</td>\n",
              "      <td>10</td>\n",
              "      <td>4</td>\n",
              "      <td>10.0</td>\n",
              "      <td>7</td>\n",
              "      <td>5</td>\n",
              "      <td>8</td>\n",
              "      <td>4</td>\n",
              "    </tr>\n",
              "  </tbody>\n",
              "</table>\n",
              "</div>"
            ],
            "text/plain": [
              "     Clump Thickness  Uniformity of Cell Size  ...  Mitoses  Class\n",
              "584                5                        1  ...        1      2\n",
              "417                1                        1  ...        1      2\n",
              "606                4                        1  ...        1      2\n",
              "349                4                        2  ...        1      4\n",
              "134                3                        1  ...        1      2\n",
              "502                4                        1  ...        1      2\n",
              "117                4                        5  ...        8      4\n",
              "\n",
              "[7 rows x 10 columns]"
            ]
          },
          "metadata": {},
          "execution_count": 321
        }
      ]
    },
    {
      "cell_type": "code",
      "metadata": {
        "colab": {
          "base_uri": "https://localhost:8080/",
          "height": 286
        },
        "id": "f6kjqXBNilrb",
        "outputId": "9a21a28f-cc45-4b13-c129-9bfef7933b80"
      },
      "source": [
        "sample = data2.sample(frac=0.01, replace=True, random_state=1)\n",
        "sample"
      ],
      "execution_count": 322,
      "outputs": [
        {
          "output_type": "execute_result",
          "data": {
            "text/html": [
              "<div>\n",
              "<style scoped>\n",
              "    .dataframe tbody tr th:only-of-type {\n",
              "        vertical-align: middle;\n",
              "    }\n",
              "\n",
              "    .dataframe tbody tr th {\n",
              "        vertical-align: top;\n",
              "    }\n",
              "\n",
              "    .dataframe thead th {\n",
              "        text-align: right;\n",
              "    }\n",
              "</style>\n",
              "<table border=\"1\" class=\"dataframe\">\n",
              "  <thead>\n",
              "    <tr style=\"text-align: right;\">\n",
              "      <th></th>\n",
              "      <th>Clump Thickness</th>\n",
              "      <th>Uniformity of Cell Size</th>\n",
              "      <th>Uniformity of Cell Shape</th>\n",
              "      <th>Marginal Adhesion</th>\n",
              "      <th>Single Epithelial Cell Size</th>\n",
              "      <th>Bare Nuclei</th>\n",
              "      <th>Bland Chromatin</th>\n",
              "      <th>Normal Nucleoli</th>\n",
              "      <th>Mitoses</th>\n",
              "      <th>Class</th>\n",
              "    </tr>\n",
              "  </thead>\n",
              "  <tbody>\n",
              "    <tr>\n",
              "      <th>37</th>\n",
              "      <td>6</td>\n",
              "      <td>2</td>\n",
              "      <td>1</td>\n",
              "      <td>1</td>\n",
              "      <td>1</td>\n",
              "      <td>1.0</td>\n",
              "      <td>7</td>\n",
              "      <td>1</td>\n",
              "      <td>1</td>\n",
              "      <td>2</td>\n",
              "    </tr>\n",
              "    <tr>\n",
              "      <th>235</th>\n",
              "      <td>3</td>\n",
              "      <td>1</td>\n",
              "      <td>4</td>\n",
              "      <td>1</td>\n",
              "      <td>2</td>\n",
              "      <td>1.0</td>\n",
              "      <td>3</td>\n",
              "      <td>1</td>\n",
              "      <td>1</td>\n",
              "      <td>2</td>\n",
              "    </tr>\n",
              "    <tr>\n",
              "      <th>72</th>\n",
              "      <td>1</td>\n",
              "      <td>3</td>\n",
              "      <td>3</td>\n",
              "      <td>2</td>\n",
              "      <td>2</td>\n",
              "      <td>1.0</td>\n",
              "      <td>7</td>\n",
              "      <td>2</td>\n",
              "      <td>1</td>\n",
              "      <td>2</td>\n",
              "    </tr>\n",
              "    <tr>\n",
              "      <th>645</th>\n",
              "      <td>3</td>\n",
              "      <td>1</td>\n",
              "      <td>1</td>\n",
              "      <td>1</td>\n",
              "      <td>2</td>\n",
              "      <td>1.0</td>\n",
              "      <td>2</td>\n",
              "      <td>1</td>\n",
              "      <td>1</td>\n",
              "      <td>2</td>\n",
              "    </tr>\n",
              "    <tr>\n",
              "      <th>144</th>\n",
              "      <td>2</td>\n",
              "      <td>1</td>\n",
              "      <td>1</td>\n",
              "      <td>1</td>\n",
              "      <td>2</td>\n",
              "      <td>1.0</td>\n",
              "      <td>2</td>\n",
              "      <td>1</td>\n",
              "      <td>1</td>\n",
              "      <td>2</td>\n",
              "    </tr>\n",
              "    <tr>\n",
              "      <th>129</th>\n",
              "      <td>1</td>\n",
              "      <td>1</td>\n",
              "      <td>1</td>\n",
              "      <td>1</td>\n",
              "      <td>10</td>\n",
              "      <td>1.0</td>\n",
              "      <td>1</td>\n",
              "      <td>1</td>\n",
              "      <td>1</td>\n",
              "      <td>2</td>\n",
              "    </tr>\n",
              "    <tr>\n",
              "      <th>583</th>\n",
              "      <td>3</td>\n",
              "      <td>1</td>\n",
              "      <td>1</td>\n",
              "      <td>1</td>\n",
              "      <td>2</td>\n",
              "      <td>1.0</td>\n",
              "      <td>1</td>\n",
              "      <td>1</td>\n",
              "      <td>1</td>\n",
              "      <td>2</td>\n",
              "    </tr>\n",
              "  </tbody>\n",
              "</table>\n",
              "</div>"
            ],
            "text/plain": [
              "     Clump Thickness  Uniformity of Cell Size  ...  Mitoses  Class\n",
              "37                 6                        2  ...        1      2\n",
              "235                3                        1  ...        1      2\n",
              "72                 1                        3  ...        1      2\n",
              "645                3                        1  ...        1      2\n",
              "144                2                        1  ...        1      2\n",
              "129                1                        1  ...        1      2\n",
              "583                3                        1  ...        1      2\n",
              "\n",
              "[7 rows x 10 columns]"
            ]
          },
          "metadata": {},
          "execution_count": 322
        }
      ]
    },
    {
      "cell_type": "code",
      "metadata": {
        "colab": {
          "base_uri": "https://localhost:8080/"
        },
        "id": "GAHQkpukittO",
        "outputId": "e9b9e5a9-f47a-4b9b-9c83-fd81e51f2ec4"
      },
      "source": [
        "bins = pd.cut(data['Clump Thickness'],4)\n",
        "bins.value_counts(sort=False)"
      ],
      "execution_count": 323,
      "outputs": [
        {
          "output_type": "execute_result",
          "data": {
            "text/plain": [
              "(0.991, 3.25]    303\n",
              "(3.25, 5.5]      210\n",
              "(5.5, 7.75]       57\n",
              "(7.75, 10.0]     129\n",
              "Name: Clump Thickness, dtype: int64"
            ]
          },
          "metadata": {},
          "execution_count": 323
        }
      ]
    },
    {
      "cell_type": "markdown",
      "metadata": {
        "id": "PCo2TtUsbvSZ"
      },
      "source": [
        "s"
      ]
    },
    {
      "cell_type": "markdown",
      "metadata": {
        "id": "q2Nh6h73sobL"
      },
      "source": [
        "# 3 C .\tCorrelational analysis on the dataset and visualization\n"
      ]
    },
    {
      "cell_type": "code",
      "metadata": {
        "colab": {
          "base_uri": "https://localhost:8080/",
          "height": 501
        },
        "id": "chaQiU9aqPMq",
        "outputId": "e07069a8-6b3d-47d7-a4c9-bcef847276e7"
      },
      "source": [
        "# Check the correlation in the data\n",
        "data.corr()"
      ],
      "execution_count": 324,
      "outputs": [
        {
          "output_type": "execute_result",
          "data": {
            "text/html": [
              "<div>\n",
              "<style scoped>\n",
              "    .dataframe tbody tr th:only-of-type {\n",
              "        vertical-align: middle;\n",
              "    }\n",
              "\n",
              "    .dataframe tbody tr th {\n",
              "        vertical-align: top;\n",
              "    }\n",
              "\n",
              "    .dataframe thead th {\n",
              "        text-align: right;\n",
              "    }\n",
              "</style>\n",
              "<table border=\"1\" class=\"dataframe\">\n",
              "  <thead>\n",
              "    <tr style=\"text-align: right;\">\n",
              "      <th></th>\n",
              "      <th>Clump Thickness</th>\n",
              "      <th>Uniformity of Cell Size</th>\n",
              "      <th>Uniformity of Cell Shape</th>\n",
              "      <th>Marginal Adhesion</th>\n",
              "      <th>Single Epithelial Cell Size</th>\n",
              "      <th>Bare Nuclei</th>\n",
              "      <th>Bland Chromatin</th>\n",
              "      <th>Normal Nucleoli</th>\n",
              "      <th>Mitoses</th>\n",
              "      <th>Class</th>\n",
              "    </tr>\n",
              "  </thead>\n",
              "  <tbody>\n",
              "    <tr>\n",
              "      <th>Clump Thickness</th>\n",
              "      <td>1.000000</td>\n",
              "      <td>0.644913</td>\n",
              "      <td>0.654589</td>\n",
              "      <td>0.486356</td>\n",
              "      <td>0.521816</td>\n",
              "      <td>0.590008</td>\n",
              "      <td>0.558428</td>\n",
              "      <td>0.535835</td>\n",
              "      <td>0.350034</td>\n",
              "      <td>0.716001</td>\n",
              "    </tr>\n",
              "    <tr>\n",
              "      <th>Uniformity of Cell Size</th>\n",
              "      <td>0.644913</td>\n",
              "      <td>1.000000</td>\n",
              "      <td>0.906882</td>\n",
              "      <td>0.705582</td>\n",
              "      <td>0.751799</td>\n",
              "      <td>0.686673</td>\n",
              "      <td>0.755721</td>\n",
              "      <td>0.722865</td>\n",
              "      <td>0.458693</td>\n",
              "      <td>0.817904</td>\n",
              "    </tr>\n",
              "    <tr>\n",
              "      <th>Uniformity of Cell Shape</th>\n",
              "      <td>0.654589</td>\n",
              "      <td>0.906882</td>\n",
              "      <td>1.000000</td>\n",
              "      <td>0.683079</td>\n",
              "      <td>0.719668</td>\n",
              "      <td>0.707474</td>\n",
              "      <td>0.735948</td>\n",
              "      <td>0.719446</td>\n",
              "      <td>0.438911</td>\n",
              "      <td>0.818934</td>\n",
              "    </tr>\n",
              "    <tr>\n",
              "      <th>Marginal Adhesion</th>\n",
              "      <td>0.486356</td>\n",
              "      <td>0.705582</td>\n",
              "      <td>0.683079</td>\n",
              "      <td>1.000000</td>\n",
              "      <td>0.599599</td>\n",
              "      <td>0.666971</td>\n",
              "      <td>0.666715</td>\n",
              "      <td>0.603352</td>\n",
              "      <td>0.417633</td>\n",
              "      <td>0.696800</td>\n",
              "    </tr>\n",
              "    <tr>\n",
              "      <th>Single Epithelial Cell Size</th>\n",
              "      <td>0.521816</td>\n",
              "      <td>0.751799</td>\n",
              "      <td>0.719668</td>\n",
              "      <td>0.599599</td>\n",
              "      <td>1.000000</td>\n",
              "      <td>0.583701</td>\n",
              "      <td>0.616102</td>\n",
              "      <td>0.628881</td>\n",
              "      <td>0.479101</td>\n",
              "      <td>0.682785</td>\n",
              "    </tr>\n",
              "    <tr>\n",
              "      <th>Bare Nuclei</th>\n",
              "      <td>0.590008</td>\n",
              "      <td>0.686673</td>\n",
              "      <td>0.707474</td>\n",
              "      <td>0.666971</td>\n",
              "      <td>0.583701</td>\n",
              "      <td>1.000000</td>\n",
              "      <td>0.674215</td>\n",
              "      <td>0.574778</td>\n",
              "      <td>0.342397</td>\n",
              "      <td>0.818968</td>\n",
              "    </tr>\n",
              "    <tr>\n",
              "      <th>Bland Chromatin</th>\n",
              "      <td>0.558428</td>\n",
              "      <td>0.755721</td>\n",
              "      <td>0.735948</td>\n",
              "      <td>0.666715</td>\n",
              "      <td>0.616102</td>\n",
              "      <td>0.674215</td>\n",
              "      <td>1.000000</td>\n",
              "      <td>0.665878</td>\n",
              "      <td>0.344169</td>\n",
              "      <td>0.756616</td>\n",
              "    </tr>\n",
              "    <tr>\n",
              "      <th>Normal Nucleoli</th>\n",
              "      <td>0.535835</td>\n",
              "      <td>0.722865</td>\n",
              "      <td>0.719446</td>\n",
              "      <td>0.603352</td>\n",
              "      <td>0.628881</td>\n",
              "      <td>0.574778</td>\n",
              "      <td>0.665878</td>\n",
              "      <td>1.000000</td>\n",
              "      <td>0.428336</td>\n",
              "      <td>0.712244</td>\n",
              "    </tr>\n",
              "    <tr>\n",
              "      <th>Mitoses</th>\n",
              "      <td>0.350034</td>\n",
              "      <td>0.458693</td>\n",
              "      <td>0.438911</td>\n",
              "      <td>0.417633</td>\n",
              "      <td>0.479101</td>\n",
              "      <td>0.342397</td>\n",
              "      <td>0.344169</td>\n",
              "      <td>0.428336</td>\n",
              "      <td>1.000000</td>\n",
              "      <td>0.423170</td>\n",
              "    </tr>\n",
              "    <tr>\n",
              "      <th>Class</th>\n",
              "      <td>0.716001</td>\n",
              "      <td>0.817904</td>\n",
              "      <td>0.818934</td>\n",
              "      <td>0.696800</td>\n",
              "      <td>0.682785</td>\n",
              "      <td>0.818968</td>\n",
              "      <td>0.756616</td>\n",
              "      <td>0.712244</td>\n",
              "      <td>0.423170</td>\n",
              "      <td>1.000000</td>\n",
              "    </tr>\n",
              "  </tbody>\n",
              "</table>\n",
              "</div>"
            ],
            "text/plain": [
              "                             Clump Thickness  ...     Class\n",
              "Clump Thickness                     1.000000  ...  0.716001\n",
              "Uniformity of Cell Size             0.644913  ...  0.817904\n",
              "Uniformity of Cell Shape            0.654589  ...  0.818934\n",
              "Marginal Adhesion                   0.486356  ...  0.696800\n",
              "Single Epithelial Cell Size         0.521816  ...  0.682785\n",
              "Bare Nuclei                         0.590008  ...  0.818968\n",
              "Bland Chromatin                     0.558428  ...  0.756616\n",
              "Normal Nucleoli                     0.535835  ...  0.712244\n",
              "Mitoses                             0.350034  ...  0.423170\n",
              "Class                               0.716001  ...  1.000000\n",
              "\n",
              "[10 rows x 10 columns]"
            ]
          },
          "metadata": {},
          "execution_count": 324
        }
      ]
    },
    {
      "cell_type": "code",
      "metadata": {
        "colab": {
          "base_uri": "https://localhost:8080/",
          "height": 403
        },
        "id": "qZfh1Go-rL7j",
        "outputId": "d581612d-551a-4fcd-fcc5-52e146dc18a1"
      },
      "source": [
        "sns.heatmap(data.corr(), square = True)"
      ],
      "execution_count": 325,
      "outputs": [
        {
          "output_type": "execute_result",
          "data": {
            "text/plain": [
              "<matplotlib.axes._subplots.AxesSubplot at 0x7fdd31e14c90>"
            ]
          },
          "metadata": {},
          "execution_count": 325
        },
        {
          "output_type": "display_data",
          "data": {
            "image/png": "[encoded data removed]",
            "text/plain": [
              "<Figure size 432x288 with 2 Axes>"
            ]
          },
          "metadata": {
            "needs_background": "light"
          }
        }
      ]
    },
    {
      "cell_type": "markdown",
      "metadata": {
        "id": "u_lDsy9LrcyE"
      },
      "source": [
        "# 3B Applying Feature Reduction techniques\n",
        "# Features \"Uniformity of Cell Size\" and \"Uniformity of Cell Shape\" are highly correlated. So dropping the feature \"Uniformity of Cell Size\"\n"
      ]
    },
    {
      "cell_type": "code",
      "metadata": {
        "colab": {
          "base_uri": "https://localhost:8080/",
          "height": 441
        },
        "id": "L3aYGMO8rcPE",
        "outputId": "2f703547-813d-448f-9d97-bc1742afa84c"
      },
      "source": [
        "data2.drop(['Uniformity of Cell Size'],axis=1)"
      ],
      "execution_count": 326,
      "outputs": [
        {
          "output_type": "execute_result",
          "data": {
            "text/html": [
              "<div>\n",
              "<style scoped>\n",
              "    .dataframe tbody tr th:only-of-type {\n",
              "        vertical-align: middle;\n",
              "    }\n",
              "\n",
              "    .dataframe tbody tr th {\n",
              "        vertical-align: top;\n",
              "    }\n",
              "\n",
              "    .dataframe thead th {\n",
              "        text-align: right;\n",
              "    }\n",
              "</style>\n",
              "<table border=\"1\" class=\"dataframe\">\n",
              "  <thead>\n",
              "    <tr style=\"text-align: right;\">\n",
              "      <th></th>\n",
              "      <th>Clump Thickness</th>\n",
              "      <th>Uniformity of Cell Shape</th>\n",
              "      <th>Marginal Adhesion</th>\n",
              "      <th>Single Epithelial Cell Size</th>\n",
              "      <th>Bare Nuclei</th>\n",
              "      <th>Bland Chromatin</th>\n",
              "      <th>Normal Nucleoli</th>\n",
              "      <th>Mitoses</th>\n",
              "      <th>Class</th>\n",
              "    </tr>\n",
              "  </thead>\n",
              "  <tbody>\n",
              "    <tr>\n",
              "      <th>0</th>\n",
              "      <td>5</td>\n",
              "      <td>1</td>\n",
              "      <td>1</td>\n",
              "      <td>2</td>\n",
              "      <td>1.0</td>\n",
              "      <td>3</td>\n",
              "      <td>1</td>\n",
              "      <td>1</td>\n",
              "      <td>2</td>\n",
              "    </tr>\n",
              "    <tr>\n",
              "      <th>1</th>\n",
              "      <td>5</td>\n",
              "      <td>4</td>\n",
              "      <td>5</td>\n",
              "      <td>7</td>\n",
              "      <td>10.0</td>\n",
              "      <td>3</td>\n",
              "      <td>2</td>\n",
              "      <td>1</td>\n",
              "      <td>2</td>\n",
              "    </tr>\n",
              "    <tr>\n",
              "      <th>2</th>\n",
              "      <td>3</td>\n",
              "      <td>1</td>\n",
              "      <td>1</td>\n",
              "      <td>2</td>\n",
              "      <td>2.0</td>\n",
              "      <td>3</td>\n",
              "      <td>1</td>\n",
              "      <td>1</td>\n",
              "      <td>2</td>\n",
              "    </tr>\n",
              "    <tr>\n",
              "      <th>3</th>\n",
              "      <td>6</td>\n",
              "      <td>8</td>\n",
              "      <td>1</td>\n",
              "      <td>3</td>\n",
              "      <td>4.0</td>\n",
              "      <td>3</td>\n",
              "      <td>7</td>\n",
              "      <td>1</td>\n",
              "      <td>2</td>\n",
              "    </tr>\n",
              "    <tr>\n",
              "      <th>4</th>\n",
              "      <td>4</td>\n",
              "      <td>1</td>\n",
              "      <td>3</td>\n",
              "      <td>2</td>\n",
              "      <td>1.0</td>\n",
              "      <td>3</td>\n",
              "      <td>1</td>\n",
              "      <td>1</td>\n",
              "      <td>2</td>\n",
              "    </tr>\n",
              "    <tr>\n",
              "      <th>...</th>\n",
              "      <td>...</td>\n",
              "      <td>...</td>\n",
              "      <td>...</td>\n",
              "      <td>...</td>\n",
              "      <td>...</td>\n",
              "      <td>...</td>\n",
              "      <td>...</td>\n",
              "      <td>...</td>\n",
              "      <td>...</td>\n",
              "    </tr>\n",
              "    <tr>\n",
              "      <th>694</th>\n",
              "      <td>3</td>\n",
              "      <td>1</td>\n",
              "      <td>1</td>\n",
              "      <td>3</td>\n",
              "      <td>2.0</td>\n",
              "      <td>1</td>\n",
              "      <td>1</td>\n",
              "      <td>1</td>\n",
              "      <td>2</td>\n",
              "    </tr>\n",
              "    <tr>\n",
              "      <th>695</th>\n",
              "      <td>2</td>\n",
              "      <td>1</td>\n",
              "      <td>1</td>\n",
              "      <td>2</td>\n",
              "      <td>1.0</td>\n",
              "      <td>1</td>\n",
              "      <td>1</td>\n",
              "      <td>1</td>\n",
              "      <td>2</td>\n",
              "    </tr>\n",
              "    <tr>\n",
              "      <th>696</th>\n",
              "      <td>5</td>\n",
              "      <td>10</td>\n",
              "      <td>3</td>\n",
              "      <td>7</td>\n",
              "      <td>3.0</td>\n",
              "      <td>8</td>\n",
              "      <td>10</td>\n",
              "      <td>2</td>\n",
              "      <td>4</td>\n",
              "    </tr>\n",
              "    <tr>\n",
              "      <th>697</th>\n",
              "      <td>4</td>\n",
              "      <td>6</td>\n",
              "      <td>4</td>\n",
              "      <td>3</td>\n",
              "      <td>4.0</td>\n",
              "      <td>10</td>\n",
              "      <td>6</td>\n",
              "      <td>1</td>\n",
              "      <td>4</td>\n",
              "    </tr>\n",
              "    <tr>\n",
              "      <th>698</th>\n",
              "      <td>4</td>\n",
              "      <td>8</td>\n",
              "      <td>5</td>\n",
              "      <td>4</td>\n",
              "      <td>5.0</td>\n",
              "      <td>10</td>\n",
              "      <td>4</td>\n",
              "      <td>1</td>\n",
              "      <td>4</td>\n",
              "    </tr>\n",
              "  </tbody>\n",
              "</table>\n",
              "<p>699 rows × 9 columns</p>\n",
              "</div>"
            ],
            "text/plain": [
              "     Clump Thickness  Uniformity of Cell Shape  ...  Mitoses  Class\n",
              "0                  5                         1  ...        1      2\n",
              "1                  5                         4  ...        1      2\n",
              "2                  3                         1  ...        1      2\n",
              "3                  6                         8  ...        1      2\n",
              "4                  4                         1  ...        1      2\n",
              "..               ...                       ...  ...      ...    ...\n",
              "694                3                         1  ...        1      2\n",
              "695                2                         1  ...        1      2\n",
              "696                5                        10  ...        2      4\n",
              "697                4                         6  ...        1      4\n",
              "698                4                         8  ...        1      4\n",
              "\n",
              "[699 rows x 9 columns]"
            ]
          },
          "metadata": {},
          "execution_count": 326
        }
      ]
    },
    {
      "cell_type": "markdown",
      "metadata": {
        "id": "qMSOr_F3utqy"
      },
      "source": [
        "# 4.\tData Preparation"
      ]
    },
    {
      "cell_type": "code",
      "metadata": {
        "id": "m29cXb63rbg0"
      },
      "source": [
        "features = ['Clump Thickness', 'Uniformity of Cell Shape',\n",
        "                'Marginal Adhesion', 'Single Epithelial Cell Size', 'Bare Nuclei', 'Bland Chromatin','Normal Nucleoli', 'Mitoses']\n",
        "X = data2[features]\n",
        "# Label selection\n",
        "y = data2.Class\n",
        "# For testing purpose\n",
        "train_X, test_X, train_y, test_y = train_test_split(X, y)"
      ],
      "execution_count": 327,
      "outputs": []
    },
    {
      "cell_type": "markdown",
      "metadata": {
        "id": "gXSoFhVbyGwr"
      },
      "source": [
        "# Part B \n",
        "\n",
        "# 1. Model Building: This section uses 4 models to predict the Class labels for test data. i.e. RandomForestClassifier, LogisticRegression, GaussianNaiiveBayes, DecisionTreeClassifier\n"
      ]
    },
    {
      "cell_type": "markdown",
      "metadata": {
        "id": "6vmhyoeqcAoR"
      },
      "source": [
        "# Model 1: Using RandomForestClassifier to train the model"
      ]
    },
    {
      "cell_type": "code",
      "metadata": {
        "id": "IvBn8Q7Ww-E0"
      },
      "source": [
        "# Loop is used to get more generalized result\n",
        "total_sum = []\n",
        "# Hypertuning of parameters for better prediction\n",
        "forest_model = RandomForestClassifier(n_estimators=100, n_jobs=-1, random_state=9)\n",
        "forest_fit = forest_model.fit(train_X, train_y)"
      ],
      "execution_count": 328,
      "outputs": []
    },
    {
      "cell_type": "markdown",
      "metadata": {
        "id": "pr8oE8kUXFaG"
      },
      "source": [
        "\n",
        "\n",
        "\n",
        "> Predict the Class labels for the test data\n",
        "\n",
        "\n",
        "\n"
      ]
    },
    {
      "cell_type": "code",
      "metadata": {
        "id": "UL8hOkWsXbBI",
        "outputId": "428c3bfa-a32e-4041-d846-49965ac87505",
        "colab": {
          "base_uri": "https://localhost:8080/"
        }
      },
      "source": [
        "# For testing purpose\n",
        "#forest_model.fit(train_X, train_y)\n",
        "# Pass values to get prediction for ratings\n",
        "# 1st value = Clump Thickness\n",
        "# 2nd value = Uniformity of Cell Shape\n",
        "# 3rd value = Marginal Adhesion\n",
        "# 4th value = Single Epithelial Cell Size\n",
        "# 5th value = Bare Nuclei\n",
        "# 6th value = Bland Chromatin\n",
        "# 7th value = Normal Nucleoli\n",
        "# 8th value = Mitoses\n",
        " \n",
        "# Just for testing purpose\n",
        "#forest_pred = forest_model.predict([[10,7,3,8,5,7,4,3]])\n",
        "\n",
        "forest_pred = forest_model.predict(test_X)\n",
        "print('Classes predicted by RandomForestClassifer for test data are:', forest_pred)"
      ],
      "execution_count": 329,
      "outputs": [
        {
          "output_type": "stream",
          "text": [
            "Classes predicted by RandomForestClassifer for test data are: [4 4 4 4 2 4 4 2 2 2 4 2 2 2 4 2 2 4 4 4 2 2 4 2 4 2 2 2 4 2 4 4 4 2 4 4 4\n",
            " 4 2 4 2 2 4 2 4 2 4 2 2 4 4 2 4 2 4 2 2 4 2 2 4 4 2 2 2 4 4 4 2 2 4 2 2 2\n",
            " 2 2 4 2 2 2 2 2 2 2 4 2 2 2 2 4 4 2 4 2 4 4 2 4 4 4 2 2 2 2 4 4 2 2 4 4 2\n",
            " 4 2 2 2 2 2 2 2 2 4 2 2 4 2 4 2 2 2 4 2 2 4 2 2 4 4 2 4 4 2 2 4 2 2 4 4 4\n",
            " 2 2 2 2 2 2 2 4 2 4 2 2 2 4 2 2 4 4 2 2 4 4 2 4 2 2 2]\n"
          ],
          "name": "stdout"
        }
      ]
    },
    {
      "cell_type": "markdown",
      "metadata": {
        "id": "ldhnIQ2NNeaG"
      },
      "source": [
        " > Print the training accuracy and loss values\n"
      ]
    },
    {
      "cell_type": "code",
      "metadata": {
        "id": "ciyNfBoiNF2w",
        "outputId": "6ef4f38a-9438-46b2-d5fd-52d5bf5f7871",
        "colab": {
          "base_uri": "https://localhost:8080/"
        }
      },
      "source": [
        "print('Mean Absolute Error:', metrics.mean_absolute_error(test_y, forest_pred))\n",
        "print('Mean Squared Error:', metrics.mean_squared_error(test_y, forest_pred))\n",
        "print('Root Mean Squared Error:', np.sqrt(metrics.mean_squared_error(test_y, forest_pred)))\n",
        "print('Classification Report:', metrics.classification_report(test_y,forest_pred))\n",
        "print('Accuracy Score:', forest_model.score(test_X, test_y))"
      ],
      "execution_count": 330,
      "outputs": [
        {
          "output_type": "stream",
          "text": [
            "Mean Absolute Error: 0.06857142857142857\n",
            "Mean Squared Error: 0.13714285714285715\n",
            "Root Mean Squared Error: 0.3703280399090206\n",
            "Classification Report:               precision    recall  f1-score   support\n",
            "\n",
            "           2       1.00      0.94      0.97       109\n",
            "           4       0.92      1.00      0.96        66\n",
            "\n",
            "    accuracy                           0.97       175\n",
            "   macro avg       0.96      0.97      0.96       175\n",
            "weighted avg       0.97      0.97      0.97       175\n",
            "\n",
            "Accuracy Score: 0.9657142857142857\n"
          ],
          "name": "stdout"
        }
      ]
    },
    {
      "cell_type": "markdown",
      "metadata": {
        "id": "k5H2IGCSW5-1"
      },
      "source": [
        "> Part B: Print Confusion Matrix\n",
        "\n",
        "\n",
        "\n"
      ]
    },
    {
      "cell_type": "code",
      "metadata": {
        "id": "xXn8R8NLRq0X",
        "outputId": "cc31fa80-99cf-468a-9c72-df33a7c43db4",
        "colab": {
          "base_uri": "https://localhost:8080/",
          "height": 350
        }
      },
      "source": [
        "forest_model_cm = confusion_matrix(test_y, forest_pred)\n",
        "f, ax = plt.subplots(figsize=(5,5))\n",
        "sns.heatmap(forest_model_cm, annot=True, linewidth=0.7, linecolor='red', fmt='g', ax=ax, cmap=\"BuPu\")\n",
        "plt.title('Random Forest Model Confusion Matrix')\n",
        "plt.xlabel('Y predict')\n",
        "plt.ylabel('Y test')\n",
        "plt.show()"
      ],
      "execution_count": 331,
      "outputs": [
        {
          "output_type": "display_data",
          "data": {
            "image/png": "[encoded data removed]",
            "text/plain": [
              "<Figure size 360x360 with 2 Axes>"
            ]
          },
          "metadata": {
            "needs_background": "light"
          }
        }
      ]
    },
    {
      "cell_type": "markdown",
      "metadata": {
        "id": "A_BdSUgvLa4w"
      },
      "source": [
        "# Model 2: Using LogisticRegression to train the model"
      ]
    },
    {
      "cell_type": "code",
      "metadata": {
        "id": "4LVx9DGEPj2S",
        "outputId": "d98b663e-51a9-406d-8a5d-362b40aeb730",
        "colab": {
          "base_uri": "https://localhost:8080/"
        }
      },
      "source": [
        "logreg = LogisticRegression()\n",
        "logreg.fit(train_X, train_y)"
      ],
      "execution_count": 332,
      "outputs": [
        {
          "output_type": "execute_result",
          "data": {
            "text/plain": [
              "LogisticRegression(C=1.0, class_weight=None, dual=False, fit_intercept=True,\n",
              "                   intercept_scaling=1, l1_ratio=None, max_iter=100,\n",
              "                   multi_class='auto', n_jobs=None, penalty='l2',\n",
              "                   random_state=None, solver='lbfgs', tol=0.0001, verbose=0,\n",
              "                   warm_start=False)"
            ]
          },
          "metadata": {},
          "execution_count": 332
        }
      ]
    },
    {
      "cell_type": "markdown",
      "metadata": {
        "id": "CUTRhBWqY49-"
      },
      "source": [
        "\n",
        "\n",
        "> Predicting Class labels for the test data\n",
        "\n"
      ]
    },
    {
      "cell_type": "code",
      "metadata": {
        "id": "HY41KafkY5iR"
      },
      "source": [
        "logreg_predict = logreg.predict(test_X)"
      ],
      "execution_count": 333,
      "outputs": []
    },
    {
      "cell_type": "markdown",
      "metadata": {
        "id": "V5DrWYekZXYE"
      },
      "source": [
        " > Print the training accuracy and loss values"
      ]
    },
    {
      "cell_type": "code",
      "metadata": {
        "id": "OsxnSN6BQKKH",
        "outputId": "5b7f07aa-eefa-416e-a2ab-18cb97df555d",
        "colab": {
          "base_uri": "https://localhost:8080/"
        }
      },
      "source": [
        "print('Mean Absolute Error:', metrics.mean_absolute_error(test_y, logreg_predict))\n",
        "print('Mean Squared Error:', metrics.mean_squared_error(test_y, logreg_predict))\n",
        "print('Root Mean Squared Error:', np.sqrt(metrics.mean_squared_error(test_y, logreg_predict)))\n",
        "print('Classification Report:', metrics.classification_report(test_y,logreg_predict))\n",
        "print('Accuracy Score:', logreg.score(test_X, test_y))"
      ],
      "execution_count": 334,
      "outputs": [
        {
          "output_type": "stream",
          "text": [
            "Mean Absolute Error: 0.06857142857142857\n",
            "Mean Squared Error: 0.13714285714285715\n",
            "Root Mean Squared Error: 0.3703280399090206\n",
            "Classification Report:               precision    recall  f1-score   support\n",
            "\n",
            "           2       0.99      0.95      0.97       109\n",
            "           4       0.93      0.98      0.96        66\n",
            "\n",
            "    accuracy                           0.97       175\n",
            "   macro avg       0.96      0.97      0.96       175\n",
            "weighted avg       0.97      0.97      0.97       175\n",
            "\n",
            "Accuracy Score: 0.9657142857142857\n"
          ],
          "name": "stdout"
        }
      ]
    },
    {
      "cell_type": "markdown",
      "metadata": {
        "id": "uxeXQ1PLPlv9"
      },
      "source": [
        "> Part B: Print the confusion matrix."
      ]
    },
    {
      "cell_type": "code",
      "metadata": {
        "id": "GaAYUsywLbgZ",
        "outputId": "e625dbfc-1a8f-40d4-e5ee-62411048a000",
        "colab": {
          "base_uri": "https://localhost:8080/",
          "height": 350
        }
      },
      "source": [
        "logreg_cm = confusion_matrix(test_y, predict_y)\n",
        "f, ax = plt.subplots(figsize=(5,5))\n",
        "sns.heatmap(logreg_cm, annot=True, linewidth=0.7, linecolor='red', fmt='g', ax=ax, cmap=\"BuPu\")\n",
        "plt.title('Logistic Regression Classification Confusion Matrix')\n",
        "plt.xlabel('Y predict')\n",
        "plt.ylabel('Y test')\n",
        "plt.show()"
      ],
      "execution_count": 335,
      "outputs": [
        {
          "output_type": "display_data",
          "data": {
            "image/png": "[encoded data removed]",
            "text/plain": [
              "<Figure size 360x360 with 2 Axes>"
            ]
          },
          "metadata": {
            "needs_background": "light"
          }
        }
      ]
    },
    {
      "cell_type": "markdown",
      "metadata": {
        "id": "pAU_pSMlP3ID"
      },
      "source": [
        "# Model 3: Using NaiiveBayes Classifier to train the model"
      ]
    },
    {
      "cell_type": "code",
      "metadata": {
        "id": "huUivaDNZ-PL",
        "outputId": "b9a01984-3a1b-4c15-9a79-cd5ef25bbaaa",
        "colab": {
          "base_uri": "https://localhost:8080/"
        }
      },
      "source": [
        "# We define the model\n",
        "nbcla = GaussianNB()\n",
        "# We train model\n",
        "nbcla.fit(train_X, train_y)"
      ],
      "execution_count": 336,
      "outputs": [
        {
          "output_type": "execute_result",
          "data": {
            "text/plain": [
              "GaussianNB(priors=None, var_smoothing=1e-09)"
            ]
          },
          "metadata": {},
          "execution_count": 336
        }
      ]
    },
    {
      "cell_type": "markdown",
      "metadata": {
        "id": "rcUyRa5Tce3m"
      },
      "source": [
        "> Predicting Class labels for the test data"
      ]
    },
    {
      "cell_type": "code",
      "metadata": {
        "id": "8iiesgv-ceFK"
      },
      "source": [
        "# We predict target values\n",
        "nbcla_predict = nbcla.predict(test_X)"
      ],
      "execution_count": 337,
      "outputs": []
    },
    {
      "cell_type": "markdown",
      "metadata": {
        "id": "J2-iNO-3c-GI"
      },
      "source": [
        " > Print the training accuracy and loss values\n",
        "\n"
      ]
    },
    {
      "cell_type": "code",
      "metadata": {
        "id": "oLL9IBVvc-aB",
        "outputId": "ed6e041b-b8c4-4e8b-ea1e-bee079b30197",
        "colab": {
          "base_uri": "https://localhost:8080/"
        }
      },
      "source": [
        "print('Mean Absolute Error:', metrics.mean_absolute_error(test_y, nbcla_predict))\n",
        "print('Mean Squared Error:', metrics.mean_squared_error(test_y, nbcla_predict))\n",
        "print('Root Mean Squared Error:', np.sqrt(metrics.mean_squared_error(test_y, nbcla_predict)))\n",
        "print('Classification Report:', metrics.classification_report(test_y,nbcla_predict))\n",
        "print('Accuracy Score:', nbcla.score(test_X, test_y))"
      ],
      "execution_count": 338,
      "outputs": [
        {
          "output_type": "stream",
          "text": [
            "Mean Absolute Error: 0.10285714285714286\n",
            "Mean Squared Error: 0.2057142857142857\n",
            "Root Mean Squared Error: 0.4535573676110727\n",
            "Classification Report:               precision    recall  f1-score   support\n",
            "\n",
            "           2       1.00      0.92      0.96       109\n",
            "           4       0.88      1.00      0.94        66\n",
            "\n",
            "    accuracy                           0.95       175\n",
            "   macro avg       0.94      0.96      0.95       175\n",
            "weighted avg       0.95      0.95      0.95       175\n",
            "\n",
            "Accuracy Score: 0.9485714285714286\n"
          ],
          "name": "stdout"
        }
      ]
    },
    {
      "cell_type": "markdown",
      "metadata": {
        "id": "ckDiBJX0coV4"
      },
      "source": [
        "> Part B: Print the confusion matrix.\n"
      ]
    },
    {
      "cell_type": "code",
      "metadata": {
        "id": "w_vGyORgco4O",
        "outputId": "187e0163-f8c5-4fbc-b10e-51baabbffd86",
        "colab": {
          "base_uri": "https://localhost:8080/",
          "height": 367
        }
      },
      "source": [
        "nbcla_cm = confusion_matrix(test_y, nbcla_predict)\n",
        "f, ax = plt.subplots(figsize=(5,5))\n",
        "sns.heatmap(nbcla_cm, annot=True, linewidth=0.7, linecolor='red', fmt='g', ax=ax, cmap=\"BuPu\")\n",
        "plt.title('Naive Bayes Classification Confusion Matrix')\n",
        "plt.xlabel('Y predict')\n",
        "plt.ylabel('Y test')\n",
        "plt.show()"
      ],
      "execution_count": 339,
      "outputs": [
        {
          "output_type": "display_data",
          "data": {
            "image/png": "[encoded data removed]",
            "text/plain": [
              "<Figure size 360x360 with 2 Axes>"
            ]
          },
          "metadata": {
            "needs_background": "light"
          }
        },
        {
          "output_type": "stream",
          "text": [
            "0.9485714285714286\n"
          ],
          "name": "stdout"
        }
      ]
    },
    {
      "cell_type": "markdown",
      "metadata": {
        "id": "JGO3vJRjdXPM"
      },
      "source": [
        "# Model 4: Using DecisionTreeClassifier to train the model"
      ]
    },
    {
      "cell_type": "code",
      "metadata": {
        "id": "9tLIqgnsar0E",
        "outputId": "66d409f6-f10f-4c51-cc8e-b46f5d82e885",
        "colab": {
          "base_uri": "https://localhost:8080/"
        }
      },
      "source": [
        "\n",
        "# We define the model\n",
        "dtcla = DecisionTreeClassifier(random_state=9)\n",
        "\n",
        "# We train model\n",
        "dtcla.fit(train_X, train_y)\n",
        "\n",
        "\n"
      ],
      "execution_count": 340,
      "outputs": [
        {
          "output_type": "execute_result",
          "data": {
            "text/plain": [
              "DecisionTreeClassifier(ccp_alpha=0.0, class_weight=None, criterion='gini',\n",
              "                       max_depth=None, max_features=None, max_leaf_nodes=None,\n",
              "                       min_impurity_decrease=0.0, min_impurity_split=None,\n",
              "                       min_samples_leaf=1, min_samples_split=2,\n",
              "                       min_weight_fraction_leaf=0.0, presort='deprecated',\n",
              "                       random_state=9, splitter='best')"
            ]
          },
          "metadata": {},
          "execution_count": 340
        }
      ]
    },
    {
      "cell_type": "markdown",
      "metadata": {
        "id": "U2l4yGRidk5p"
      },
      "source": [
        ""
      ]
    },
    {
      "cell_type": "code",
      "metadata": {
        "id": "HDPIKuZndlLR"
      },
      "source": [
        "# We predict target values\n",
        "dcla_predict = dtcla.predict(test_X)"
      ],
      "execution_count": 341,
      "outputs": []
    },
    {
      "cell_type": "markdown",
      "metadata": {
        "id": "qHqik55mdumK"
      },
      "source": [
        " > Print the training accuracy and loss values"
      ]
    },
    {
      "cell_type": "code",
      "metadata": {
        "id": "EPx24aPodvwd",
        "outputId": "65ebc391-4b38-4b49-a083-a2e1406ddb03",
        "colab": {
          "base_uri": "https://localhost:8080/"
        }
      },
      "source": [
        "print('Mean Absolute Error:', metrics.mean_absolute_error(test_y, dcla_predict))\n",
        "print('Mean Squared Error:', metrics.mean_squared_error(test_y, dcla_predict))\n",
        "print('Root Mean Squared Error:', np.sqrt(metrics.mean_squared_error(test_y, dcla_predict)))\n",
        "print('Classification Report:', metrics.classification_report(test_y,dcla_predict))\n",
        "#print('Accuracy Score:', metrics.accuracy_score(test_y, dcla_predict))\n",
        "print('Accuracy Score:', dtcla.score(test_X, test_y))"
      ],
      "execution_count": 342,
      "outputs": [
        {
          "output_type": "stream",
          "text": [
            "Mean Absolute Error: 0.13714285714285715\n",
            "Mean Squared Error: 0.2742857142857143\n",
            "Root Mean Squared Error: 0.5237229365663817\n",
            "Classification Report:               precision    recall  f1-score   support\n",
            "\n",
            "           2       0.95      0.94      0.94       109\n",
            "           4       0.90      0.92      0.91        66\n",
            "\n",
            "    accuracy                           0.93       175\n",
            "   macro avg       0.93      0.93      0.93       175\n",
            "weighted avg       0.93      0.93      0.93       175\n",
            "\n",
            "Accuracy Score: 0.9314285714285714\n"
          ],
          "name": "stdout"
        }
      ]
    },
    {
      "cell_type": "markdown",
      "metadata": {
        "id": "CfTdsnYbdm1g"
      },
      "source": [
        "Part B: Print the confusion matrix."
      ]
    },
    {
      "cell_type": "code",
      "metadata": {
        "id": "HmgdKtDVdnZ8",
        "outputId": "eedb021d-f5d0-43c7-fe12-cbd0c1076e40",
        "colab": {
          "base_uri": "https://localhost:8080/",
          "height": 350
        }
      },
      "source": [
        "dtcla_cm = confusion_matrix(test_y, dcla_predict)\n",
        "f, ax = plt.subplots(figsize=(5,5))\n",
        "sns.heatmap(dtcla_cm, annot=True, linewidth=0.7, linecolor='red', fmt='g', ax=ax, cmap=\"BuPu\")\n",
        "plt.title('Decision Tree Classification Confusion Matrix')\n",
        "plt.xlabel('Y predict')\n",
        "plt.ylabel('Y test')\n",
        "plt.show()"
      ],
      "execution_count": 343,
      "outputs": [
        {
          "output_type": "display_data",
          "data": {
            "image/png": "[encoded data removed]",
            "text/plain": [
              "<Figure size 360x360 with 2 Axes>"
            ]
          },
          "metadata": {
            "needs_background": "light"
          }
        }
      ]
    }
  ]
}