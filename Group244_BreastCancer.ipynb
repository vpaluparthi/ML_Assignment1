{
  "nbformat": 4,
  "nbformat_minor": 0,
  "metadata": {
    "colab": {
      "name": "Group244_BreastCancer.ipynb",
      "provenance": [],
      "authorship_tag": "ABX9TyMhBPwgjtvPiH5foxvm6Bm1",
      "include_colab_link": true
    },
    "kernelspec": {
      "name": "python3",
      "display_name": "Python 3"
    },
    "language_info": {
      "name": "python"
    }
  },
  "cells": [
    {
      "cell_type": "markdown",
      "metadata": {
        "id": "view-in-github",
        "colab_type": "text"
      },
      "source": [
        "<a href=\"https://colab.research.google.com/github/vpaluparthi/ML_Assignment1/blob/main/Group244_BreastCancer.ipynb\" target=\"_parent\"><img src=\"https://colab.research.google.com/assets/colab-badge.svg\" alt=\"Open In Colab\"/></a>"
      ]
    },
    {
      "cell_type": "markdown",
      "metadata": {
        "id": "AjFRoFHA0j_I"
      },
      "source": [
        "# Machine Learning Assignment 1\n",
        "\n",
        "Assignment Topic: Build and Evaluate Machine Learning model for analysis of Breast Cancer dataset.\n",
        "\n",
        "Names:\n",
        "P. Vijaya Kumar (BITS ID: 2020FC04388)\n",
        "Archana C (BITS ID: 2020FC04392)\n",
        "Anirudh Kanukanti (BITS ID: )\n",
        "\n",
        "Group: 244\n",
        "\n"
      ]
    },
    {
      "cell_type": "markdown",
      "metadata": {
        "id": "EtSoSXEEAVj5"
      },
      "source": [
        "# Step 1: Initialization\n",
        "\n",
        "# A.\tImport the required libraries\n",
        "\n",
        "# B.\tDownload the dataset\n",
        "\n",
        "\n",
        "\n",
        "\n",
        "\n"
      ]
    },
    {
      "cell_type": "code",
      "metadata": {
        "id": "M6msL1qtWzf8"
      },
      "source": [
        "import pandas as pd\n",
        "import numpy as np\n",
        "import seaborn as sns\n",
        "\n",
        "from sklearn.ensemble import RandomForestClassifier\n",
        "from sklearn.linear_model import LogisticRegression\n",
        "from sklearn.model_selection import train_test_split\n",
        "from sklearn.naive_bayes import GaussianNB\n",
        "from sklearn.tree import DecisionTreeClassifier\n",
        "\n",
        "from sklearn import metrics\n",
        "from sklearn.metrics import confusion_matrix\n",
        "from sklearn.metrics import log_loss\n",
        "\n",
        "import matplotlib.pyplot as plt\n",
        "\n",
        "from pydrive.drive import GoogleDrive\n",
        "from pydrive.auth import GoogleAuth\n",
        "from pydrive.drive import GoogleDrive\n",
        "from google.colab import auth\n",
        "from oauth2client.client import GoogleCredentials\n",
        "\n",
        "auth.authenticate_user()\n",
        "gauth = GoogleAuth()\n",
        "gauth.credentials = GoogleCredentials.get_application_default()\n",
        "drive = GoogleDrive(gauth)\n",
        "\n",
        "fileDownloaded = drive.CreateFile({'id':'1AnRf3cl-MflHd4JVK07Az3UdvemNRU4a'})\n",
        "fileDownloaded.GetContentFile('breast-cancer-wisconsin.csv')\n",
        "data = pd.read_csv('breast-cancer-wisconsin.csv', delimiter=',')\n",
        "data = data.drop(columns=['Sample code number'])"
      ],
      "execution_count": 751,
      "outputs": []
    },
    {
      "cell_type": "markdown",
      "metadata": {
        "id": "ZS-9IDjmKh6E"
      },
      "source": [
        "# Step 2:\tData Visualization and Exploration\n",
        "\n",
        "# A.\tPrint the description and shape of the dataset.\n",
        "\n",
        "# B.\tPrint at least 5 rows for sanity check to identify all the features present in the dataset and if the target matches with them."
      ]
    },
    {
      "cell_type": "code",
      "metadata": {
        "colab": {
          "base_uri": "https://localhost:8080/",
          "height": 639
        },
        "id": "nno2I4RHKKOX",
        "outputId": "b69783fb-a320-4e1a-f4a6-54ca0216865d"
      },
      "source": [
        "print(data.info(), '\\n\\n')\n",
        "print('Number of instances = %d' % (data.shape[0]))\n",
        "print('Number of attributes = %d' % (data.shape[1]), '\\n\\n')\n",
        "data.head()"
      ],
      "execution_count": 752,
      "outputs": [
        {
          "output_type": "stream",
          "text": [
            "<class 'pandas.core.frame.DataFrame'>\n",
            "RangeIndex: 699 entries, 0 to 698\n",
            "Data columns (total 10 columns):\n",
            " #   Column                       Non-Null Count  Dtype \n",
            "---  ------                       --------------  ----- \n",
            " 0   Clump Thickness              699 non-null    int64 \n",
            " 1   Uniformity of Cell Size      699 non-null    int64 \n",
            " 2   Uniformity of Cell Shape     699 non-null    int64 \n",
            " 3   Marginal Adhesion            699 non-null    int64 \n",
            " 4   Single Epithelial Cell Size  699 non-null    int64 \n",
            " 5   Bare Nuclei                  699 non-null    object\n",
            " 6   Bland Chromatin              699 non-null    int64 \n",
            " 7   Normal Nucleoli              699 non-null    int64 \n",
            " 8   Mitoses                      699 non-null    int64 \n",
            " 9   Class                        699 non-null    int64 \n",
            "dtypes: int64(9), object(1)\n",
            "memory usage: 54.7+ KB\n",
            "None \n",
            "\n",
            "\n",
            "Number of instances = 699\n",
            "Number of attributes = 10 \n",
            "\n",
            "\n"
          ],
          "name": "stdout"
        },
        {
          "output_type": "execute_result",
          "data": {
            "text/html": [
              "<div>\n",
              "<style scoped>\n",
              "    .dataframe tbody tr th:only-of-type {\n",
              "        vertical-align: middle;\n",
              "    }\n",
              "\n",
              "    .dataframe tbody tr th {\n",
              "        vertical-align: top;\n",
              "    }\n",
              "\n",
              "    .dataframe thead th {\n",
              "        text-align: right;\n",
              "    }\n",
              "</style>\n",
              "<table border=\"1\" class=\"dataframe\">\n",
              "  <thead>\n",
              "    <tr style=\"text-align: right;\">\n",
              "      <th></th>\n",
              "      <th>Clump Thickness</th>\n",
              "      <th>Uniformity of Cell Size</th>\n",
              "      <th>Uniformity of Cell Shape</th>\n",
              "      <th>Marginal Adhesion</th>\n",
              "      <th>Single Epithelial Cell Size</th>\n",
              "      <th>Bare Nuclei</th>\n",
              "      <th>Bland Chromatin</th>\n",
              "      <th>Normal Nucleoli</th>\n",
              "      <th>Mitoses</th>\n",
              "      <th>Class</th>\n",
              "    </tr>\n",
              "  </thead>\n",
              "  <tbody>\n",
              "    <tr>\n",
              "      <th>0</th>\n",
              "      <td>5</td>\n",
              "      <td>1</td>\n",
              "      <td>1</td>\n",
              "      <td>1</td>\n",
              "      <td>2</td>\n",
              "      <td>1</td>\n",
              "      <td>3</td>\n",
              "      <td>1</td>\n",
              "      <td>1</td>\n",
              "      <td>2</td>\n",
              "    </tr>\n",
              "    <tr>\n",
              "      <th>1</th>\n",
              "      <td>5</td>\n",
              "      <td>4</td>\n",
              "      <td>4</td>\n",
              "      <td>5</td>\n",
              "      <td>7</td>\n",
              "      <td>10</td>\n",
              "      <td>3</td>\n",
              "      <td>2</td>\n",
              "      <td>1</td>\n",
              "      <td>2</td>\n",
              "    </tr>\n",
              "    <tr>\n",
              "      <th>2</th>\n",
              "      <td>3</td>\n",
              "      <td>1</td>\n",
              "      <td>1</td>\n",
              "      <td>1</td>\n",
              "      <td>2</td>\n",
              "      <td>2</td>\n",
              "      <td>3</td>\n",
              "      <td>1</td>\n",
              "      <td>1</td>\n",
              "      <td>2</td>\n",
              "    </tr>\n",
              "    <tr>\n",
              "      <th>3</th>\n",
              "      <td>6</td>\n",
              "      <td>8</td>\n",
              "      <td>8</td>\n",
              "      <td>1</td>\n",
              "      <td>3</td>\n",
              "      <td>4</td>\n",
              "      <td>3</td>\n",
              "      <td>7</td>\n",
              "      <td>1</td>\n",
              "      <td>2</td>\n",
              "    </tr>\n",
              "    <tr>\n",
              "      <th>4</th>\n",
              "      <td>4</td>\n",
              "      <td>1</td>\n",
              "      <td>1</td>\n",
              "      <td>3</td>\n",
              "      <td>2</td>\n",
              "      <td>1</td>\n",
              "      <td>3</td>\n",
              "      <td>1</td>\n",
              "      <td>1</td>\n",
              "      <td>2</td>\n",
              "    </tr>\n",
              "  </tbody>\n",
              "</table>\n",
              "</div>"
            ],
            "text/plain": [
              "   Clump Thickness  Uniformity of Cell Size  ...  Mitoses  Class\n",
              "0                5                        1  ...        1      2\n",
              "1                5                        4  ...        1      2\n",
              "2                3                        1  ...        1      2\n",
              "3                6                        8  ...        1      2\n",
              "4                4                        1  ...        1      2\n",
              "\n",
              "[5 rows x 10 columns]"
            ]
          },
          "metadata": {},
          "execution_count": 752
        }
      ]
    },
    {
      "cell_type": "markdown",
      "metadata": {
        "id": "7yx0x7y4UnZP"
      },
      "source": [
        "# C.\tTry exploring the data and see what insights can be drawn from the dataset.\n",
        "# D.\tProvide appropriate visualization to get an insight about the dataset."
      ]
    },
    {
      "cell_type": "markdown",
      "metadata": {
        "id": "WRcWmD_1nDgG"
      },
      "source": [
        "Plotting a box chart to see how the values of the features are spread out"
      ]
    },
    {
      "cell_type": "code",
      "metadata": {
        "colab": {
          "base_uri": "https://localhost:8080/",
          "height": 229
        },
        "id": "8gtmdjOTh7iR",
        "outputId": "85226105-e3fa-47ff-d898-1f337afb0af7"
      },
      "source": [
        "%matplotlib inline\n",
        "\n",
        "data.boxplot(figsize=(20,3))"
      ],
      "execution_count": 753,
      "outputs": [
        {
          "output_type": "execute_result",
          "data": {
            "text/plain": [
              "<matplotlib.axes._subplots.AxesSubplot at 0x7fdd29e02590>"
            ]
          },
          "metadata": {},
          "execution_count": 753
        },
        {
          "output_type": "display_data",
          "data": {
            "image/png": "[encoded data removed]",
            "text/plain": [
              "<Figure size 1440x216 with 1 Axes>"
            ]
          },
          "metadata": {
            "needs_background": "light"
          }
        }
      ]
    },
    {
      "cell_type": "markdown",
      "metadata": {
        "id": "ZYxv17V3th-w"
      },
      "source": [
        "Check how the clump thickness values are distributed"
      ]
    },
    {
      "cell_type": "code",
      "metadata": {
        "colab": {
          "base_uri": "https://localhost:8080/",
          "height": 473
        },
        "id": "usJYgvGziov8",
        "outputId": "36cb0113-a66e-448f-d94c-f7dc13dbdabf"
      },
      "source": [
        "print('Clump Thickness')\n",
        "data['Clump Thickness'].hist(bins=10)\n",
        "data['Clump Thickness'].value_counts(sort=False)"
      ],
      "execution_count": 754,
      "outputs": [
        {
          "output_type": "stream",
          "text": [
            "Clump Thickness\n"
          ],
          "name": "stdout"
        },
        {
          "output_type": "execute_result",
          "data": {
            "text/plain": [
              "1     145\n",
              "2      50\n",
              "3     108\n",
              "4      80\n",
              "5     130\n",
              "6      34\n",
              "7      23\n",
              "8      46\n",
              "9      14\n",
              "10     69\n",
              "Name: Clump Thickness, dtype: int64"
            ]
          },
          "metadata": {},
          "execution_count": 754
        },
        {
          "output_type": "display_data",
          "data": {
            "image/png": "[encoded data removed]",
            "text/plain": [
              "<Figure size 432x288 with 1 Axes>"
            ]
          },
          "metadata": {
            "needs_background": "light"
          }
        }
      ]
    },
    {
      "cell_type": "code",
      "metadata": {
        "id": "BfAn7eUhBA4D",
        "outputId": "dd739abb-f70c-4822-fcb4-472f5104fe02",
        "colab": {
          "base_uri": "https://localhost:8080/",
          "height": 476
        }
      },
      "source": [
        "print('Uniformity of Cell Size')\n",
        "data['Uniformity of Cell Size'].hist(bins=10)\n",
        "data['Uniformity of Cell Size'].value_counts(sort=False)"
      ],
      "execution_count": 755,
      "outputs": [
        {
          "output_type": "stream",
          "text": [
            "Uniformity of Cell Size\n"
          ],
          "name": "stdout"
        },
        {
          "output_type": "execute_result",
          "data": {
            "text/plain": [
              "1     384\n",
              "2      45\n",
              "3      52\n",
              "4      40\n",
              "5      30\n",
              "6      27\n",
              "7      19\n",
              "8      29\n",
              "9       6\n",
              "10     67\n",
              "Name: Uniformity of Cell Size, dtype: int64"
            ]
          },
          "metadata": {},
          "execution_count": 755
        },
        {
          "output_type": "display_data",
          "data": {
            "image/png": "[encoded data removed]",
            "text/plain": [
              "<Figure size 432x288 with 1 Axes>"
            ]
          },
          "metadata": {
            "needs_background": "light"
          }
        }
      ]
    },
    {
      "cell_type": "code",
      "metadata": {
        "id": "a8k5opKKBVg9",
        "outputId": "d0be8181-4f16-4bc8-c005-0db70b95d9b3",
        "colab": {
          "base_uri": "https://localhost:8080/",
          "height": 473
        }
      },
      "source": [
        "print('Uniformity of Cell Shape')\n",
        "data['Uniformity of Cell Shape'].hist(bins=10)\n",
        "data['Uniformity of Cell Shape'].value_counts(sort=False)"
      ],
      "execution_count": 756,
      "outputs": [
        {
          "output_type": "stream",
          "text": [
            "Uniformity of Cell Shape\n"
          ],
          "name": "stdout"
        },
        {
          "output_type": "execute_result",
          "data": {
            "text/plain": [
              "1     353\n",
              "2      59\n",
              "3      56\n",
              "4      44\n",
              "5      34\n",
              "6      30\n",
              "7      30\n",
              "8      28\n",
              "9       7\n",
              "10     58\n",
              "Name: Uniformity of Cell Shape, dtype: int64"
            ]
          },
          "metadata": {},
          "execution_count": 756
        },
        {
          "output_type": "display_data",
          "data": {
            "image/png": "[encoded data removed]",
            "text/plain": [
              "<Figure size 432x288 with 1 Axes>"
            ]
          },
          "metadata": {
            "needs_background": "light"
          }
        }
      ]
    },
    {
      "cell_type": "code",
      "metadata": {
        "id": "2M-pvJ5ABZeB",
        "outputId": "d02412bd-275f-4e18-dbc1-3d74ca207d76",
        "colab": {
          "base_uri": "https://localhost:8080/",
          "height": 473
        }
      },
      "source": [
        "print('Uniformity of Cell Shape')\n",
        "data['Uniformity of Cell Shape'].hist(bins=10)\n",
        "data['Uniformity of Cell Shape'].value_counts(sort=False)"
      ],
      "execution_count": 757,
      "outputs": [
        {
          "output_type": "stream",
          "text": [
            "Uniformity of Cell Shape\n"
          ],
          "name": "stdout"
        },
        {
          "output_type": "execute_result",
          "data": {
            "text/plain": [
              "1     353\n",
              "2      59\n",
              "3      56\n",
              "4      44\n",
              "5      34\n",
              "6      30\n",
              "7      30\n",
              "8      28\n",
              "9       7\n",
              "10     58\n",
              "Name: Uniformity of Cell Shape, dtype: int64"
            ]
          },
          "metadata": {},
          "execution_count": 757
        },
        {
          "output_type": "display_data",
          "data": {
            "image/png": "[encoded data removed]",
            "text/plain": [
              "<Figure size 432x288 with 1 Axes>"
            ]
          },
          "metadata": {
            "needs_background": "light"
          }
        }
      ]
    },
    {
      "cell_type": "code",
      "metadata": {
        "id": "SuqyLTQqBHaG",
        "outputId": "d597023b-dcd0-4289-96e8-02d40d6ae506",
        "colab": {
          "base_uri": "https://localhost:8080/",
          "height": 473
        }
      },
      "source": [
        "print('Marginal Adhesion')\n",
        "data['Marginal Adhesion'].hist(bins=10)\n",
        "data['Marginal Adhesion'].value_counts(sort=False)"
      ],
      "execution_count": 758,
      "outputs": [
        {
          "output_type": "stream",
          "text": [
            "Marginal Adhesion\n"
          ],
          "name": "stdout"
        },
        {
          "output_type": "execute_result",
          "data": {
            "text/plain": [
              "1     407\n",
              "2      58\n",
              "3      58\n",
              "4      33\n",
              "5      23\n",
              "6      22\n",
              "7      13\n",
              "8      25\n",
              "9       5\n",
              "10     55\n",
              "Name: Marginal Adhesion, dtype: int64"
            ]
          },
          "metadata": {},
          "execution_count": 758
        },
        {
          "output_type": "display_data",
          "data": {
            "image/png": "[encoded data removed]",
            "text/plain": [
              "<Figure size 432x288 with 1 Axes>"
            ]
          },
          "metadata": {
            "needs_background": "light"
          }
        }
      ]
    },
    {
      "cell_type": "code",
      "metadata": {
        "id": "rJjqKwiKBo5A",
        "outputId": "6ff2797c-19d2-4fe5-f86d-c769d9215c8e",
        "colab": {
          "base_uri": "https://localhost:8080/",
          "height": 474
        }
      },
      "source": [
        "print('Single Epithelial Cell Size')\n",
        "data['Single Epithelial Cell Size'].hist(bins=10)\n",
        "data['Single Epithelial Cell Size'].value_counts(sort=False)"
      ],
      "execution_count": 759,
      "outputs": [
        {
          "output_type": "stream",
          "text": [
            "Single Epithelial Cell Size\n"
          ],
          "name": "stdout"
        },
        {
          "output_type": "execute_result",
          "data": {
            "text/plain": [
              "1      47\n",
              "2     386\n",
              "3      72\n",
              "4      48\n",
              "5      39\n",
              "6      41\n",
              "7      12\n",
              "8      21\n",
              "9       2\n",
              "10     31\n",
              "Name: Single Epithelial Cell Size, dtype: int64"
            ]
          },
          "metadata": {},
          "execution_count": 759
        },
        {
          "output_type": "display_data",
          "data": {
            "image/png": "[encoded data removed]",
            "text/plain": [
              "<Figure size 432x288 with 1 Axes>"
            ]
          },
          "metadata": {
            "needs_background": "light"
          }
        }
      ]
    },
    {
      "cell_type": "code",
      "metadata": {
        "id": "0-l6T20yByM1",
        "outputId": "c56af07c-b1ed-489c-9e7a-6ad012a0f096",
        "colab": {
          "base_uri": "https://localhost:8080/",
          "height": 491
        }
      },
      "source": [
        "print('Bare Nuclei')\n",
        "data['Bare Nuclei'].hist(bins=10)\n",
        "data['Bare Nuclei'].value_counts(sort=False)"
      ],
      "execution_count": 760,
      "outputs": [
        {
          "output_type": "stream",
          "text": [
            "Bare Nuclei\n"
          ],
          "name": "stdout"
        },
        {
          "output_type": "execute_result",
          "data": {
            "text/plain": [
              "8      21\n",
              "6       4\n",
              "?      16\n",
              "5      30\n",
              "1     402\n",
              "10    132\n",
              "2      30\n",
              "3      28\n",
              "7       8\n",
              "4      19\n",
              "9       9\n",
              "Name: Bare Nuclei, dtype: int64"
            ]
          },
          "metadata": {},
          "execution_count": 760
        },
        {
          "output_type": "display_data",
          "data": {
            "image/png": "[encoded data removed]",
            "text/plain": [
              "<Figure size 432x288 with 1 Axes>"
            ]
          },
          "metadata": {
            "needs_background": "light"
          }
        }
      ]
    },
    {
      "cell_type": "code",
      "metadata": {
        "id": "6MtgHbkBBx-E",
        "outputId": "221e5cc8-fef0-45b7-dc9a-125837e0b370",
        "colab": {
          "base_uri": "https://localhost:8080/",
          "height": 473
        }
      },
      "source": [
        "print('Bland Chromatin')\n",
        "data['Bland Chromatin'].hist(bins=10)\n",
        "data['Bland Chromatin'].value_counts(sort=False)"
      ],
      "execution_count": 761,
      "outputs": [
        {
          "output_type": "stream",
          "text": [
            "Bland Chromatin\n"
          ],
          "name": "stdout"
        },
        {
          "output_type": "execute_result",
          "data": {
            "text/plain": [
              "1     152\n",
              "2     166\n",
              "3     165\n",
              "4      40\n",
              "5      34\n",
              "6      10\n",
              "7      73\n",
              "8      28\n",
              "9      11\n",
              "10     20\n",
              "Name: Bland Chromatin, dtype: int64"
            ]
          },
          "metadata": {},
          "execution_count": 761
        },
        {
          "output_type": "display_data",
          "data": {
            "image/png": "[encoded data removed]",
            "text/plain": [
              "<Figure size 432x288 with 1 Axes>"
            ]
          },
          "metadata": {
            "needs_background": "light"
          }
        }
      ]
    },
    {
      "cell_type": "code",
      "metadata": {
        "id": "bhWVSi9fBxzT",
        "outputId": "011e686c-6dc0-49ae-f1af-ca3fb8866bc9",
        "colab": {
          "base_uri": "https://localhost:8080/",
          "height": 473
        }
      },
      "source": [
        "print('Normal Nucleoli')\n",
        "data['Normal Nucleoli'].hist(bins=10)\n",
        "data['Normal Nucleoli'].value_counts(sort=False)"
      ],
      "execution_count": 762,
      "outputs": [
        {
          "output_type": "stream",
          "text": [
            "Normal Nucleoli\n"
          ],
          "name": "stdout"
        },
        {
          "output_type": "execute_result",
          "data": {
            "text/plain": [
              "1     443\n",
              "2      36\n",
              "3      44\n",
              "4      18\n",
              "5      19\n",
              "6      22\n",
              "7      16\n",
              "8      24\n",
              "9      16\n",
              "10     61\n",
              "Name: Normal Nucleoli, dtype: int64"
            ]
          },
          "metadata": {},
          "execution_count": 762
        },
        {
          "output_type": "display_data",
          "data": {
            "image/png": "[encoded data removed]",
            "text/plain": [
              "<Figure size 432x288 with 1 Axes>"
            ]
          },
          "metadata": {
            "needs_background": "light"
          }
        }
      ]
    },
    {
      "cell_type": "code",
      "metadata": {
        "id": "DqYhkTC9BxhR",
        "outputId": "ae4c73ec-d9e7-4f3e-ef1f-d6ea3686afb3",
        "colab": {
          "base_uri": "https://localhost:8080/",
          "height": 457
        }
      },
      "source": [
        "print('Mitoses')\n",
        "data['Mitoses'].hist(bins=10)\n",
        "data['Mitoses'].value_counts(sort=False)"
      ],
      "execution_count": 763,
      "outputs": [
        {
          "output_type": "stream",
          "text": [
            "Mitoses\n"
          ],
          "name": "stdout"
        },
        {
          "output_type": "execute_result",
          "data": {
            "text/plain": [
              "1     579\n",
              "2      35\n",
              "3      33\n",
              "4      12\n",
              "5       6\n",
              "6       3\n",
              "7       9\n",
              "8       8\n",
              "10     14\n",
              "Name: Mitoses, dtype: int64"
            ]
          },
          "metadata": {},
          "execution_count": 763
        },
        {
          "output_type": "display_data",
          "data": {
            "image/png": "[encoded data removed]",
            "text/plain": [
              "<Figure size 432x288 with 1 Axes>"
            ]
          },
          "metadata": {
            "needs_background": "light"
          }
        }
      ]
    },
    {
      "cell_type": "markdown",
      "metadata": {
        "id": "GLyGbquHmJye"
      },
      "source": [
        "# 3.\tData Pre-processing and cleaning\n",
        "# A.\tDo the appropriate preprocessing of the data like identifying NULL or Missing Values if any, handling of outliers if present in the dataset, skewed data etc.\n",
        "# B. Applying Feature Transformation techniques\n",
        "\n",
        "> Replacing \"?\" characters in data with n.NaN. Replacing these missing values with median value\n",
        "\n",
        "> Filling missing values with median value in 'Bare Nuclei' column\n",
        "\n",
        "\n",
        "\n"
      ]
    },
    {
      "cell_type": "code",
      "metadata": {
        "colab": {
          "base_uri": "https://localhost:8080/"
        },
        "id": "JYHBG-7uhpob",
        "outputId": "8f48befb-7da2-4a16-ef7b-0ce8f27a7c4f"
      },
      "source": [
        "data = data.replace('?',np.NaN)\n",
        "\n",
        "print('Number of missing values:')\n",
        "for col in data.columns:\n",
        "    print('\\t%s: %d' % (col,data[col].isna().sum()))"
      ],
      "execution_count": 764,
      "outputs": [
        {
          "output_type": "stream",
          "text": [
            "Number of missing values:\n",
            "\tClump Thickness: 0\n",
            "\tUniformity of Cell Size: 0\n",
            "\tUniformity of Cell Shape: 0\n",
            "\tMarginal Adhesion: 0\n",
            "\tSingle Epithelial Cell Size: 0\n",
            "\tBare Nuclei: 16\n",
            "\tBland Chromatin: 0\n",
            "\tNormal Nucleoli: 0\n",
            "\tMitoses: 0\n",
            "\tClass: 0\n"
          ],
          "name": "stdout"
        }
      ]
    },
    {
      "cell_type": "code",
      "metadata": {
        "colab": {
          "base_uri": "https://localhost:8080/"
        },
        "id": "pePIikzNhvQe",
        "outputId": "0bc7b819-3a14-4474-e658-6cb6af14a7ef"
      },
      "source": [
        "bare_nuclei_data = data['Bare Nuclei']\n",
        "\n",
        "print('Before replacing missing values:')\n",
        "print(bare_nuclei_data[20:25])\n",
        "bare_nuclei_data = bare_nuclei_data.fillna(bare_nuclei_data.median())\n",
        "bare_nuclei_data = pd.to_numeric(bare_nuclei_data)\n",
        "print('\\nAfter replacing missing values:')\n",
        "print(bare_nuclei_data[20:25])"
      ],
      "execution_count": 765,
      "outputs": [
        {
          "output_type": "stream",
          "text": [
            "Before replacing missing values:\n",
            "20     10\n",
            "21      7\n",
            "22      1\n",
            "23    NaN\n",
            "24      1\n",
            "Name: Bare Nuclei, dtype: object\n",
            "\n",
            "After replacing missing values:\n",
            "20    10.0\n",
            "21     7.0\n",
            "22     1.0\n",
            "23     1.0\n",
            "24     1.0\n",
            "Name: Bare Nuclei, dtype: float64\n"
          ],
          "name": "stdout"
        }
      ]
    },
    {
      "cell_type": "code",
      "metadata": {
        "colab": {
          "base_uri": "https://localhost:8080/"
        },
        "id": "-YTMlHR1h2_h",
        "outputId": "f78fe84f-e2b5-4825-e539-856e87cc98ea"
      },
      "source": [
        "print('Number of rows in original data = %d' % (data.shape[0]))\n",
        "data2 = data\n",
        "data2['Bare Nuclei'] = bare_nuclei_data\n",
        "data2 = data2.dropna()\n",
        "print('Number of rows after discarding missing values = %d' % (data2.shape[0]))"
      ],
      "execution_count": 766,
      "outputs": [
        {
          "output_type": "stream",
          "text": [
            "Number of rows in original data = 699\n",
            "Number of rows after discarding missing values = 699\n"
          ],
          "name": "stdout"
        }
      ]
    },
    {
      "cell_type": "code",
      "metadata": {
        "colab": {
          "base_uri": "https://localhost:8080/",
          "height": 223
        },
        "id": "w0cBfV-AiCcs",
        "outputId": "168ec2a6-dc0a-41c8-d132-b12ad6f4819f"
      },
      "source": [
        "Z = (data2-data2.mean())/data2.std()\n",
        "Z[20:25]"
      ],
      "execution_count": 767,
      "outputs": [
        {
          "output_type": "execute_result",
          "data": {
            "text/html": [
              "<div>\n",
              "<style scoped>\n",
              "    .dataframe tbody tr th:only-of-type {\n",
              "        vertical-align: middle;\n",
              "    }\n",
              "\n",
              "    .dataframe tbody tr th {\n",
              "        vertical-align: top;\n",
              "    }\n",
              "\n",
              "    .dataframe thead th {\n",
              "        text-align: right;\n",
              "    }\n",
              "</style>\n",
              "<table border=\"1\" class=\"dataframe\">\n",
              "  <thead>\n",
              "    <tr style=\"text-align: right;\">\n",
              "      <th></th>\n",
              "      <th>Clump Thickness</th>\n",
              "      <th>Uniformity of Cell Size</th>\n",
              "      <th>Uniformity of Cell Shape</th>\n",
              "      <th>Marginal Adhesion</th>\n",
              "      <th>Single Epithelial Cell Size</th>\n",
              "      <th>Bare Nuclei</th>\n",
              "      <th>Bland Chromatin</th>\n",
              "      <th>Normal Nucleoli</th>\n",
              "      <th>Mitoses</th>\n",
              "      <th>Class</th>\n",
              "    </tr>\n",
              "  </thead>\n",
              "  <tbody>\n",
              "    <tr>\n",
              "      <th>20</th>\n",
              "      <td>0.917080</td>\n",
              "      <td>-0.044070</td>\n",
              "      <td>-0.406284</td>\n",
              "      <td>2.519152</td>\n",
              "      <td>0.805662</td>\n",
              "      <td>1.798376</td>\n",
              "      <td>0.640688</td>\n",
              "      <td>0.371049</td>\n",
              "      <td>1.405526</td>\n",
              "      <td>1.377569</td>\n",
              "    </tr>\n",
              "    <tr>\n",
              "      <th>21</th>\n",
              "      <td>1.982519</td>\n",
              "      <td>0.611354</td>\n",
              "      <td>0.603167</td>\n",
              "      <td>0.067638</td>\n",
              "      <td>1.257272</td>\n",
              "      <td>0.970088</td>\n",
              "      <td>1.460910</td>\n",
              "      <td>2.335921</td>\n",
              "      <td>-0.343666</td>\n",
              "      <td>1.377569</td>\n",
              "    </tr>\n",
              "    <tr>\n",
              "      <th>22</th>\n",
              "      <td>-0.503505</td>\n",
              "      <td>-0.699494</td>\n",
              "      <td>-0.742767</td>\n",
              "      <td>-0.632794</td>\n",
              "      <td>-0.549168</td>\n",
              "      <td>-0.686488</td>\n",
              "      <td>-0.589645</td>\n",
              "      <td>-0.611387</td>\n",
              "      <td>-0.343666</td>\n",
              "      <td>-0.724878</td>\n",
              "    </tr>\n",
              "    <tr>\n",
              "      <th>23</th>\n",
              "      <td>1.272227</td>\n",
              "      <td>0.283642</td>\n",
              "      <td>0.603167</td>\n",
              "      <td>-0.632794</td>\n",
              "      <td>-0.549168</td>\n",
              "      <td>-0.686488</td>\n",
              "      <td>1.460910</td>\n",
              "      <td>0.043570</td>\n",
              "      <td>-0.343666</td>\n",
              "      <td>1.377569</td>\n",
              "    </tr>\n",
              "    <tr>\n",
              "      <th>24</th>\n",
              "      <td>-1.213798</td>\n",
              "      <td>-0.699494</td>\n",
              "      <td>-0.742767</td>\n",
              "      <td>-0.632794</td>\n",
              "      <td>-0.549168</td>\n",
              "      <td>-0.686488</td>\n",
              "      <td>-0.179534</td>\n",
              "      <td>-0.611387</td>\n",
              "      <td>-0.343666</td>\n",
              "      <td>-0.724878</td>\n",
              "    </tr>\n",
              "  </tbody>\n",
              "</table>\n",
              "</div>"
            ],
            "text/plain": [
              "    Clump Thickness  Uniformity of Cell Size  ...   Mitoses     Class\n",
              "20         0.917080                -0.044070  ...  1.405526  1.377569\n",
              "21         1.982519                 0.611354  ... -0.343666  1.377569\n",
              "22        -0.503505                -0.699494  ... -0.343666 -0.724878\n",
              "23         1.272227                 0.283642  ... -0.343666  1.377569\n",
              "24        -1.213798                -0.699494  ... -0.343666 -0.724878\n",
              "\n",
              "[5 rows x 10 columns]"
            ]
          },
          "metadata": {},
          "execution_count": 767
        }
      ]
    },
    {
      "cell_type": "code",
      "metadata": {
        "colab": {
          "base_uri": "https://localhost:8080/"
        },
        "id": "c5u0rvSkiF_n",
        "outputId": "1aca0efd-2a0f-4598-8bca-5ad651270e36"
      },
      "source": [
        "print('Number of rows before discarding outliers = %d' % (Z.shape[0]))\n",
        "\n",
        "Z2 = Z.loc[((Z > -3).sum(axis=1)==9) & ((Z <= 3).sum(axis=1)==9),:]\n",
        "print('Number of rows after discarding missing values = %d' % (Z2.shape[0]))"
      ],
      "execution_count": 768,
      "outputs": [
        {
          "output_type": "stream",
          "text": [
            "Number of rows before discarding outliers = 699\n",
            "Number of rows after discarding missing values = 0\n"
          ],
          "name": "stdout"
        }
      ]
    },
    {
      "cell_type": "code",
      "metadata": {
        "colab": {
          "base_uri": "https://localhost:8080/",
          "height": 147
        },
        "id": "o-RIGWv0iJqi",
        "outputId": "2c37562e-9475-4b07-9763-8b57b17d731b"
      },
      "source": [
        "dups = data2.duplicated()\n",
        "print('Number of duplicate rows = %d' % (dups.sum()))\n",
        "data2.loc[[11,28]]"
      ],
      "execution_count": 769,
      "outputs": [
        {
          "output_type": "stream",
          "text": [
            "Number of duplicate rows = 242\n"
          ],
          "name": "stdout"
        },
        {
          "output_type": "execute_result",
          "data": {
            "text/html": [
              "<div>\n",
              "<style scoped>\n",
              "    .dataframe tbody tr th:only-of-type {\n",
              "        vertical-align: middle;\n",
              "    }\n",
              "\n",
              "    .dataframe tbody tr th {\n",
              "        vertical-align: top;\n",
              "    }\n",
              "\n",
              "    .dataframe thead th {\n",
              "        text-align: right;\n",
              "    }\n",
              "</style>\n",
              "<table border=\"1\" class=\"dataframe\">\n",
              "  <thead>\n",
              "    <tr style=\"text-align: right;\">\n",
              "      <th></th>\n",
              "      <th>Clump Thickness</th>\n",
              "      <th>Uniformity of Cell Size</th>\n",
              "      <th>Uniformity of Cell Shape</th>\n",
              "      <th>Marginal Adhesion</th>\n",
              "      <th>Single Epithelial Cell Size</th>\n",
              "      <th>Bare Nuclei</th>\n",
              "      <th>Bland Chromatin</th>\n",
              "      <th>Normal Nucleoli</th>\n",
              "      <th>Mitoses</th>\n",
              "      <th>Class</th>\n",
              "    </tr>\n",
              "  </thead>\n",
              "  <tbody>\n",
              "    <tr>\n",
              "      <th>11</th>\n",
              "      <td>2</td>\n",
              "      <td>1</td>\n",
              "      <td>1</td>\n",
              "      <td>1</td>\n",
              "      <td>2</td>\n",
              "      <td>1.0</td>\n",
              "      <td>2</td>\n",
              "      <td>1</td>\n",
              "      <td>1</td>\n",
              "      <td>2</td>\n",
              "    </tr>\n",
              "    <tr>\n",
              "      <th>28</th>\n",
              "      <td>2</td>\n",
              "      <td>1</td>\n",
              "      <td>1</td>\n",
              "      <td>1</td>\n",
              "      <td>2</td>\n",
              "      <td>1.0</td>\n",
              "      <td>2</td>\n",
              "      <td>1</td>\n",
              "      <td>1</td>\n",
              "      <td>2</td>\n",
              "    </tr>\n",
              "  </tbody>\n",
              "</table>\n",
              "</div>"
            ],
            "text/plain": [
              "    Clump Thickness  Uniformity of Cell Size  ...  Mitoses  Class\n",
              "11                2                        1  ...        1      2\n",
              "28                2                        1  ...        1      2\n",
              "\n",
              "[2 rows x 10 columns]"
            ]
          },
          "metadata": {},
          "execution_count": 769
        }
      ]
    },
    {
      "cell_type": "markdown",
      "metadata": {
        "id": "zwPt61UlnXLV"
      },
      "source": [
        "Removing duplicate rows"
      ]
    },
    {
      "cell_type": "code",
      "metadata": {
        "colab": {
          "base_uri": "https://localhost:8080/",
          "height": 441
        },
        "id": "lN2IWTIdiMwr",
        "outputId": "7af8197b-890a-4616-ce53-5f037ac2356c"
      },
      "source": [
        "data2.drop_duplicates()"
      ],
      "execution_count": 770,
      "outputs": [
        {
          "output_type": "execute_result",
          "data": {
            "text/html": [
              "<div>\n",
              "<style scoped>\n",
              "    .dataframe tbody tr th:only-of-type {\n",
              "        vertical-align: middle;\n",
              "    }\n",
              "\n",
              "    .dataframe tbody tr th {\n",
              "        vertical-align: top;\n",
              "    }\n",
              "\n",
              "    .dataframe thead th {\n",
              "        text-align: right;\n",
              "    }\n",
              "</style>\n",
              "<table border=\"1\" class=\"dataframe\">\n",
              "  <thead>\n",
              "    <tr style=\"text-align: right;\">\n",
              "      <th></th>\n",
              "      <th>Clump Thickness</th>\n",
              "      <th>Uniformity of Cell Size</th>\n",
              "      <th>Uniformity of Cell Shape</th>\n",
              "      <th>Marginal Adhesion</th>\n",
              "      <th>Single Epithelial Cell Size</th>\n",
              "      <th>Bare Nuclei</th>\n",
              "      <th>Bland Chromatin</th>\n",
              "      <th>Normal Nucleoli</th>\n",
              "      <th>Mitoses</th>\n",
              "      <th>Class</th>\n",
              "    </tr>\n",
              "  </thead>\n",
              "  <tbody>\n",
              "    <tr>\n",
              "      <th>0</th>\n",
              "      <td>5</td>\n",
              "      <td>1</td>\n",
              "      <td>1</td>\n",
              "      <td>1</td>\n",
              "      <td>2</td>\n",
              "      <td>1.0</td>\n",
              "      <td>3</td>\n",
              "      <td>1</td>\n",
              "      <td>1</td>\n",
              "      <td>2</td>\n",
              "    </tr>\n",
              "    <tr>\n",
              "      <th>1</th>\n",
              "      <td>5</td>\n",
              "      <td>4</td>\n",
              "      <td>4</td>\n",
              "      <td>5</td>\n",
              "      <td>7</td>\n",
              "      <td>10.0</td>\n",
              "      <td>3</td>\n",
              "      <td>2</td>\n",
              "      <td>1</td>\n",
              "      <td>2</td>\n",
              "    </tr>\n",
              "    <tr>\n",
              "      <th>2</th>\n",
              "      <td>3</td>\n",
              "      <td>1</td>\n",
              "      <td>1</td>\n",
              "      <td>1</td>\n",
              "      <td>2</td>\n",
              "      <td>2.0</td>\n",
              "      <td>3</td>\n",
              "      <td>1</td>\n",
              "      <td>1</td>\n",
              "      <td>2</td>\n",
              "    </tr>\n",
              "    <tr>\n",
              "      <th>3</th>\n",
              "      <td>6</td>\n",
              "      <td>8</td>\n",
              "      <td>8</td>\n",
              "      <td>1</td>\n",
              "      <td>3</td>\n",
              "      <td>4.0</td>\n",
              "      <td>3</td>\n",
              "      <td>7</td>\n",
              "      <td>1</td>\n",
              "      <td>2</td>\n",
              "    </tr>\n",
              "    <tr>\n",
              "      <th>4</th>\n",
              "      <td>4</td>\n",
              "      <td>1</td>\n",
              "      <td>1</td>\n",
              "      <td>3</td>\n",
              "      <td>2</td>\n",
              "      <td>1.0</td>\n",
              "      <td>3</td>\n",
              "      <td>1</td>\n",
              "      <td>1</td>\n",
              "      <td>2</td>\n",
              "    </tr>\n",
              "    <tr>\n",
              "      <th>...</th>\n",
              "      <td>...</td>\n",
              "      <td>...</td>\n",
              "      <td>...</td>\n",
              "      <td>...</td>\n",
              "      <td>...</td>\n",
              "      <td>...</td>\n",
              "      <td>...</td>\n",
              "      <td>...</td>\n",
              "      <td>...</td>\n",
              "      <td>...</td>\n",
              "    </tr>\n",
              "    <tr>\n",
              "      <th>693</th>\n",
              "      <td>3</td>\n",
              "      <td>1</td>\n",
              "      <td>1</td>\n",
              "      <td>1</td>\n",
              "      <td>2</td>\n",
              "      <td>1.0</td>\n",
              "      <td>2</td>\n",
              "      <td>1</td>\n",
              "      <td>2</td>\n",
              "      <td>2</td>\n",
              "    </tr>\n",
              "    <tr>\n",
              "      <th>694</th>\n",
              "      <td>3</td>\n",
              "      <td>1</td>\n",
              "      <td>1</td>\n",
              "      <td>1</td>\n",
              "      <td>3</td>\n",
              "      <td>2.0</td>\n",
              "      <td>1</td>\n",
              "      <td>1</td>\n",
              "      <td>1</td>\n",
              "      <td>2</td>\n",
              "    </tr>\n",
              "    <tr>\n",
              "      <th>696</th>\n",
              "      <td>5</td>\n",
              "      <td>10</td>\n",
              "      <td>10</td>\n",
              "      <td>3</td>\n",
              "      <td>7</td>\n",
              "      <td>3.0</td>\n",
              "      <td>8</td>\n",
              "      <td>10</td>\n",
              "      <td>2</td>\n",
              "      <td>4</td>\n",
              "    </tr>\n",
              "    <tr>\n",
              "      <th>697</th>\n",
              "      <td>4</td>\n",
              "      <td>8</td>\n",
              "      <td>6</td>\n",
              "      <td>4</td>\n",
              "      <td>3</td>\n",
              "      <td>4.0</td>\n",
              "      <td>10</td>\n",
              "      <td>6</td>\n",
              "      <td>1</td>\n",
              "      <td>4</td>\n",
              "    </tr>\n",
              "    <tr>\n",
              "      <th>698</th>\n",
              "      <td>4</td>\n",
              "      <td>8</td>\n",
              "      <td>8</td>\n",
              "      <td>5</td>\n",
              "      <td>4</td>\n",
              "      <td>5.0</td>\n",
              "      <td>10</td>\n",
              "      <td>4</td>\n",
              "      <td>1</td>\n",
              "      <td>4</td>\n",
              "    </tr>\n",
              "  </tbody>\n",
              "</table>\n",
              "<p>457 rows × 10 columns</p>\n",
              "</div>"
            ],
            "text/plain": [
              "     Clump Thickness  Uniformity of Cell Size  ...  Mitoses  Class\n",
              "0                  5                        1  ...        1      2\n",
              "1                  5                        4  ...        1      2\n",
              "2                  3                        1  ...        1      2\n",
              "3                  6                        8  ...        1      2\n",
              "4                  4                        1  ...        1      2\n",
              "..               ...                      ...  ...      ...    ...\n",
              "693                3                        1  ...        2      2\n",
              "694                3                        1  ...        1      2\n",
              "696                5                       10  ...        2      4\n",
              "697                4                        8  ...        1      4\n",
              "698                4                        8  ...        1      4\n",
              "\n",
              "[457 rows x 10 columns]"
            ]
          },
          "metadata": {},
          "execution_count": 770
        }
      ]
    },
    {
      "cell_type": "code",
      "metadata": {
        "colab": {
          "base_uri": "https://localhost:8080/",
          "height": 161
        },
        "id": "IWUv1GTnieI_",
        "outputId": "25b56926-f545-426a-d60e-adc9f08a5bc0"
      },
      "source": [
        "sample = data2.sample(n=3)\n",
        "sample"
      ],
      "execution_count": 771,
      "outputs": [
        {
          "output_type": "execute_result",
          "data": {
            "text/html": [
              "<div>\n",
              "<style scoped>\n",
              "    .dataframe tbody tr th:only-of-type {\n",
              "        vertical-align: middle;\n",
              "    }\n",
              "\n",
              "    .dataframe tbody tr th {\n",
              "        vertical-align: top;\n",
              "    }\n",
              "\n",
              "    .dataframe thead th {\n",
              "        text-align: right;\n",
              "    }\n",
              "</style>\n",
              "<table border=\"1\" class=\"dataframe\">\n",
              "  <thead>\n",
              "    <tr style=\"text-align: right;\">\n",
              "      <th></th>\n",
              "      <th>Clump Thickness</th>\n",
              "      <th>Uniformity of Cell Size</th>\n",
              "      <th>Uniformity of Cell Shape</th>\n",
              "      <th>Marginal Adhesion</th>\n",
              "      <th>Single Epithelial Cell Size</th>\n",
              "      <th>Bare Nuclei</th>\n",
              "      <th>Bland Chromatin</th>\n",
              "      <th>Normal Nucleoli</th>\n",
              "      <th>Mitoses</th>\n",
              "      <th>Class</th>\n",
              "    </tr>\n",
              "  </thead>\n",
              "  <tbody>\n",
              "    <tr>\n",
              "      <th>668</th>\n",
              "      <td>5</td>\n",
              "      <td>7</td>\n",
              "      <td>4</td>\n",
              "      <td>1</td>\n",
              "      <td>6</td>\n",
              "      <td>1.0</td>\n",
              "      <td>7</td>\n",
              "      <td>10</td>\n",
              "      <td>3</td>\n",
              "      <td>4</td>\n",
              "    </tr>\n",
              "    <tr>\n",
              "      <th>492</th>\n",
              "      <td>4</td>\n",
              "      <td>1</td>\n",
              "      <td>1</td>\n",
              "      <td>1</td>\n",
              "      <td>1</td>\n",
              "      <td>1.0</td>\n",
              "      <td>2</td>\n",
              "      <td>1</td>\n",
              "      <td>1</td>\n",
              "      <td>2</td>\n",
              "    </tr>\n",
              "    <tr>\n",
              "      <th>155</th>\n",
              "      <td>5</td>\n",
              "      <td>5</td>\n",
              "      <td>5</td>\n",
              "      <td>6</td>\n",
              "      <td>3</td>\n",
              "      <td>10.0</td>\n",
              "      <td>3</td>\n",
              "      <td>1</td>\n",
              "      <td>1</td>\n",
              "      <td>4</td>\n",
              "    </tr>\n",
              "  </tbody>\n",
              "</table>\n",
              "</div>"
            ],
            "text/plain": [
              "     Clump Thickness  Uniformity of Cell Size  ...  Mitoses  Class\n",
              "668                5                        7  ...        3      4\n",
              "492                4                        1  ...        1      2\n",
              "155                5                        5  ...        1      4\n",
              "\n",
              "[3 rows x 10 columns]"
            ]
          },
          "metadata": {},
          "execution_count": 771
        }
      ]
    },
    {
      "cell_type": "code",
      "metadata": {
        "colab": {
          "base_uri": "https://localhost:8080/",
          "height": 286
        },
        "id": "lotcFTB0ih-U",
        "outputId": "c8815432-a1ef-40e5-dc27-7f1fce25f317"
      },
      "source": [
        "sample = data2.sample(frac=0.01, random_state=1)\n",
        "sample"
      ],
      "execution_count": 772,
      "outputs": [
        {
          "output_type": "execute_result",
          "data": {
            "text/html": [
              "<div>\n",
              "<style scoped>\n",
              "    .dataframe tbody tr th:only-of-type {\n",
              "        vertical-align: middle;\n",
              "    }\n",
              "\n",
              "    .dataframe tbody tr th {\n",
              "        vertical-align: top;\n",
              "    }\n",
              "\n",
              "    .dataframe thead th {\n",
              "        text-align: right;\n",
              "    }\n",
              "</style>\n",
              "<table border=\"1\" class=\"dataframe\">\n",
              "  <thead>\n",
              "    <tr style=\"text-align: right;\">\n",
              "      <th></th>\n",
              "      <th>Clump Thickness</th>\n",
              "      <th>Uniformity of Cell Size</th>\n",
              "      <th>Uniformity of Cell Shape</th>\n",
              "      <th>Marginal Adhesion</th>\n",
              "      <th>Single Epithelial Cell Size</th>\n",
              "      <th>Bare Nuclei</th>\n",
              "      <th>Bland Chromatin</th>\n",
              "      <th>Normal Nucleoli</th>\n",
              "      <th>Mitoses</th>\n",
              "      <th>Class</th>\n",
              "    </tr>\n",
              "  </thead>\n",
              "  <tbody>\n",
              "    <tr>\n",
              "      <th>584</th>\n",
              "      <td>5</td>\n",
              "      <td>1</td>\n",
              "      <td>1</td>\n",
              "      <td>6</td>\n",
              "      <td>3</td>\n",
              "      <td>1.0</td>\n",
              "      <td>1</td>\n",
              "      <td>1</td>\n",
              "      <td>1</td>\n",
              "      <td>2</td>\n",
              "    </tr>\n",
              "    <tr>\n",
              "      <th>417</th>\n",
              "      <td>1</td>\n",
              "      <td>1</td>\n",
              "      <td>1</td>\n",
              "      <td>1</td>\n",
              "      <td>2</td>\n",
              "      <td>1.0</td>\n",
              "      <td>2</td>\n",
              "      <td>1</td>\n",
              "      <td>1</td>\n",
              "      <td>2</td>\n",
              "    </tr>\n",
              "    <tr>\n",
              "      <th>606</th>\n",
              "      <td>4</td>\n",
              "      <td>1</td>\n",
              "      <td>1</td>\n",
              "      <td>2</td>\n",
              "      <td>2</td>\n",
              "      <td>1.0</td>\n",
              "      <td>1</td>\n",
              "      <td>1</td>\n",
              "      <td>1</td>\n",
              "      <td>2</td>\n",
              "    </tr>\n",
              "    <tr>\n",
              "      <th>349</th>\n",
              "      <td>4</td>\n",
              "      <td>2</td>\n",
              "      <td>3</td>\n",
              "      <td>5</td>\n",
              "      <td>3</td>\n",
              "      <td>8.0</td>\n",
              "      <td>7</td>\n",
              "      <td>6</td>\n",
              "      <td>1</td>\n",
              "      <td>4</td>\n",
              "    </tr>\n",
              "    <tr>\n",
              "      <th>134</th>\n",
              "      <td>3</td>\n",
              "      <td>1</td>\n",
              "      <td>1</td>\n",
              "      <td>1</td>\n",
              "      <td>3</td>\n",
              "      <td>1.0</td>\n",
              "      <td>2</td>\n",
              "      <td>1</td>\n",
              "      <td>1</td>\n",
              "      <td>2</td>\n",
              "    </tr>\n",
              "    <tr>\n",
              "      <th>502</th>\n",
              "      <td>4</td>\n",
              "      <td>1</td>\n",
              "      <td>1</td>\n",
              "      <td>2</td>\n",
              "      <td>2</td>\n",
              "      <td>1.0</td>\n",
              "      <td>2</td>\n",
              "      <td>1</td>\n",
              "      <td>1</td>\n",
              "      <td>2</td>\n",
              "    </tr>\n",
              "    <tr>\n",
              "      <th>117</th>\n",
              "      <td>4</td>\n",
              "      <td>5</td>\n",
              "      <td>5</td>\n",
              "      <td>10</td>\n",
              "      <td>4</td>\n",
              "      <td>10.0</td>\n",
              "      <td>7</td>\n",
              "      <td>5</td>\n",
              "      <td>8</td>\n",
              "      <td>4</td>\n",
              "    </tr>\n",
              "  </tbody>\n",
              "</table>\n",
              "</div>"
            ],
            "text/plain": [
              "     Clump Thickness  Uniformity of Cell Size  ...  Mitoses  Class\n",
              "584                5                        1  ...        1      2\n",
              "417                1                        1  ...        1      2\n",
              "606                4                        1  ...        1      2\n",
              "349                4                        2  ...        1      4\n",
              "134                3                        1  ...        1      2\n",
              "502                4                        1  ...        1      2\n",
              "117                4                        5  ...        8      4\n",
              "\n",
              "[7 rows x 10 columns]"
            ]
          },
          "metadata": {},
          "execution_count": 772
        }
      ]
    },
    {
      "cell_type": "code",
      "metadata": {
        "colab": {
          "base_uri": "https://localhost:8080/",
          "height": 286
        },
        "id": "f6kjqXBNilrb",
        "outputId": "25696d60-98b2-4ac8-db4a-05a6322a62d1"
      },
      "source": [
        "sample = data2.sample(frac=0.01, replace=True, random_state=1)\n",
        "sample"
      ],
      "execution_count": 773,
      "outputs": [
        {
          "output_type": "execute_result",
          "data": {
            "text/html": [
              "<div>\n",
              "<style scoped>\n",
              "    .dataframe tbody tr th:only-of-type {\n",
              "        vertical-align: middle;\n",
              "    }\n",
              "\n",
              "    .dataframe tbody tr th {\n",
              "        vertical-align: top;\n",
              "    }\n",
              "\n",
              "    .dataframe thead th {\n",
              "        text-align: right;\n",
              "    }\n",
              "</style>\n",
              "<table border=\"1\" class=\"dataframe\">\n",
              "  <thead>\n",
              "    <tr style=\"text-align: right;\">\n",
              "      <th></th>\n",
              "      <th>Clump Thickness</th>\n",
              "      <th>Uniformity of Cell Size</th>\n",
              "      <th>Uniformity of Cell Shape</th>\n",
              "      <th>Marginal Adhesion</th>\n",
              "      <th>Single Epithelial Cell Size</th>\n",
              "      <th>Bare Nuclei</th>\n",
              "      <th>Bland Chromatin</th>\n",
              "      <th>Normal Nucleoli</th>\n",
              "      <th>Mitoses</th>\n",
              "      <th>Class</th>\n",
              "    </tr>\n",
              "  </thead>\n",
              "  <tbody>\n",
              "    <tr>\n",
              "      <th>37</th>\n",
              "      <td>6</td>\n",
              "      <td>2</td>\n",
              "      <td>1</td>\n",
              "      <td>1</td>\n",
              "      <td>1</td>\n",
              "      <td>1.0</td>\n",
              "      <td>7</td>\n",
              "      <td>1</td>\n",
              "      <td>1</td>\n",
              "      <td>2</td>\n",
              "    </tr>\n",
              "    <tr>\n",
              "      <th>235</th>\n",
              "      <td>3</td>\n",
              "      <td>1</td>\n",
              "      <td>4</td>\n",
              "      <td>1</td>\n",
              "      <td>2</td>\n",
              "      <td>1.0</td>\n",
              "      <td>3</td>\n",
              "      <td>1</td>\n",
              "      <td>1</td>\n",
              "      <td>2</td>\n",
              "    </tr>\n",
              "    <tr>\n",
              "      <th>72</th>\n",
              "      <td>1</td>\n",
              "      <td>3</td>\n",
              "      <td>3</td>\n",
              "      <td>2</td>\n",
              "      <td>2</td>\n",
              "      <td>1.0</td>\n",
              "      <td>7</td>\n",
              "      <td>2</td>\n",
              "      <td>1</td>\n",
              "      <td>2</td>\n",
              "    </tr>\n",
              "    <tr>\n",
              "      <th>645</th>\n",
              "      <td>3</td>\n",
              "      <td>1</td>\n",
              "      <td>1</td>\n",
              "      <td>1</td>\n",
              "      <td>2</td>\n",
              "      <td>1.0</td>\n",
              "      <td>2</td>\n",
              "      <td>1</td>\n",
              "      <td>1</td>\n",
              "      <td>2</td>\n",
              "    </tr>\n",
              "    <tr>\n",
              "      <th>144</th>\n",
              "      <td>2</td>\n",
              "      <td>1</td>\n",
              "      <td>1</td>\n",
              "      <td>1</td>\n",
              "      <td>2</td>\n",
              "      <td>1.0</td>\n",
              "      <td>2</td>\n",
              "      <td>1</td>\n",
              "      <td>1</td>\n",
              "      <td>2</td>\n",
              "    </tr>\n",
              "    <tr>\n",
              "      <th>129</th>\n",
              "      <td>1</td>\n",
              "      <td>1</td>\n",
              "      <td>1</td>\n",
              "      <td>1</td>\n",
              "      <td>10</td>\n",
              "      <td>1.0</td>\n",
              "      <td>1</td>\n",
              "      <td>1</td>\n",
              "      <td>1</td>\n",
              "      <td>2</td>\n",
              "    </tr>\n",
              "    <tr>\n",
              "      <th>583</th>\n",
              "      <td>3</td>\n",
              "      <td>1</td>\n",
              "      <td>1</td>\n",
              "      <td>1</td>\n",
              "      <td>2</td>\n",
              "      <td>1.0</td>\n",
              "      <td>1</td>\n",
              "      <td>1</td>\n",
              "      <td>1</td>\n",
              "      <td>2</td>\n",
              "    </tr>\n",
              "  </tbody>\n",
              "</table>\n",
              "</div>"
            ],
            "text/plain": [
              "     Clump Thickness  Uniformity of Cell Size  ...  Mitoses  Class\n",
              "37                 6                        2  ...        1      2\n",
              "235                3                        1  ...        1      2\n",
              "72                 1                        3  ...        1      2\n",
              "645                3                        1  ...        1      2\n",
              "144                2                        1  ...        1      2\n",
              "129                1                        1  ...        1      2\n",
              "583                3                        1  ...        1      2\n",
              "\n",
              "[7 rows x 10 columns]"
            ]
          },
          "metadata": {},
          "execution_count": 773
        }
      ]
    },
    {
      "cell_type": "code",
      "metadata": {
        "colab": {
          "base_uri": "https://localhost:8080/"
        },
        "id": "GAHQkpukittO",
        "outputId": "256f9a5b-f38f-416e-c4aa-9b4738a5ddcb"
      },
      "source": [
        "bins = pd.cut(data['Clump Thickness'],4)\n",
        "bins.value_counts(sort=False)"
      ],
      "execution_count": 774,
      "outputs": [
        {
          "output_type": "execute_result",
          "data": {
            "text/plain": [
              "(0.991, 3.25]    303\n",
              "(3.25, 5.5]      210\n",
              "(5.5, 7.75]       57\n",
              "(7.75, 10.0]     129\n",
              "Name: Clump Thickness, dtype: int64"
            ]
          },
          "metadata": {},
          "execution_count": 774
        }
      ]
    },
    {
      "cell_type": "markdown",
      "metadata": {
        "id": "q2Nh6h73sobL"
      },
      "source": [
        "# 3 C .\tCorrelational analysis on the dataset and visualization\n"
      ]
    },
    {
      "cell_type": "code",
      "metadata": {
        "colab": {
          "base_uri": "https://localhost:8080/",
          "height": 501
        },
        "id": "chaQiU9aqPMq",
        "outputId": "9bc6129f-c88c-46f6-dbff-b1bba7e4657c"
      },
      "source": [
        "# Check the correlation in the data\n",
        "data.corr()"
      ],
      "execution_count": 775,
      "outputs": [
        {
          "output_type": "execute_result",
          "data": {
            "text/html": [
              "<div>\n",
              "<style scoped>\n",
              "    .dataframe tbody tr th:only-of-type {\n",
              "        vertical-align: middle;\n",
              "    }\n",
              "\n",
              "    .dataframe tbody tr th {\n",
              "        vertical-align: top;\n",
              "    }\n",
              "\n",
              "    .dataframe thead th {\n",
              "        text-align: right;\n",
              "    }\n",
              "</style>\n",
              "<table border=\"1\" class=\"dataframe\">\n",
              "  <thead>\n",
              "    <tr style=\"text-align: right;\">\n",
              "      <th></th>\n",
              "      <th>Clump Thickness</th>\n",
              "      <th>Uniformity of Cell Size</th>\n",
              "      <th>Uniformity of Cell Shape</th>\n",
              "      <th>Marginal Adhesion</th>\n",
              "      <th>Single Epithelial Cell Size</th>\n",
              "      <th>Bare Nuclei</th>\n",
              "      <th>Bland Chromatin</th>\n",
              "      <th>Normal Nucleoli</th>\n",
              "      <th>Mitoses</th>\n",
              "      <th>Class</th>\n",
              "    </tr>\n",
              "  </thead>\n",
              "  <tbody>\n",
              "    <tr>\n",
              "      <th>Clump Thickness</th>\n",
              "      <td>1.000000</td>\n",
              "      <td>0.644913</td>\n",
              "      <td>0.654589</td>\n",
              "      <td>0.486356</td>\n",
              "      <td>0.521816</td>\n",
              "      <td>0.590008</td>\n",
              "      <td>0.558428</td>\n",
              "      <td>0.535835</td>\n",
              "      <td>0.350034</td>\n",
              "      <td>0.716001</td>\n",
              "    </tr>\n",
              "    <tr>\n",
              "      <th>Uniformity of Cell Size</th>\n",
              "      <td>0.644913</td>\n",
              "      <td>1.000000</td>\n",
              "      <td>0.906882</td>\n",
              "      <td>0.705582</td>\n",
              "      <td>0.751799</td>\n",
              "      <td>0.686673</td>\n",
              "      <td>0.755721</td>\n",
              "      <td>0.722865</td>\n",
              "      <td>0.458693</td>\n",
              "      <td>0.817904</td>\n",
              "    </tr>\n",
              "    <tr>\n",
              "      <th>Uniformity of Cell Shape</th>\n",
              "      <td>0.654589</td>\n",
              "      <td>0.906882</td>\n",
              "      <td>1.000000</td>\n",
              "      <td>0.683079</td>\n",
              "      <td>0.719668</td>\n",
              "      <td>0.707474</td>\n",
              "      <td>0.735948</td>\n",
              "      <td>0.719446</td>\n",
              "      <td>0.438911</td>\n",
              "      <td>0.818934</td>\n",
              "    </tr>\n",
              "    <tr>\n",
              "      <th>Marginal Adhesion</th>\n",
              "      <td>0.486356</td>\n",
              "      <td>0.705582</td>\n",
              "      <td>0.683079</td>\n",
              "      <td>1.000000</td>\n",
              "      <td>0.599599</td>\n",
              "      <td>0.666971</td>\n",
              "      <td>0.666715</td>\n",
              "      <td>0.603352</td>\n",
              "      <td>0.417633</td>\n",
              "      <td>0.696800</td>\n",
              "    </tr>\n",
              "    <tr>\n",
              "      <th>Single Epithelial Cell Size</th>\n",
              "      <td>0.521816</td>\n",
              "      <td>0.751799</td>\n",
              "      <td>0.719668</td>\n",
              "      <td>0.599599</td>\n",
              "      <td>1.000000</td>\n",
              "      <td>0.583701</td>\n",
              "      <td>0.616102</td>\n",
              "      <td>0.628881</td>\n",
              "      <td>0.479101</td>\n",
              "      <td>0.682785</td>\n",
              "    </tr>\n",
              "    <tr>\n",
              "      <th>Bare Nuclei</th>\n",
              "      <td>0.590008</td>\n",
              "      <td>0.686673</td>\n",
              "      <td>0.707474</td>\n",
              "      <td>0.666971</td>\n",
              "      <td>0.583701</td>\n",
              "      <td>1.000000</td>\n",
              "      <td>0.674215</td>\n",
              "      <td>0.574778</td>\n",
              "      <td>0.342397</td>\n",
              "      <td>0.818968</td>\n",
              "    </tr>\n",
              "    <tr>\n",
              "      <th>Bland Chromatin</th>\n",
              "      <td>0.558428</td>\n",
              "      <td>0.755721</td>\n",
              "      <td>0.735948</td>\n",
              "      <td>0.666715</td>\n",
              "      <td>0.616102</td>\n",
              "      <td>0.674215</td>\n",
              "      <td>1.000000</td>\n",
              "      <td>0.665878</td>\n",
              "      <td>0.344169</td>\n",
              "      <td>0.756616</td>\n",
              "    </tr>\n",
              "    <tr>\n",
              "      <th>Normal Nucleoli</th>\n",
              "      <td>0.535835</td>\n",
              "      <td>0.722865</td>\n",
              "      <td>0.719446</td>\n",
              "      <td>0.603352</td>\n",
              "      <td>0.628881</td>\n",
              "      <td>0.574778</td>\n",
              "      <td>0.665878</td>\n",
              "      <td>1.000000</td>\n",
              "      <td>0.428336</td>\n",
              "      <td>0.712244</td>\n",
              "    </tr>\n",
              "    <tr>\n",
              "      <th>Mitoses</th>\n",
              "      <td>0.350034</td>\n",
              "      <td>0.458693</td>\n",
              "      <td>0.438911</td>\n",
              "      <td>0.417633</td>\n",
              "      <td>0.479101</td>\n",
              "      <td>0.342397</td>\n",
              "      <td>0.344169</td>\n",
              "      <td>0.428336</td>\n",
              "      <td>1.000000</td>\n",
              "      <td>0.423170</td>\n",
              "    </tr>\n",
              "    <tr>\n",
              "      <th>Class</th>\n",
              "      <td>0.716001</td>\n",
              "      <td>0.817904</td>\n",
              "      <td>0.818934</td>\n",
              "      <td>0.696800</td>\n",
              "      <td>0.682785</td>\n",
              "      <td>0.818968</td>\n",
              "      <td>0.756616</td>\n",
              "      <td>0.712244</td>\n",
              "      <td>0.423170</td>\n",
              "      <td>1.000000</td>\n",
              "    </tr>\n",
              "  </tbody>\n",
              "</table>\n",
              "</div>"
            ],
            "text/plain": [
              "                             Clump Thickness  ...     Class\n",
              "Clump Thickness                     1.000000  ...  0.716001\n",
              "Uniformity of Cell Size             0.644913  ...  0.817904\n",
              "Uniformity of Cell Shape            0.654589  ...  0.818934\n",
              "Marginal Adhesion                   0.486356  ...  0.696800\n",
              "Single Epithelial Cell Size         0.521816  ...  0.682785\n",
              "Bare Nuclei                         0.590008  ...  0.818968\n",
              "Bland Chromatin                     0.558428  ...  0.756616\n",
              "Normal Nucleoli                     0.535835  ...  0.712244\n",
              "Mitoses                             0.350034  ...  0.423170\n",
              "Class                               0.716001  ...  1.000000\n",
              "\n",
              "[10 rows x 10 columns]"
            ]
          },
          "metadata": {},
          "execution_count": 775
        }
      ]
    },
    {
      "cell_type": "code",
      "metadata": {
        "colab": {
          "base_uri": "https://localhost:8080/",
          "height": 403
        },
        "id": "qZfh1Go-rL7j",
        "outputId": "2effb056-fcd5-46e7-f90b-e6208de15999"
      },
      "source": [
        "sns.heatmap(data.corr(), square = True)"
      ],
      "execution_count": 776,
      "outputs": [
        {
          "output_type": "execute_result",
          "data": {
            "text/plain": [
              "<matplotlib.axes._subplots.AxesSubplot at 0x7fdd314c8cd0>"
            ]
          },
          "metadata": {},
          "execution_count": 776
        },
        {
          "output_type": "display_data",
          "data": {
            "image/png": "[encoded data removed]",
            "text/plain": [
              "<Figure size 432x288 with 2 Axes>"
            ]
          },
          "metadata": {
            "needs_background": "light"
          }
        }
      ]
    },
    {
      "cell_type": "markdown",
      "metadata": {
        "id": "u_lDsy9LrcyE"
      },
      "source": [
        "# 3B Applying Feature Reduction techniques\n",
        "# Features \"Uniformity of Cell Size\" and \"Uniformity of Cell Shape\" are highly correlated. So dropping the feature \"Uniformity of Cell Size\"\n"
      ]
    },
    {
      "cell_type": "code",
      "metadata": {
        "colab": {
          "base_uri": "https://localhost:8080/",
          "height": 441
        },
        "id": "L3aYGMO8rcPE",
        "outputId": "a1087bb7-6499-4111-f4b1-86b619258358"
      },
      "source": [
        "data2.drop(['Uniformity of Cell Size'],axis=1)"
      ],
      "execution_count": 777,
      "outputs": [
        {
          "output_type": "execute_result",
          "data": {
            "text/html": [
              "<div>\n",
              "<style scoped>\n",
              "    .dataframe tbody tr th:only-of-type {\n",
              "        vertical-align: middle;\n",
              "    }\n",
              "\n",
              "    .dataframe tbody tr th {\n",
              "        vertical-align: top;\n",
              "    }\n",
              "\n",
              "    .dataframe thead th {\n",
              "        text-align: right;\n",
              "    }\n",
              "</style>\n",
              "<table border=\"1\" class=\"dataframe\">\n",
              "  <thead>\n",
              "    <tr style=\"text-align: right;\">\n",
              "      <th></th>\n",
              "      <th>Clump Thickness</th>\n",
              "      <th>Uniformity of Cell Shape</th>\n",
              "      <th>Marginal Adhesion</th>\n",
              "      <th>Single Epithelial Cell Size</th>\n",
              "      <th>Bare Nuclei</th>\n",
              "      <th>Bland Chromatin</th>\n",
              "      <th>Normal Nucleoli</th>\n",
              "      <th>Mitoses</th>\n",
              "      <th>Class</th>\n",
              "    </tr>\n",
              "  </thead>\n",
              "  <tbody>\n",
              "    <tr>\n",
              "      <th>0</th>\n",
              "      <td>5</td>\n",
              "      <td>1</td>\n",
              "      <td>1</td>\n",
              "      <td>2</td>\n",
              "      <td>1.0</td>\n",
              "      <td>3</td>\n",
              "      <td>1</td>\n",
              "      <td>1</td>\n",
              "      <td>2</td>\n",
              "    </tr>\n",
              "    <tr>\n",
              "      <th>1</th>\n",
              "      <td>5</td>\n",
              "      <td>4</td>\n",
              "      <td>5</td>\n",
              "      <td>7</td>\n",
              "      <td>10.0</td>\n",
              "      <td>3</td>\n",
              "      <td>2</td>\n",
              "      <td>1</td>\n",
              "      <td>2</td>\n",
              "    </tr>\n",
              "    <tr>\n",
              "      <th>2</th>\n",
              "      <td>3</td>\n",
              "      <td>1</td>\n",
              "      <td>1</td>\n",
              "      <td>2</td>\n",
              "      <td>2.0</td>\n",
              "      <td>3</td>\n",
              "      <td>1</td>\n",
              "      <td>1</td>\n",
              "      <td>2</td>\n",
              "    </tr>\n",
              "    <tr>\n",
              "      <th>3</th>\n",
              "      <td>6</td>\n",
              "      <td>8</td>\n",
              "      <td>1</td>\n",
              "      <td>3</td>\n",
              "      <td>4.0</td>\n",
              "      <td>3</td>\n",
              "      <td>7</td>\n",
              "      <td>1</td>\n",
              "      <td>2</td>\n",
              "    </tr>\n",
              "    <tr>\n",
              "      <th>4</th>\n",
              "      <td>4</td>\n",
              "      <td>1</td>\n",
              "      <td>3</td>\n",
              "      <td>2</td>\n",
              "      <td>1.0</td>\n",
              "      <td>3</td>\n",
              "      <td>1</td>\n",
              "      <td>1</td>\n",
              "      <td>2</td>\n",
              "    </tr>\n",
              "    <tr>\n",
              "      <th>...</th>\n",
              "      <td>...</td>\n",
              "      <td>...</td>\n",
              "      <td>...</td>\n",
              "      <td>...</td>\n",
              "      <td>...</td>\n",
              "      <td>...</td>\n",
              "      <td>...</td>\n",
              "      <td>...</td>\n",
              "      <td>...</td>\n",
              "    </tr>\n",
              "    <tr>\n",
              "      <th>694</th>\n",
              "      <td>3</td>\n",
              "      <td>1</td>\n",
              "      <td>1</td>\n",
              "      <td>3</td>\n",
              "      <td>2.0</td>\n",
              "      <td>1</td>\n",
              "      <td>1</td>\n",
              "      <td>1</td>\n",
              "      <td>2</td>\n",
              "    </tr>\n",
              "    <tr>\n",
              "      <th>695</th>\n",
              "      <td>2</td>\n",
              "      <td>1</td>\n",
              "      <td>1</td>\n",
              "      <td>2</td>\n",
              "      <td>1.0</td>\n",
              "      <td>1</td>\n",
              "      <td>1</td>\n",
              "      <td>1</td>\n",
              "      <td>2</td>\n",
              "    </tr>\n",
              "    <tr>\n",
              "      <th>696</th>\n",
              "      <td>5</td>\n",
              "      <td>10</td>\n",
              "      <td>3</td>\n",
              "      <td>7</td>\n",
              "      <td>3.0</td>\n",
              "      <td>8</td>\n",
              "      <td>10</td>\n",
              "      <td>2</td>\n",
              "      <td>4</td>\n",
              "    </tr>\n",
              "    <tr>\n",
              "      <th>697</th>\n",
              "      <td>4</td>\n",
              "      <td>6</td>\n",
              "      <td>4</td>\n",
              "      <td>3</td>\n",
              "      <td>4.0</td>\n",
              "      <td>10</td>\n",
              "      <td>6</td>\n",
              "      <td>1</td>\n",
              "      <td>4</td>\n",
              "    </tr>\n",
              "    <tr>\n",
              "      <th>698</th>\n",
              "      <td>4</td>\n",
              "      <td>8</td>\n",
              "      <td>5</td>\n",
              "      <td>4</td>\n",
              "      <td>5.0</td>\n",
              "      <td>10</td>\n",
              "      <td>4</td>\n",
              "      <td>1</td>\n",
              "      <td>4</td>\n",
              "    </tr>\n",
              "  </tbody>\n",
              "</table>\n",
              "<p>699 rows × 9 columns</p>\n",
              "</div>"
            ],
            "text/plain": [
              "     Clump Thickness  Uniformity of Cell Shape  ...  Mitoses  Class\n",
              "0                  5                         1  ...        1      2\n",
              "1                  5                         4  ...        1      2\n",
              "2                  3                         1  ...        1      2\n",
              "3                  6                         8  ...        1      2\n",
              "4                  4                         1  ...        1      2\n",
              "..               ...                       ...  ...      ...    ...\n",
              "694                3                         1  ...        1      2\n",
              "695                2                         1  ...        1      2\n",
              "696                5                        10  ...        2      4\n",
              "697                4                         6  ...        1      4\n",
              "698                4                         8  ...        1      4\n",
              "\n",
              "[699 rows x 9 columns]"
            ]
          },
          "metadata": {},
          "execution_count": 777
        }
      ]
    },
    {
      "cell_type": "markdown",
      "metadata": {
        "id": "qMSOr_F3utqy"
      },
      "source": [
        "# 4.\tData Preparation"
      ]
    },
    {
      "cell_type": "code",
      "metadata": {
        "colab": {
          "base_uri": "https://localhost:8080/"
        },
        "id": "m29cXb63rbg0",
        "outputId": "86d83249-227c-4781-a44f-1938b7909134"
      },
      "source": [
        "features = ['Clump Thickness', 'Uniformity of Cell Shape',\n",
        "                'Marginal Adhesion', 'Single Epithelial Cell Size', 'Bare Nuclei', 'Bland Chromatin','Normal Nucleoli', 'Mitoses']\n",
        "X = data2[features]\n",
        "# Label selection\n",
        "y = data2.Class\n",
        "print('X:', X)\n",
        "print('y:', y)\n",
        "# For testing purpose\n",
        "train_X, test_X, train_y, test_y = train_test_split(X, y)"
      ],
      "execution_count": 778,
      "outputs": [
        {
          "output_type": "stream",
          "text": [
            "X:      Clump Thickness  Uniformity of Cell Shape  ...  Normal Nucleoli  Mitoses\n",
            "0                  5                         1  ...                1        1\n",
            "1                  5                         4  ...                2        1\n",
            "2                  3                         1  ...                1        1\n",
            "3                  6                         8  ...                7        1\n",
            "4                  4                         1  ...                1        1\n",
            "..               ...                       ...  ...              ...      ...\n",
            "694                3                         1  ...                1        1\n",
            "695                2                         1  ...                1        1\n",
            "696                5                        10  ...               10        2\n",
            "697                4                         6  ...                6        1\n",
            "698                4                         8  ...                4        1\n",
            "\n",
            "[699 rows x 8 columns]\n",
            "y: 0      2\n",
            "1      2\n",
            "2      2\n",
            "3      2\n",
            "4      2\n",
            "      ..\n",
            "694    2\n",
            "695    2\n",
            "696    4\n",
            "697    4\n",
            "698    4\n",
            "Name: Class, Length: 699, dtype: int64\n"
          ],
          "name": "stdout"
        }
      ]
    },
    {
      "cell_type": "markdown",
      "metadata": {
        "id": "gXSoFhVbyGwr"
      },
      "source": [
        "# Part B \n",
        "\n",
        "# 1. Model Building: This section uses 4 models to predict the Class labels for test data. i.e. RandomForestClassifier, LogisticRegression, GaussianNaiiveBayes, DecisionTreeClassifier\n"
      ]
    },
    {
      "cell_type": "markdown",
      "metadata": {
        "id": "6vmhyoeqcAoR"
      },
      "source": [
        "# Model 1: Using RandomForestClassifier to train the model"
      ]
    },
    {
      "cell_type": "code",
      "metadata": {
        "id": "IvBn8Q7Ww-E0"
      },
      "source": [
        "# Loop is used to get more generalized result\n",
        "total_sum = []\n",
        "# Hypertuning of parameters for better prediction\n",
        "forest_model = RandomForestClassifier(n_estimators=100, n_jobs=-1, random_state=9)\n",
        "forest_fit = forest_model.fit(train_X, train_y)"
      ],
      "execution_count": 779,
      "outputs": []
    },
    {
      "cell_type": "markdown",
      "metadata": {
        "id": "pr8oE8kUXFaG"
      },
      "source": [
        "\n",
        "\n",
        "\n",
        "> Predict the Class labels for the test data\n",
        "\n",
        "\n",
        "\n"
      ]
    },
    {
      "cell_type": "code",
      "metadata": {
        "colab": {
          "base_uri": "https://localhost:8080/"
        },
        "id": "UL8hOkWsXbBI",
        "outputId": "677a68dc-8533-44e2-a7b8-425e5d374859"
      },
      "source": [
        "# For testing purpose\n",
        "#forest_model.fit(train_X, train_y)\n",
        "# Pass values to get prediction for ratings\n",
        "# 1st value = Clump Thickness\n",
        "# 2nd value = Uniformity of Cell Shape\n",
        "# 3rd value = Marginal Adhesion\n",
        "# 4th value = Single Epithelial Cell Size\n",
        "# 5th value = Bare Nuclei\n",
        "# 6th value = Bland Chromatin\n",
        "# 7th value = Normal Nucleoli\n",
        "# 8th value = Mitoses\n",
        " \n",
        "# Just for testing purpose\n",
        "#forest_pred = forest_model.predict([[10,7,3,8,5,7,4,3]])\n",
        "\n",
        "forest_pred = forest_model.predict(test_X)\n",
        "print('Classes predicted by RandomForestClassifer for test data are:', forest_pred)"
      ],
      "execution_count": 780,
      "outputs": [
        {
          "output_type": "stream",
          "text": [
            "Classes predicted by RandomForestClassifer for test data are: [4 4 4 2 2 2 2 2 2 2 4 2 2 4 2 4 4 4 4 2 4 2 2 4 2 4 2 2 4 2 4 2 4 2 2 4 4\n",
            " 2 4 4 4 4 4 4 4 2 2 2 2 2 2 4 4 4 4 2 2 4 4 2 4 2 4 2 4 4 2 4 4 4 2 2 2 2\n",
            " 4 2 2 2 4 2 2 4 4 2 2 2 2 4 4 2 4 2 2 2 2 4 2 2 2 4 2 4 2 4 4 2 2 2 4 4 2\n",
            " 2 4 2 2 2 4 2 2 2 2 2 2 4 2 2 4 4 2 2 4 2 2 2 2 4 4 4 2 2 2 4 2 2 2 2 2 2\n",
            " 2 2 2 4 2 2 2 2 2 2 4 2 4 4 4 2 4 4 2 2 2 2 4 4 2 2 2]\n"
          ],
          "name": "stdout"
        }
      ]
    },
    {
      "cell_type": "markdown",
      "metadata": {
        "id": "ldhnIQ2NNeaG"
      },
      "source": [
        " > Print the training accuracy and loss values\n"
      ]
    },
    {
      "cell_type": "code",
      "metadata": {
        "colab": {
          "base_uri": "https://localhost:8080/"
        },
        "id": "ciyNfBoiNF2w",
        "outputId": "ecca7bd8-cb38-4105-9193-d2ccce3ead33"
      },
      "source": [
        "print('Mean Absolute Error:', metrics.mean_absolute_error(test_y, forest_pred))\n",
        "print('Mean Squared Error:', metrics.mean_squared_error(test_y, forest_pred))\n",
        "print('Root Mean Squared Error:', np.sqrt(metrics.mean_squared_error(test_y, forest_pred)))\n",
        "print('Cross Entropy:', log_loss(test_y,forest_pred,eps=1e-15,sample_weight=None, labels=None)/len(test_y))\n",
        "print('Classification Report:', metrics.classification_report(test_y,forest_pred))\n",
        "print('Accuracy Score:', forest_model.score(test_X, test_y))"
      ],
      "execution_count": 781,
      "outputs": [
        {
          "output_type": "stream",
          "text": [
            "Mean Absolute Error: 0.045714285714285714\n",
            "Mean Squared Error: 0.09142857142857143\n",
            "Root Mean Squared Error: 0.30237157840738177\n",
            "Cross Entropy: 0.12293269496049486\n",
            "Classification Report:               precision    recall  f1-score   support\n",
            "\n",
            "           2       1.00      0.96      0.98       109\n",
            "           4       0.94      1.00      0.97        66\n",
            "\n",
            "    accuracy                           0.98       175\n",
            "   macro avg       0.97      0.98      0.98       175\n",
            "weighted avg       0.98      0.98      0.98       175\n",
            "\n",
            "Accuracy Score: 0.9771428571428571\n"
          ],
          "name": "stdout"
        }
      ]
    },
    {
      "cell_type": "markdown",
      "metadata": {
        "id": "k5H2IGCSW5-1"
      },
      "source": [
        "> Part B: Print Confusion Matrix\n",
        "\n",
        "\n",
        "\n"
      ]
    },
    {
      "cell_type": "code",
      "metadata": {
        "colab": {
          "base_uri": "https://localhost:8080/",
          "height": 350
        },
        "id": "xXn8R8NLRq0X",
        "outputId": "4da90c0b-f963-4908-870c-6cb49935bde4"
      },
      "source": [
        "forest_model_cm = confusion_matrix(test_y, forest_pred)\n",
        "f, ax = plt.subplots(figsize=(5,5))\n",
        "sns.heatmap(forest_model_cm, annot=True, linewidth=0.7, linecolor='red', fmt='g', ax=ax, cmap=\"BuPu\")\n",
        "plt.title('Random Forest Model Confusion Matrix')\n",
        "plt.xlabel('Y predict')\n",
        "plt.ylabel('Y test')\n",
        "plt.show()"
      ],
      "execution_count": 782,
      "outputs": [
        {
          "output_type": "display_data",
          "data": {
            "image/png": "[encoded data removed]",
            "text/plain": [
              "<Figure size 360x360 with 2 Axes>"
            ]
          },
          "metadata": {
            "needs_background": "light"
          }
        }
      ]
    },
    {
      "cell_type": "markdown",
      "metadata": {
        "id": "A_BdSUgvLa4w"
      },
      "source": [
        "# Model 2: Using LogisticRegression to train the model"
      ]
    },
    {
      "cell_type": "code",
      "metadata": {
        "colab": {
          "base_uri": "https://localhost:8080/"
        },
        "id": "4LVx9DGEPj2S",
        "outputId": "cf83ecd7-f1d6-43fb-8ce6-ebfc27e5a18a"
      },
      "source": [
        "logreg = LogisticRegression()\n",
        "logreg.fit(train_X, train_y)"
      ],
      "execution_count": 783,
      "outputs": [
        {
          "output_type": "execute_result",
          "data": {
            "text/plain": [
              "LogisticRegression(C=1.0, class_weight=None, dual=False, fit_intercept=True,\n",
              "                   intercept_scaling=1, l1_ratio=None, max_iter=100,\n",
              "                   multi_class='auto', n_jobs=None, penalty='l2',\n",
              "                   random_state=None, solver='lbfgs', tol=0.0001, verbose=0,\n",
              "                   warm_start=False)"
            ]
          },
          "metadata": {},
          "execution_count": 783
        }
      ]
    },
    {
      "cell_type": "markdown",
      "metadata": {
        "id": "CUTRhBWqY49-"
      },
      "source": [
        "\n",
        "\n",
        "> Predicting Class labels for the test data\n",
        "\n"
      ]
    },
    {
      "cell_type": "code",
      "metadata": {
        "colab": {
          "base_uri": "https://localhost:8080/"
        },
        "id": "HY41KafkY5iR",
        "outputId": "9bbec982-e34a-4644-8882-f643de721117"
      },
      "source": [
        "logreg_predict = logreg.predict(test_X)\n",
        "print('Classes predicted by LogisticRegression model for test data are:', logreg_predict)"
      ],
      "execution_count": 784,
      "outputs": [
        {
          "output_type": "stream",
          "text": [
            "Classes predicted by LogisticRegression model for test data are: [4 4 4 2 2 2 2 2 2 2 4 2 2 4 2 4 4 4 2 2 4 2 2 4 2 4 2 2 4 2 4 2 4 2 2 4 2\n",
            " 2 4 4 4 4 4 4 4 2 2 2 2 2 2 4 4 4 4 2 2 4 4 2 4 2 4 2 4 4 2 4 4 4 2 2 2 2\n",
            " 4 2 2 2 4 2 2 4 4 2 2 2 2 4 4 2 4 2 2 2 2 4 2 2 2 2 2 4 2 4 4 2 2 2 4 4 2\n",
            " 2 4 2 2 2 4 2 2 2 2 2 2 4 2 2 4 4 2 2 4 2 2 2 2 4 4 4 2 2 2 4 2 2 2 2 2 2\n",
            " 2 2 2 4 2 2 2 2 2 2 2 2 4 4 4 2 4 4 2 2 2 2 4 4 2 2 2]\n"
          ],
          "name": "stdout"
        }
      ]
    },
    {
      "cell_type": "markdown",
      "metadata": {
        "id": "V5DrWYekZXYE"
      },
      "source": [
        " > Print the training accuracy and loss values"
      ]
    },
    {
      "cell_type": "code",
      "metadata": {
        "colab": {
          "base_uri": "https://localhost:8080/"
        },
        "id": "OsxnSN6BQKKH",
        "outputId": "3e856c3f-47e6-46c0-ad2d-ec107a22d5ff"
      },
      "source": [
        "print('Mean Absolute Error:', metrics.mean_absolute_error(test_y, logreg_predict))\n",
        "print('Mean Squared Error:', metrics.mean_squared_error(test_y, logreg_predict))\n",
        "print('Root Mean Squared Error:', np.sqrt(metrics.mean_squared_error(test_y, logreg_predict)))\n",
        "print('Cross Entropy:', log_loss(test_y,logreg_predict,eps=1e-15,sample_weight=None, labels=None)/len(test_y))\n",
        "print('Classification Report:', metrics.classification_report(test_y,logreg_predict))\n",
        "print('Accuracy Score:', logreg.score(test_X, test_y))"
      ],
      "execution_count": 785,
      "outputs": [
        {
          "output_type": "stream",
          "text": [
            "Mean Absolute Error: 0.06857142857142857\n",
            "Mean Squared Error: 0.13714285714285715\n",
            "Root Mean Squared Error: 0.3703280399090206\n",
            "Cross Entropy: 0.12293269496049486\n",
            "Classification Report:               precision    recall  f1-score   support\n",
            "\n",
            "           2       0.97      0.97      0.97       109\n",
            "           4       0.95      0.95      0.95        66\n",
            "\n",
            "    accuracy                           0.97       175\n",
            "   macro avg       0.96      0.96      0.96       175\n",
            "weighted avg       0.97      0.97      0.97       175\n",
            "\n",
            "Accuracy Score: 0.9657142857142857\n"
          ],
          "name": "stdout"
        }
      ]
    },
    {
      "cell_type": "markdown",
      "metadata": {
        "id": "uxeXQ1PLPlv9"
      },
      "source": [
        "> Part B: Print the confusion matrix."
      ]
    },
    {
      "cell_type": "code",
      "metadata": {
        "colab": {
          "base_uri": "https://localhost:8080/",
          "height": 350
        },
        "id": "GaAYUsywLbgZ",
        "outputId": "bb30f51c-4a68-4f26-fa74-3d827a7bb5b6"
      },
      "source": [
        "logreg_cm = confusion_matrix(test_y, predict_y)\n",
        "f, ax = plt.subplots(figsize=(5,5))\n",
        "sns.heatmap(logreg_cm, annot=True, linewidth=0.7, linecolor='red', fmt='g', ax=ax, cmap=\"BuPu\")\n",
        "plt.title('Logistic Regression Classification Confusion Matrix')\n",
        "plt.xlabel('Y predict')\n",
        "plt.ylabel('Y test')\n",
        "plt.show()"
      ],
      "execution_count": 786,
      "outputs": [
        {
          "output_type": "display_data",
          "data": {
            "image/png": "[encoded data removed]",
            "text/plain": [
              "<Figure size 360x360 with 2 Axes>"
            ]
          },
          "metadata": {
            "needs_background": "light"
          }
        }
      ]
    },
    {
      "cell_type": "markdown",
      "metadata": {
        "id": "pAU_pSMlP3ID"
      },
      "source": [
        "# Model 3: Using NaiiveBayes Classifier to train the model"
      ]
    },
    {
      "cell_type": "code",
      "metadata": {
        "colab": {
          "base_uri": "https://localhost:8080/"
        },
        "id": "huUivaDNZ-PL",
        "outputId": "a13638b2-526e-4277-f154-620de3bdf5d7"
      },
      "source": [
        "# We define the model\n",
        "nbcla = GaussianNB()\n",
        "# We train model\n",
        "nbcla.fit(train_X, train_y)"
      ],
      "execution_count": 787,
      "outputs": [
        {
          "output_type": "execute_result",
          "data": {
            "text/plain": [
              "GaussianNB(priors=None, var_smoothing=1e-09)"
            ]
          },
          "metadata": {},
          "execution_count": 787
        }
      ]
    },
    {
      "cell_type": "markdown",
      "metadata": {
        "id": "rcUyRa5Tce3m"
      },
      "source": [
        "> Predicting Class labels for the test data"
      ]
    },
    {
      "cell_type": "code",
      "metadata": {
        "colab": {
          "base_uri": "https://localhost:8080/"
        },
        "id": "8iiesgv-ceFK",
        "outputId": "396246a2-ad6a-48cd-94a8-981cad5715b7"
      },
      "source": [
        "# We predict target values\n",
        "nbcla_predict = nbcla.predict(test_X)\n",
        "print('Classes predicted by GaussianNB model for test data are:', nbcla_predict)"
      ],
      "execution_count": 788,
      "outputs": [
        {
          "output_type": "stream",
          "text": [
            "Classes predicted by GaussianNB model for test data are: [4 4 4 2 2 2 2 2 2 2 4 2 2 4 2 4 4 4 4 2 4 2 2 4 2 4 2 2 4 2 4 2 4 2 2 4 4\n",
            " 2 4 4 4 4 4 4 4 2 2 2 2 2 2 4 4 4 4 2 2 4 4 2 4 2 4 2 4 4 2 4 4 4 2 2 2 4\n",
            " 4 2 2 2 4 2 2 4 4 2 2 2 2 4 4 2 4 2 2 2 2 4 2 2 2 2 2 4 2 4 4 2 2 2 4 4 2\n",
            " 2 4 2 2 2 4 2 2 2 2 4 2 4 2 2 4 4 2 2 4 2 2 2 2 4 4 4 2 2 2 4 2 2 2 2 2 2\n",
            " 2 2 2 4 2 2 2 2 2 2 4 2 4 4 4 2 4 4 2 2 2 2 4 4 2 2 2]\n"
          ],
          "name": "stdout"
        }
      ]
    },
    {
      "cell_type": "markdown",
      "metadata": {
        "id": "J2-iNO-3c-GI"
      },
      "source": [
        " > Print the training accuracy and loss values\n",
        "\n"
      ]
    },
    {
      "cell_type": "code",
      "metadata": {
        "colab": {
          "base_uri": "https://localhost:8080/"
        },
        "id": "oLL9IBVvc-aB",
        "outputId": "c296077b-557f-4ac2-ff24-32f52d94a347"
      },
      "source": [
        "print('Mean Absolute Error:', metrics.mean_absolute_error(test_y, nbcla_predict))\n",
        "print('Mean Squared Error:', metrics.mean_squared_error(test_y, nbcla_predict))\n",
        "print('Root Mean Squared Error:', np.sqrt(metrics.mean_squared_error(test_y, nbcla_predict)))\n",
        "print('Cross Entropy:', log_loss(test_y,nbcla_predict,eps=1e-15,sample_weight=None, labels=None)/len(test_y))\n",
        "print('Classification Report:', metrics.classification_report(test_y,nbcla_predict))\n",
        "print('Accuracy Score:', nbcla.score(test_X, test_y))"
      ],
      "execution_count": 789,
      "outputs": [
        {
          "output_type": "stream",
          "text": [
            "Mean Absolute Error: 0.08\n",
            "Mean Squared Error: 0.16\n",
            "Root Mean Squared Error: 0.4\n",
            "Cross Entropy: 0.12293269496049486\n",
            "Classification Report:               precision    recall  f1-score   support\n",
            "\n",
            "           2       0.99      0.94      0.97       109\n",
            "           4       0.92      0.98      0.95        66\n",
            "\n",
            "    accuracy                           0.96       175\n",
            "   macro avg       0.95      0.96      0.96       175\n",
            "weighted avg       0.96      0.96      0.96       175\n",
            "\n",
            "Accuracy Score: 0.96\n"
          ],
          "name": "stdout"
        }
      ]
    },
    {
      "cell_type": "markdown",
      "metadata": {
        "id": "ckDiBJX0coV4"
      },
      "source": [
        "> Part B: Print the confusion matrix.\n"
      ]
    },
    {
      "cell_type": "code",
      "metadata": {
        "colab": {
          "base_uri": "https://localhost:8080/",
          "height": 350
        },
        "id": "w_vGyORgco4O",
        "outputId": "03dcc37b-47a3-4c58-b1ac-2e452ccd52e7"
      },
      "source": [
        "nbcla_cm = confusion_matrix(test_y, nbcla_predict)\n",
        "f, ax = plt.subplots(figsize=(5,5))\n",
        "sns.heatmap(nbcla_cm, annot=True, linewidth=0.7, linecolor='red', fmt='g', ax=ax, cmap=\"BuPu\")\n",
        "plt.title('Naive Bayes Classification Confusion Matrix')\n",
        "plt.xlabel('Y predict')\n",
        "plt.ylabel('Y test')\n",
        "plt.show()"
      ],
      "execution_count": 790,
      "outputs": [
        {
          "output_type": "display_data",
          "data": {
            "image/png": "[encoded data removed]",
            "text/plain": [
              "<Figure size 360x360 with 2 Axes>"
            ]
          },
          "metadata": {
            "needs_background": "light"
          }
        }
      ]
    },
    {
      "cell_type": "markdown",
      "metadata": {
        "id": "JGO3vJRjdXPM"
      },
      "source": [
        "# Model 4: Using DecisionTreeClassifier to train the model"
      ]
    },
    {
      "cell_type": "code",
      "metadata": {
        "colab": {
          "base_uri": "https://localhost:8080/"
        },
        "id": "9tLIqgnsar0E",
        "outputId": "12bb0c21-65fa-47d2-9951-14b528cb33e4"
      },
      "source": [
        "\n",
        "# We define the model\n",
        "dtcla = DecisionTreeClassifier(random_state=9)\n",
        "\n",
        "# We train model\n",
        "dtcla.fit(train_X, train_y)\n",
        "\n",
        "\n"
      ],
      "execution_count": 791,
      "outputs": [
        {
          "output_type": "execute_result",
          "data": {
            "text/plain": [
              "DecisionTreeClassifier(ccp_alpha=0.0, class_weight=None, criterion='gini',\n",
              "                       max_depth=None, max_features=None, max_leaf_nodes=None,\n",
              "                       min_impurity_decrease=0.0, min_impurity_split=None,\n",
              "                       min_samples_leaf=1, min_samples_split=2,\n",
              "                       min_weight_fraction_leaf=0.0, presort='deprecated',\n",
              "                       random_state=9, splitter='best')"
            ]
          },
          "metadata": {},
          "execution_count": 791
        }
      ]
    },
    {
      "cell_type": "markdown",
      "metadata": {
        "id": "U2l4yGRidk5p"
      },
      "source": [
        "\n",
        "\n",
        "> Predict the class values for the test data\n",
        "\n"
      ]
    },
    {
      "cell_type": "code",
      "metadata": {
        "colab": {
          "base_uri": "https://localhost:8080/"
        },
        "id": "HDPIKuZndlLR",
        "outputId": "36da6fa8-6e67-4e71-d38c-74ae68890472"
      },
      "source": [
        "# We predict target values\n",
        "dcla_predict = dtcla.predict(test_X)\n",
        "print('Classes predicted by DecisionTreeClassifier model for test data are:', dcla_predict)"
      ],
      "execution_count": 792,
      "outputs": [
        {
          "output_type": "stream",
          "text": [
            "Classes predicted by DecisionTreeClassifier model for test data are: [4 4 4 2 2 2 2 2 2 2 4 2 2 4 2 2 4 4 4 2 4 2 2 2 2 4 2 2 4 2 2 2 2 2 2 4 4\n",
            " 2 4 4 2 4 4 4 4 2 2 2 2 2 2 4 4 4 4 2 2 4 4 2 4 2 4 2 2 4 2 2 4 4 2 2 2 2\n",
            " 2 2 2 2 2 2 2 4 4 2 2 2 2 2 2 2 4 2 2 2 2 4 2 2 2 2 2 4 2 4 4 2 4 2 4 4 2\n",
            " 2 4 2 2 2 4 2 2 2 2 2 2 4 2 2 4 4 2 2 4 2 2 2 2 2 4 4 2 2 2 4 2 2 2 2 2 2\n",
            " 2 2 2 4 2 2 2 2 2 2 4 2 4 4 2 2 4 4 2 2 2 2 4 4 2 2 2]\n"
          ],
          "name": "stdout"
        }
      ]
    },
    {
      "cell_type": "markdown",
      "metadata": {
        "id": "qHqik55mdumK"
      },
      "source": [
        " > Print the training accuracy and loss values"
      ]
    },
    {
      "cell_type": "code",
      "metadata": {
        "colab": {
          "base_uri": "https://localhost:8080/"
        },
        "id": "EPx24aPodvwd",
        "outputId": "f7e3df0a-e557-4685-ddb4-37e6324856cd"
      },
      "source": [
        "print('Mean Absolute Error:', metrics.mean_absolute_error(test_y, dcla_predict))\n",
        "print('Mean Squared Error:', metrics.mean_squared_error(test_y, dcla_predict))\n",
        "print('Root Mean Squared Error:', np.sqrt(metrics.mean_squared_error(test_y, dcla_predict)))\n",
        "print('Cross Entropy:', log_loss(test_y,dcla_predict,eps=1e-15,sample_weight=None, labels=None)/len(test_y))\n",
        "print('Classification Report:', metrics.classification_report(test_y,dcla_predict))\n",
        "print('Accuracy Score:', dtcla.score(test_X, test_y))"
      ],
      "execution_count": 793,
      "outputs": [
        {
          "output_type": "stream",
          "text": [
            "Mean Absolute Error: 0.17142857142857143\n",
            "Mean Squared Error: 0.34285714285714286\n",
            "Root Mean Squared Error: 0.5855400437691199\n",
            "Cross Entropy: 0.12293269496049486\n",
            "Classification Report:               precision    recall  f1-score   support\n",
            "\n",
            "           2       0.90      0.97      0.93       109\n",
            "           4       0.95      0.82      0.88        66\n",
            "\n",
            "    accuracy                           0.91       175\n",
            "   macro avg       0.92      0.90      0.91       175\n",
            "weighted avg       0.92      0.91      0.91       175\n",
            "\n",
            "Accuracy Score: 0.9142857142857143\n"
          ],
          "name": "stdout"
        }
      ]
    },
    {
      "cell_type": "markdown",
      "metadata": {
        "id": "CfTdsnYbdm1g"
      },
      "source": [
        "> Part B: Print the confusion matrix."
      ]
    },
    {
      "cell_type": "code",
      "metadata": {
        "colab": {
          "base_uri": "https://localhost:8080/",
          "height": 350
        },
        "id": "HmgdKtDVdnZ8",
        "outputId": "f77de229-825e-4aae-9b8b-2c3317a2f3c4"
      },
      "source": [
        "dtcla_cm = confusion_matrix(test_y, dcla_predict)\n",
        "f, ax = plt.subplots(figsize=(5,5))\n",
        "sns.heatmap(dtcla_cm, annot=True, linewidth=0.7, linecolor='red', fmt='g', ax=ax, cmap=\"BuPu\")\n",
        "plt.title('Decision Tree Classification Confusion Matrix')\n",
        "plt.xlabel('Y predict')\n",
        "plt.ylabel('Y test')\n",
        "plt.show()"
      ],
      "execution_count": 794,
      "outputs": [
        {
          "output_type": "display_data",
          "data": {
            "image/png": "[encoded data removed]",
            "text/plain": [
              "<Figure size 360x360 with 2 Axes>"
            ]
          },
          "metadata": {
            "needs_background": "light"
          }
        }
      ]
    }
  ]
}