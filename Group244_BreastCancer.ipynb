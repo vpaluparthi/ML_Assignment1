{
  "nbformat": 4,
  "nbformat_minor": 0,
  "metadata": {
    "colab": {
      "name": "Group244_BreastCancer.ipynb",
      "provenance": [],
      "authorship_tag": "ABX9TyPyaQwyq8lidu6uB3E2mQmI",
      "include_colab_link": true
    },
    "kernelspec": {
      "name": "python3",
      "display_name": "Python 3"
    },
    "language_info": {
      "name": "python"
    }
  },
  "cells": [
    {
      "cell_type": "markdown",
      "metadata": {
        "id": "view-in-github",
        "colab_type": "text"
      },
      "source": [
        "<a href=\"https://colab.research.google.com/github/vpaluparthi/ML_Assignment1/blob/main/Group244_BreastCancer.ipynb\" target=\"_parent\"><img src=\"https://colab.research.google.com/assets/colab-badge.svg\" alt=\"Open In Colab\"/></a>"
      ]
    },
    {
      "cell_type": "markdown",
      "metadata": {
        "id": "AjFRoFHA0j_I"
      },
      "source": [
        "# Machine Learning Assignment 1\n",
        "\n",
        "Assignment Topic: Build and Evaluate Machine Learning model for analysis of Breast Cancer dataset.\n",
        "\n",
        "Names:\n",
        "P. Vijaya Kumar (BITS ID: 2020FC04388)\n",
        "Archana C (BITS ID: 2020FC04392)\n",
        "Anirudh Kanukanti (BITS ID: )\n",
        "\n",
        "Group: 244\n",
        "\n"
      ]
    },
    {
      "cell_type": "markdown",
      "metadata": {
        "id": "EtSoSXEEAVj5"
      },
      "source": [
        "# Step 1: Initialization\n",
        "\n",
        "# A.\tImport the required libraries\n",
        "\n",
        "# B.\tDownload the dataset\n",
        "\n",
        "\n",
        "\n",
        "\n",
        "\n"
      ]
    },
    {
      "cell_type": "code",
      "metadata": {
        "id": "M6msL1qtWzf8"
      },
      "source": [
        "import pandas as pd\n",
        "import numpy as np\n",
        "import seaborn as sns\n",
        "\n",
        "from sklearn.ensemble import RandomForestClassifier\n",
        "from sklearn.linear_model import LogisticRegression\n",
        "from sklearn.model_selection import train_test_split\n",
        "from sklearn.naive_bayes import GaussianNB\n",
        "from sklearn.tree import DecisionTreeClassifier\n",
        "\n",
        "from sklearn import metrics\n",
        "from sklearn.metrics import confusion_matrix\n",
        "from sklearn.metrics import log_loss\n",
        "\n",
        "from scipy import stats\n",
        "\n",
        "import matplotlib.pyplot as plt\n",
        "\n",
        "from pydrive.drive import GoogleDrive\n",
        "from pydrive.auth import GoogleAuth\n",
        "from pydrive.drive import GoogleDrive\n",
        "from google.colab import auth\n",
        "from oauth2client.client import GoogleCredentials\n",
        "\n",
        "auth.authenticate_user()\n",
        "gauth = GoogleAuth()\n",
        "gauth.credentials = GoogleCredentials.get_application_default()\n",
        "drive = GoogleDrive(gauth)\n",
        "\n",
        "fileDownloaded = drive.CreateFile({'id':'1AnRf3cl-MflHd4JVK07Az3UdvemNRU4a'})\n",
        "fileDownloaded.GetContentFile('breast-cancer-wisconsin.csv')\n",
        "data = pd.read_csv('breast-cancer-wisconsin.csv', delimiter=',')\n",
        "data = data.drop(columns=['Sample code number'])"
      ],
      "execution_count": 933,
      "outputs": []
    },
    {
      "cell_type": "markdown",
      "metadata": {
        "id": "ZS-9IDjmKh6E"
      },
      "source": [
        "# Step 2:\tData Visualization and Exploration\n",
        "\n",
        "# A.\tPrint the description and shape of the dataset.\n",
        "\n",
        "# B.\tPrint at least 5 rows for sanity check to identify all the features present in the dataset and if the target matches with them."
      ]
    },
    {
      "cell_type": "code",
      "metadata": {
        "colab": {
          "base_uri": "https://localhost:8080/",
          "height": 639
        },
        "id": "nno2I4RHKKOX",
        "outputId": "baa6347c-db77-4852-d050-bfd9ea89cee1"
      },
      "source": [
        "print(data.info(), '\\n\\n')\n",
        "print('Number of instances = %d' % (data.shape[0]))\n",
        "print('Number of attributes = %d' % (data.shape[1]), '\\n\\n')\n",
        "data.head()"
      ],
      "execution_count": 934,
      "outputs": [
        {
          "output_type": "stream",
          "text": [
            "<class 'pandas.core.frame.DataFrame'>\n",
            "RangeIndex: 699 entries, 0 to 698\n",
            "Data columns (total 10 columns):\n",
            " #   Column                       Non-Null Count  Dtype \n",
            "---  ------                       --------------  ----- \n",
            " 0   Clump Thickness              699 non-null    int64 \n",
            " 1   Uniformity of Cell Size      699 non-null    int64 \n",
            " 2   Uniformity of Cell Shape     699 non-null    int64 \n",
            " 3   Marginal Adhesion            699 non-null    int64 \n",
            " 4   Single Epithelial Cell Size  699 non-null    int64 \n",
            " 5   Bare Nuclei                  699 non-null    object\n",
            " 6   Bland Chromatin              699 non-null    int64 \n",
            " 7   Normal Nucleoli              699 non-null    int64 \n",
            " 8   Mitoses                      699 non-null    int64 \n",
            " 9   Class                        699 non-null    int64 \n",
            "dtypes: int64(9), object(1)\n",
            "memory usage: 54.7+ KB\n",
            "None \n",
            "\n",
            "\n",
            "Number of instances = 699\n",
            "Number of attributes = 10 \n",
            "\n",
            "\n"
          ],
          "name": "stdout"
        },
        {
          "output_type": "execute_result",
          "data": {
            "text/html": [
              "<div>\n",
              "<style scoped>\n",
              "    .dataframe tbody tr th:only-of-type {\n",
              "        vertical-align: middle;\n",
              "    }\n",
              "\n",
              "    .dataframe tbody tr th {\n",
              "        vertical-align: top;\n",
              "    }\n",
              "\n",
              "    .dataframe thead th {\n",
              "        text-align: right;\n",
              "    }\n",
              "</style>\n",
              "<table border=\"1\" class=\"dataframe\">\n",
              "  <thead>\n",
              "    <tr style=\"text-align: right;\">\n",
              "      <th></th>\n",
              "      <th>Clump Thickness</th>\n",
              "      <th>Uniformity of Cell Size</th>\n",
              "      <th>Uniformity of Cell Shape</th>\n",
              "      <th>Marginal Adhesion</th>\n",
              "      <th>Single Epithelial Cell Size</th>\n",
              "      <th>Bare Nuclei</th>\n",
              "      <th>Bland Chromatin</th>\n",
              "      <th>Normal Nucleoli</th>\n",
              "      <th>Mitoses</th>\n",
              "      <th>Class</th>\n",
              "    </tr>\n",
              "  </thead>\n",
              "  <tbody>\n",
              "    <tr>\n",
              "      <th>0</th>\n",
              "      <td>5</td>\n",
              "      <td>1</td>\n",
              "      <td>1</td>\n",
              "      <td>1</td>\n",
              "      <td>2</td>\n",
              "      <td>1</td>\n",
              "      <td>3</td>\n",
              "      <td>1</td>\n",
              "      <td>1</td>\n",
              "      <td>2</td>\n",
              "    </tr>\n",
              "    <tr>\n",
              "      <th>1</th>\n",
              "      <td>5</td>\n",
              "      <td>4</td>\n",
              "      <td>4</td>\n",
              "      <td>5</td>\n",
              "      <td>7</td>\n",
              "      <td>10</td>\n",
              "      <td>3</td>\n",
              "      <td>2</td>\n",
              "      <td>1</td>\n",
              "      <td>2</td>\n",
              "    </tr>\n",
              "    <tr>\n",
              "      <th>2</th>\n",
              "      <td>3</td>\n",
              "      <td>1</td>\n",
              "      <td>1</td>\n",
              "      <td>1</td>\n",
              "      <td>2</td>\n",
              "      <td>2</td>\n",
              "      <td>3</td>\n",
              "      <td>1</td>\n",
              "      <td>1</td>\n",
              "      <td>2</td>\n",
              "    </tr>\n",
              "    <tr>\n",
              "      <th>3</th>\n",
              "      <td>6</td>\n",
              "      <td>8</td>\n",
              "      <td>8</td>\n",
              "      <td>1</td>\n",
              "      <td>3</td>\n",
              "      <td>4</td>\n",
              "      <td>3</td>\n",
              "      <td>7</td>\n",
              "      <td>1</td>\n",
              "      <td>2</td>\n",
              "    </tr>\n",
              "    <tr>\n",
              "      <th>4</th>\n",
              "      <td>4</td>\n",
              "      <td>1</td>\n",
              "      <td>1</td>\n",
              "      <td>3</td>\n",
              "      <td>2</td>\n",
              "      <td>1</td>\n",
              "      <td>3</td>\n",
              "      <td>1</td>\n",
              "      <td>1</td>\n",
              "      <td>2</td>\n",
              "    </tr>\n",
              "  </tbody>\n",
              "</table>\n",
              "</div>"
            ],
            "text/plain": [
              "   Clump Thickness  Uniformity of Cell Size  ...  Mitoses  Class\n",
              "0                5                        1  ...        1      2\n",
              "1                5                        4  ...        1      2\n",
              "2                3                        1  ...        1      2\n",
              "3                6                        8  ...        1      2\n",
              "4                4                        1  ...        1      2\n",
              "\n",
              "[5 rows x 10 columns]"
            ]
          },
          "metadata": {},
          "execution_count": 934
        }
      ]
    },
    {
      "cell_type": "markdown",
      "metadata": {
        "id": "7yx0x7y4UnZP"
      },
      "source": [
        "# C.\tTry exploring the data and see what insights can be drawn from the dataset.\n",
        "# D.\tProvide appropriate visualization to get an insight about the dataset."
      ]
    },
    {
      "cell_type": "markdown",
      "metadata": {
        "id": "WRcWmD_1nDgG"
      },
      "source": [
        "Plotting a box chart to see how the values of the features are spread out"
      ]
    },
    {
      "cell_type": "code",
      "metadata": {
        "colab": {
          "base_uri": "https://localhost:8080/",
          "height": 229
        },
        "id": "8gtmdjOTh7iR",
        "outputId": "16014018-f26f-46c6-e7e1-1918b85736d3"
      },
      "source": [
        "%matplotlib inline\n",
        "\n",
        "data.boxplot(figsize=(20,3))"
      ],
      "execution_count": 935,
      "outputs": [
        {
          "output_type": "execute_result",
          "data": {
            "text/plain": [
              "<matplotlib.axes._subplots.AxesSubplot at 0x7fdd2b96ed50>"
            ]
          },
          "metadata": {},
          "execution_count": 935
        },
        {
          "output_type": "display_data",
          "data": {
            "image/png": "[encoded data removed]",
            "text/plain": [
              "<Figure size 1440x216 with 1 Axes>"
            ]
          },
          "metadata": {
            "needs_background": "light"
          }
        }
      ]
    },
    {
      "cell_type": "markdown",
      "metadata": {
        "id": "ZYxv17V3th-w"
      },
      "source": [
        "Check how the clump thickness values are distributed"
      ]
    },
    {
      "cell_type": "code",
      "metadata": {
        "colab": {
          "base_uri": "https://localhost:8080/",
          "height": 473
        },
        "id": "usJYgvGziov8",
        "outputId": "f5d9ac24-25d4-481e-838c-cf208d1f1ac1"
      },
      "source": [
        "print('Clump Thickness')\n",
        "data['Clump Thickness'].hist(bins=10)\n",
        "data['Clump Thickness'].value_counts(sort=False)"
      ],
      "execution_count": 936,
      "outputs": [
        {
          "output_type": "stream",
          "text": [
            "Clump Thickness\n"
          ],
          "name": "stdout"
        },
        {
          "output_type": "execute_result",
          "data": {
            "text/plain": [
              "1     145\n",
              "2      50\n",
              "3     108\n",
              "4      80\n",
              "5     130\n",
              "6      34\n",
              "7      23\n",
              "8      46\n",
              "9      14\n",
              "10     69\n",
              "Name: Clump Thickness, dtype: int64"
            ]
          },
          "metadata": {},
          "execution_count": 936
        },
        {
          "output_type": "display_data",
          "data": {
            "image/png": "[encoded data removed]",
            "text/plain": [
              "<Figure size 432x288 with 1 Axes>"
            ]
          },
          "metadata": {
            "needs_background": "light"
          }
        }
      ]
    },
    {
      "cell_type": "code",
      "metadata": {
        "colab": {
          "base_uri": "https://localhost:8080/",
          "height": 476
        },
        "id": "BfAn7eUhBA4D",
        "outputId": "514b4289-3b84-42ed-9959-bfb7fc12a54a"
      },
      "source": [
        "print('Uniformity of Cell Size')\n",
        "data['Uniformity of Cell Size'].hist(bins=10)\n",
        "data['Uniformity of Cell Size'].value_counts(sort=False)"
      ],
      "execution_count": 937,
      "outputs": [
        {
          "output_type": "stream",
          "text": [
            "Uniformity of Cell Size\n"
          ],
          "name": "stdout"
        },
        {
          "output_type": "execute_result",
          "data": {
            "text/plain": [
              "1     384\n",
              "2      45\n",
              "3      52\n",
              "4      40\n",
              "5      30\n",
              "6      27\n",
              "7      19\n",
              "8      29\n",
              "9       6\n",
              "10     67\n",
              "Name: Uniformity of Cell Size, dtype: int64"
            ]
          },
          "metadata": {},
          "execution_count": 937
        },
        {
          "output_type": "display_data",
          "data": {
            "image/png": "[encoded data removed]",
            "text/plain": [
              "<Figure size 432x288 with 1 Axes>"
            ]
          },
          "metadata": {
            "needs_background": "light"
          }
        }
      ]
    },
    {
      "cell_type": "code",
      "metadata": {
        "colab": {
          "base_uri": "https://localhost:8080/",
          "height": 473
        },
        "id": "a8k5opKKBVg9",
        "outputId": "5487386d-16a9-4b6d-8965-6e316bff4f21"
      },
      "source": [
        "print('Uniformity of Cell Shape')\n",
        "data['Uniformity of Cell Shape'].hist(bins=10)\n",
        "data['Uniformity of Cell Shape'].value_counts(sort=False)"
      ],
      "execution_count": 938,
      "outputs": [
        {
          "output_type": "stream",
          "text": [
            "Uniformity of Cell Shape\n"
          ],
          "name": "stdout"
        },
        {
          "output_type": "execute_result",
          "data": {
            "text/plain": [
              "1     353\n",
              "2      59\n",
              "3      56\n",
              "4      44\n",
              "5      34\n",
              "6      30\n",
              "7      30\n",
              "8      28\n",
              "9       7\n",
              "10     58\n",
              "Name: Uniformity of Cell Shape, dtype: int64"
            ]
          },
          "metadata": {},
          "execution_count": 938
        },
        {
          "output_type": "display_data",
          "data": {
            "image/png": "[encoded data removed]",
            "text/plain": [
              "<Figure size 432x288 with 1 Axes>"
            ]
          },
          "metadata": {
            "needs_background": "light"
          }
        }
      ]
    },
    {
      "cell_type": "code",
      "metadata": {
        "colab": {
          "base_uri": "https://localhost:8080/",
          "height": 473
        },
        "id": "2M-pvJ5ABZeB",
        "outputId": "e6e95ef9-60a4-4cba-99f5-2e735b8c9cd1"
      },
      "source": [
        "print('Uniformity of Cell Shape')\n",
        "data['Uniformity of Cell Shape'].hist(bins=10)\n",
        "data['Uniformity of Cell Shape'].value_counts(sort=False)"
      ],
      "execution_count": 939,
      "outputs": [
        {
          "output_type": "stream",
          "text": [
            "Uniformity of Cell Shape\n"
          ],
          "name": "stdout"
        },
        {
          "output_type": "execute_result",
          "data": {
            "text/plain": [
              "1     353\n",
              "2      59\n",
              "3      56\n",
              "4      44\n",
              "5      34\n",
              "6      30\n",
              "7      30\n",
              "8      28\n",
              "9       7\n",
              "10     58\n",
              "Name: Uniformity of Cell Shape, dtype: int64"
            ]
          },
          "metadata": {},
          "execution_count": 939
        },
        {
          "output_type": "display_data",
          "data": {
            "image/png": "[encoded data removed]",
            "text/plain": [
              "<Figure size 432x288 with 1 Axes>"
            ]
          },
          "metadata": {
            "needs_background": "light"
          }
        }
      ]
    },
    {
      "cell_type": "code",
      "metadata": {
        "colab": {
          "base_uri": "https://localhost:8080/",
          "height": 473
        },
        "id": "SuqyLTQqBHaG",
        "outputId": "dd852eb5-d007-42c7-bce2-b66407e33673"
      },
      "source": [
        "print('Marginal Adhesion')\n",
        "data['Marginal Adhesion'].hist(bins=10)\n",
        "data['Marginal Adhesion'].value_counts(sort=False)"
      ],
      "execution_count": 940,
      "outputs": [
        {
          "output_type": "stream",
          "text": [
            "Marginal Adhesion\n"
          ],
          "name": "stdout"
        },
        {
          "output_type": "execute_result",
          "data": {
            "text/plain": [
              "1     407\n",
              "2      58\n",
              "3      58\n",
              "4      33\n",
              "5      23\n",
              "6      22\n",
              "7      13\n",
              "8      25\n",
              "9       5\n",
              "10     55\n",
              "Name: Marginal Adhesion, dtype: int64"
            ]
          },
          "metadata": {},
          "execution_count": 940
        },
        {
          "output_type": "display_data",
          "data": {
            "image/png": "[encoded data removed]",
            "text/plain": [
              "<Figure size 432x288 with 1 Axes>"
            ]
          },
          "metadata": {
            "needs_background": "light"
          }
        }
      ]
    },
    {
      "cell_type": "code",
      "metadata": {
        "colab": {
          "base_uri": "https://localhost:8080/",
          "height": 474
        },
        "id": "rJjqKwiKBo5A",
        "outputId": "a9438a61-2a57-4e38-86a6-975287869e6b"
      },
      "source": [
        "print('Single Epithelial Cell Size')\n",
        "data['Single Epithelial Cell Size'].hist(bins=10)\n",
        "data['Single Epithelial Cell Size'].value_counts(sort=False)"
      ],
      "execution_count": 941,
      "outputs": [
        {
          "output_type": "stream",
          "text": [
            "Single Epithelial Cell Size\n"
          ],
          "name": "stdout"
        },
        {
          "output_type": "execute_result",
          "data": {
            "text/plain": [
              "1      47\n",
              "2     386\n",
              "3      72\n",
              "4      48\n",
              "5      39\n",
              "6      41\n",
              "7      12\n",
              "8      21\n",
              "9       2\n",
              "10     31\n",
              "Name: Single Epithelial Cell Size, dtype: int64"
            ]
          },
          "metadata": {},
          "execution_count": 941
        },
        {
          "output_type": "display_data",
          "data": {
            "image/png": "[encoded data removed]",
            "text/plain": [
              "<Figure size 432x288 with 1 Axes>"
            ]
          },
          "metadata": {
            "needs_background": "light"
          }
        }
      ]
    },
    {
      "cell_type": "code",
      "metadata": {
        "colab": {
          "base_uri": "https://localhost:8080/",
          "height": 491
        },
        "id": "0-l6T20yByM1",
        "outputId": "dde482f9-4c24-4a36-f33b-323f2c01a8fa"
      },
      "source": [
        "print('Bare Nuclei')\n",
        "data['Bare Nuclei'].hist(bins=10)\n",
        "data['Bare Nuclei'].value_counts(sort=False)"
      ],
      "execution_count": 942,
      "outputs": [
        {
          "output_type": "stream",
          "text": [
            "Bare Nuclei\n"
          ],
          "name": "stdout"
        },
        {
          "output_type": "execute_result",
          "data": {
            "text/plain": [
              "8      21\n",
              "6       4\n",
              "?      16\n",
              "5      30\n",
              "1     402\n",
              "10    132\n",
              "2      30\n",
              "3      28\n",
              "7       8\n",
              "4      19\n",
              "9       9\n",
              "Name: Bare Nuclei, dtype: int64"
            ]
          },
          "metadata": {},
          "execution_count": 942
        },
        {
          "output_type": "display_data",
          "data": {
            "image/png": "[encoded data removed]",
            "text/plain": [
              "<Figure size 432x288 with 1 Axes>"
            ]
          },
          "metadata": {
            "needs_background": "light"
          }
        }
      ]
    },
    {
      "cell_type": "code",
      "metadata": {
        "colab": {
          "base_uri": "https://localhost:8080/",
          "height": 473
        },
        "id": "6MtgHbkBBx-E",
        "outputId": "b706a476-ad45-409a-e058-407bbebf953f"
      },
      "source": [
        "print('Bland Chromatin')\n",
        "data['Bland Chromatin'].hist(bins=10)\n",
        "data['Bland Chromatin'].value_counts(sort=False)"
      ],
      "execution_count": 943,
      "outputs": [
        {
          "output_type": "stream",
          "text": [
            "Bland Chromatin\n"
          ],
          "name": "stdout"
        },
        {
          "output_type": "execute_result",
          "data": {
            "text/plain": [
              "1     152\n",
              "2     166\n",
              "3     165\n",
              "4      40\n",
              "5      34\n",
              "6      10\n",
              "7      73\n",
              "8      28\n",
              "9      11\n",
              "10     20\n",
              "Name: Bland Chromatin, dtype: int64"
            ]
          },
          "metadata": {},
          "execution_count": 943
        },
        {
          "output_type": "display_data",
          "data": {
            "image/png": "[encoded data removed]",
            "text/plain": [
              "<Figure size 432x288 with 1 Axes>"
            ]
          },
          "metadata": {
            "needs_background": "light"
          }
        }
      ]
    },
    {
      "cell_type": "code",
      "metadata": {
        "colab": {
          "base_uri": "https://localhost:8080/",
          "height": 473
        },
        "id": "bhWVSi9fBxzT",
        "outputId": "b3be7b28-9cb6-434e-a245-b2ea95def4ae"
      },
      "source": [
        "print('Normal Nucleoli')\n",
        "data['Normal Nucleoli'].hist(bins=10)\n",
        "data['Normal Nucleoli'].value_counts(sort=False)"
      ],
      "execution_count": 944,
      "outputs": [
        {
          "output_type": "stream",
          "text": [
            "Normal Nucleoli\n"
          ],
          "name": "stdout"
        },
        {
          "output_type": "execute_result",
          "data": {
            "text/plain": [
              "1     443\n",
              "2      36\n",
              "3      44\n",
              "4      18\n",
              "5      19\n",
              "6      22\n",
              "7      16\n",
              "8      24\n",
              "9      16\n",
              "10     61\n",
              "Name: Normal Nucleoli, dtype: int64"
            ]
          },
          "metadata": {},
          "execution_count": 944
        },
        {
          "output_type": "display_data",
          "data": {
            "image/png": "[encoded data removed]",
            "text/plain": [
              "<Figure size 432x288 with 1 Axes>"
            ]
          },
          "metadata": {
            "needs_background": "light"
          }
        }
      ]
    },
    {
      "cell_type": "code",
      "metadata": {
        "colab": {
          "base_uri": "https://localhost:8080/",
          "height": 457
        },
        "id": "DqYhkTC9BxhR",
        "outputId": "a184393e-7eef-46a9-9006-29d972b47ea6"
      },
      "source": [
        "print('Mitoses')\n",
        "data['Mitoses'].hist(bins=10)\n",
        "data['Mitoses'].value_counts(sort=False)"
      ],
      "execution_count": 945,
      "outputs": [
        {
          "output_type": "stream",
          "text": [
            "Mitoses\n"
          ],
          "name": "stdout"
        },
        {
          "output_type": "execute_result",
          "data": {
            "text/plain": [
              "1     579\n",
              "2      35\n",
              "3      33\n",
              "4      12\n",
              "5       6\n",
              "6       3\n",
              "7       9\n",
              "8       8\n",
              "10     14\n",
              "Name: Mitoses, dtype: int64"
            ]
          },
          "metadata": {},
          "execution_count": 945
        },
        {
          "output_type": "display_data",
          "data": {
            "image/png": "[encoded data removed]",
            "text/plain": [
              "<Figure size 432x288 with 1 Axes>"
            ]
          },
          "metadata": {
            "needs_background": "light"
          }
        }
      ]
    },
    {
      "cell_type": "markdown",
      "metadata": {
        "id": "GLyGbquHmJye"
      },
      "source": [
        "# 3.\tData Pre-processing and cleaning\n",
        "# A.\tDo the appropriate preprocessing of the data like identifying NULL or Missing Values if any, handling of outliers if present in the dataset, skewed data etc.\n",
        "# B. Applying Feature Transformation techniques\n",
        "\n",
        "> Replacing \"?\" characters in data with n.NaN. Replacing these missing values with median value\n",
        "\n",
        "> Filling missing values with median value in 'Bare Nuclei' column\n",
        "\n",
        "\n",
        "\n"
      ]
    },
    {
      "cell_type": "code",
      "metadata": {
        "colab": {
          "base_uri": "https://localhost:8080/"
        },
        "id": "JYHBG-7uhpob",
        "outputId": "39b07e69-d82c-4333-8058-46ef34779d8c"
      },
      "source": [
        "data = data.replace('?',np.NaN)\n",
        "\n",
        "print('Number of missing values:')\n",
        "for col in data.columns:\n",
        "    print('\\t%s: %d' % (col,data[col].isna().sum()))"
      ],
      "execution_count": 946,
      "outputs": [
        {
          "output_type": "stream",
          "text": [
            "Number of missing values:\n",
            "\tClump Thickness: 0\n",
            "\tUniformity of Cell Size: 0\n",
            "\tUniformity of Cell Shape: 0\n",
            "\tMarginal Adhesion: 0\n",
            "\tSingle Epithelial Cell Size: 0\n",
            "\tBare Nuclei: 16\n",
            "\tBland Chromatin: 0\n",
            "\tNormal Nucleoli: 0\n",
            "\tMitoses: 0\n",
            "\tClass: 0\n"
          ],
          "name": "stdout"
        }
      ]
    },
    {
      "cell_type": "code",
      "metadata": {
        "colab": {
          "base_uri": "https://localhost:8080/"
        },
        "id": "pePIikzNhvQe",
        "outputId": "a0413996-49af-48ea-f23d-763f5925273e"
      },
      "source": [
        "bare_nuclei_data = data['Bare Nuclei']\n",
        "\n",
        "print('Before replacing missing values:')\n",
        "print(bare_nuclei_data[20:25])\n",
        "bare_nuclei_data = bare_nuclei_data.fillna(bare_nuclei_data.median())\n",
        "bare_nuclei_data = pd.to_numeric(bare_nuclei_data)\n",
        "print('\\nAfter replacing missing values:')\n",
        "print(bare_nuclei_data[20:25])"
      ],
      "execution_count": 947,
      "outputs": [
        {
          "output_type": "stream",
          "text": [
            "Before replacing missing values:\n",
            "20     10\n",
            "21      7\n",
            "22      1\n",
            "23    NaN\n",
            "24      1\n",
            "Name: Bare Nuclei, dtype: object\n",
            "\n",
            "After replacing missing values:\n",
            "20    10.0\n",
            "21     7.0\n",
            "22     1.0\n",
            "23     1.0\n",
            "24     1.0\n",
            "Name: Bare Nuclei, dtype: float64\n"
          ],
          "name": "stdout"
        }
      ]
    },
    {
      "cell_type": "code",
      "metadata": {
        "colab": {
          "base_uri": "https://localhost:8080/"
        },
        "id": "-YTMlHR1h2_h",
        "outputId": "057fa59f-0a02-45c1-c2d3-3d7057b70415"
      },
      "source": [
        "print('Number of rows in original data = %d' % (data.shape[0]))\n",
        "data2 = data\n",
        "data2['Bare Nuclei'] = bare_nuclei_data\n",
        "data2 = data2.dropna()\n",
        "print('Number of rows after discarding missing values = %d' % (data2.shape[0]))"
      ],
      "execution_count": 948,
      "outputs": [
        {
          "output_type": "stream",
          "text": [
            "Number of rows in original data = 699\n",
            "Number of rows after discarding missing values = 699\n"
          ],
          "name": "stdout"
        }
      ]
    },
    {
      "cell_type": "code",
      "metadata": {
        "colab": {
          "base_uri": "https://localhost:8080/"
        },
        "id": "w0cBfV-AiCcs",
        "outputId": "8b62a5c5-5e8a-4304-8e89-b8dd6222f736"
      },
      "source": [
        "Z = np.abs(stats.zscore(data2))\n",
        "#Z = (data2-data2.mean())/data2.std()\n",
        "Z[20:25]"
      ],
      "execution_count": 949,
      "outputs": [
        {
          "output_type": "execute_result",
          "data": {
            "text/plain": [
              "array([[0.91773703, 0.04410156, 0.40657446, 2.52095546, 0.80623884,\n",
              "        1.79966407, 0.64114721, 0.37131451, 1.40653241, 1.37855538],\n",
              "       [1.983939  , 0.61179192, 0.60359928, 0.06768675, 1.25817224,\n",
              "        0.97078299, 1.46195655, 2.33759359, 0.34391178, 1.37855538],\n",
              "       [0.50386559, 0.69999505, 0.74329904, 0.63324716, 0.54956136,\n",
              "        0.68697917, 0.5900668 , 0.61182504, 0.34391178, 0.72539705],\n",
              "       [1.27313768, 0.28384518, 0.60359928, 0.63324716, 0.54956136,\n",
              "        0.68697917, 1.46195655, 0.04360132, 0.34391178, 1.37855538],\n",
              "       [1.2146669 , 0.69999505, 0.74329904, 0.63324716, 0.54956136,\n",
              "        0.68697917, 0.17966213, 0.61182504, 0.34391178, 0.72539705]])"
            ]
          },
          "metadata": {},
          "execution_count": 949
        }
      ]
    },
    {
      "cell_type": "code",
      "metadata": {
        "colab": {
          "base_uri": "https://localhost:8080/"
        },
        "id": "c5u0rvSkiF_n",
        "outputId": "e87b80ec-18ca-4ca0-d5a5-f3f41354929a"
      },
      "source": [
        "print('Number of rows before discarding outliers = %d' % (Z.shape[0]))\n",
        "#Z2 = Z.loc[((Z > -3).sum(axis=1)==9) & ((Z <= 3).sum(axis=1)==9),:]\n",
        "#print('Number of rows after discarding missing values = %d' % (Z2.shape[0]))\n",
        "threshold = 3\n",
        "print(np.where(Z > 3))\n",
        "Q1 = data2.quantile(0.25)\n",
        "Q3 = data2.quantile(0.75)\n",
        "print(Q1, Q3)\n",
        "IQR = Q3 - Q1\n",
        "#data2 = data2[(Z < 3).all(axis=1)]"
      ],
      "execution_count": 950,
      "outputs": [
        {
          "output_type": "stream",
          "text": [
            "Number of rows before discarding outliers = 699\n",
            "(array([ 43,  53,  53,  62,  65,  68,  71,  71,  84,  85,  85,  98,  98,\n",
            "       100, 104, 104, 105, 113, 117, 122, 129, 149, 149, 163, 167, 173,\n",
            "       175, 187, 191, 201, 221, 229, 236, 238, 254, 261, 264, 268, 279,\n",
            "       286, 286, 302, 312, 344, 357, 357, 360, 360, 366, 400, 416, 421,\n",
            "       425, 482, 482, 506, 608, 612, 648, 648, 680, 689]), array([4, 4, 8, 4, 8, 8, 4, 8, 8, 4, 8, 4, 8, 4, 4, 8, 8, 4, 8, 4, 4, 4,\n",
            "       8, 8, 8, 8, 4, 8, 4, 4, 4, 4, 8, 8, 4, 4, 4, 8, 8, 4, 8, 8, 4, 4,\n",
            "       4, 8, 4, 8, 8, 8, 4, 4, 4, 4, 8, 8, 4, 8, 4, 8, 8, 8]))\n",
            "Clump Thickness                2.0\n",
            "Uniformity of Cell Size        1.0\n",
            "Uniformity of Cell Shape       1.0\n",
            "Marginal Adhesion              1.0\n",
            "Single Epithelial Cell Size    2.0\n",
            "Bare Nuclei                    1.0\n",
            "Bland Chromatin                2.0\n",
            "Normal Nucleoli                1.0\n",
            "Mitoses                        1.0\n",
            "Class                          2.0\n",
            "Name: 0.25, dtype: float64 Clump Thickness                6.0\n",
            "Uniformity of Cell Size        5.0\n",
            "Uniformity of Cell Shape       5.0\n",
            "Marginal Adhesion              4.0\n",
            "Single Epithelial Cell Size    4.0\n",
            "Bare Nuclei                    5.0\n",
            "Bland Chromatin                5.0\n",
            "Normal Nucleoli                4.0\n",
            "Mitoses                        1.0\n",
            "Class                          4.0\n",
            "Name: 0.75, dtype: float64\n"
          ],
          "name": "stdout"
        }
      ]
    },
    {
      "cell_type": "code",
      "metadata": {
        "colab": {
          "base_uri": "https://localhost:8080/",
          "height": 147
        },
        "id": "o-RIGWv0iJqi",
        "outputId": "9235a076-a9f5-4ff5-c0a4-3e60edf7628b"
      },
      "source": [
        "dups = data2.duplicated()\n",
        "print('Number of duplicate rows = %d' % (dups.sum()))\n",
        "data2.loc[[11,28]]"
      ],
      "execution_count": 951,
      "outputs": [
        {
          "output_type": "stream",
          "text": [
            "Number of duplicate rows = 242\n"
          ],
          "name": "stdout"
        },
        {
          "output_type": "execute_result",
          "data": {
            "text/html": [
              "<div>\n",
              "<style scoped>\n",
              "    .dataframe tbody tr th:only-of-type {\n",
              "        vertical-align: middle;\n",
              "    }\n",
              "\n",
              "    .dataframe tbody tr th {\n",
              "        vertical-align: top;\n",
              "    }\n",
              "\n",
              "    .dataframe thead th {\n",
              "        text-align: right;\n",
              "    }\n",
              "</style>\n",
              "<table border=\"1\" class=\"dataframe\">\n",
              "  <thead>\n",
              "    <tr style=\"text-align: right;\">\n",
              "      <th></th>\n",
              "      <th>Clump Thickness</th>\n",
              "      <th>Uniformity of Cell Size</th>\n",
              "      <th>Uniformity of Cell Shape</th>\n",
              "      <th>Marginal Adhesion</th>\n",
              "      <th>Single Epithelial Cell Size</th>\n",
              "      <th>Bare Nuclei</th>\n",
              "      <th>Bland Chromatin</th>\n",
              "      <th>Normal Nucleoli</th>\n",
              "      <th>Mitoses</th>\n",
              "      <th>Class</th>\n",
              "    </tr>\n",
              "  </thead>\n",
              "  <tbody>\n",
              "    <tr>\n",
              "      <th>11</th>\n",
              "      <td>2</td>\n",
              "      <td>1</td>\n",
              "      <td>1</td>\n",
              "      <td>1</td>\n",
              "      <td>2</td>\n",
              "      <td>1.0</td>\n",
              "      <td>2</td>\n",
              "      <td>1</td>\n",
              "      <td>1</td>\n",
              "      <td>2</td>\n",
              "    </tr>\n",
              "    <tr>\n",
              "      <th>28</th>\n",
              "      <td>2</td>\n",
              "      <td>1</td>\n",
              "      <td>1</td>\n",
              "      <td>1</td>\n",
              "      <td>2</td>\n",
              "      <td>1.0</td>\n",
              "      <td>2</td>\n",
              "      <td>1</td>\n",
              "      <td>1</td>\n",
              "      <td>2</td>\n",
              "    </tr>\n",
              "  </tbody>\n",
              "</table>\n",
              "</div>"
            ],
            "text/plain": [
              "    Clump Thickness  Uniformity of Cell Size  ...  Mitoses  Class\n",
              "11                2                        1  ...        1      2\n",
              "28                2                        1  ...        1      2\n",
              "\n",
              "[2 rows x 10 columns]"
            ]
          },
          "metadata": {},
          "execution_count": 951
        }
      ]
    },
    {
      "cell_type": "markdown",
      "metadata": {
        "id": "zwPt61UlnXLV"
      },
      "source": [
        "Removing duplicate rows"
      ]
    },
    {
      "cell_type": "code",
      "metadata": {
        "colab": {
          "base_uri": "https://localhost:8080/",
          "height": 441
        },
        "id": "lN2IWTIdiMwr",
        "outputId": "9431d7b4-310a-4862-c593-9c812283b79a"
      },
      "source": [
        "data2.drop_duplicates()"
      ],
      "execution_count": 952,
      "outputs": [
        {
          "output_type": "execute_result",
          "data": {
            "text/html": [
              "<div>\n",
              "<style scoped>\n",
              "    .dataframe tbody tr th:only-of-type {\n",
              "        vertical-align: middle;\n",
              "    }\n",
              "\n",
              "    .dataframe tbody tr th {\n",
              "        vertical-align: top;\n",
              "    }\n",
              "\n",
              "    .dataframe thead th {\n",
              "        text-align: right;\n",
              "    }\n",
              "</style>\n",
              "<table border=\"1\" class=\"dataframe\">\n",
              "  <thead>\n",
              "    <tr style=\"text-align: right;\">\n",
              "      <th></th>\n",
              "      <th>Clump Thickness</th>\n",
              "      <th>Uniformity of Cell Size</th>\n",
              "      <th>Uniformity of Cell Shape</th>\n",
              "      <th>Marginal Adhesion</th>\n",
              "      <th>Single Epithelial Cell Size</th>\n",
              "      <th>Bare Nuclei</th>\n",
              "      <th>Bland Chromatin</th>\n",
              "      <th>Normal Nucleoli</th>\n",
              "      <th>Mitoses</th>\n",
              "      <th>Class</th>\n",
              "    </tr>\n",
              "  </thead>\n",
              "  <tbody>\n",
              "    <tr>\n",
              "      <th>0</th>\n",
              "      <td>5</td>\n",
              "      <td>1</td>\n",
              "      <td>1</td>\n",
              "      <td>1</td>\n",
              "      <td>2</td>\n",
              "      <td>1.0</td>\n",
              "      <td>3</td>\n",
              "      <td>1</td>\n",
              "      <td>1</td>\n",
              "      <td>2</td>\n",
              "    </tr>\n",
              "    <tr>\n",
              "      <th>1</th>\n",
              "      <td>5</td>\n",
              "      <td>4</td>\n",
              "      <td>4</td>\n",
              "      <td>5</td>\n",
              "      <td>7</td>\n",
              "      <td>10.0</td>\n",
              "      <td>3</td>\n",
              "      <td>2</td>\n",
              "      <td>1</td>\n",
              "      <td>2</td>\n",
              "    </tr>\n",
              "    <tr>\n",
              "      <th>2</th>\n",
              "      <td>3</td>\n",
              "      <td>1</td>\n",
              "      <td>1</td>\n",
              "      <td>1</td>\n",
              "      <td>2</td>\n",
              "      <td>2.0</td>\n",
              "      <td>3</td>\n",
              "      <td>1</td>\n",
              "      <td>1</td>\n",
              "      <td>2</td>\n",
              "    </tr>\n",
              "    <tr>\n",
              "      <th>3</th>\n",
              "      <td>6</td>\n",
              "      <td>8</td>\n",
              "      <td>8</td>\n",
              "      <td>1</td>\n",
              "      <td>3</td>\n",
              "      <td>4.0</td>\n",
              "      <td>3</td>\n",
              "      <td>7</td>\n",
              "      <td>1</td>\n",
              "      <td>2</td>\n",
              "    </tr>\n",
              "    <tr>\n",
              "      <th>4</th>\n",
              "      <td>4</td>\n",
              "      <td>1</td>\n",
              "      <td>1</td>\n",
              "      <td>3</td>\n",
              "      <td>2</td>\n",
              "      <td>1.0</td>\n",
              "      <td>3</td>\n",
              "      <td>1</td>\n",
              "      <td>1</td>\n",
              "      <td>2</td>\n",
              "    </tr>\n",
              "    <tr>\n",
              "      <th>...</th>\n",
              "      <td>...</td>\n",
              "      <td>...</td>\n",
              "      <td>...</td>\n",
              "      <td>...</td>\n",
              "      <td>...</td>\n",
              "      <td>...</td>\n",
              "      <td>...</td>\n",
              "      <td>...</td>\n",
              "      <td>...</td>\n",
              "      <td>...</td>\n",
              "    </tr>\n",
              "    <tr>\n",
              "      <th>693</th>\n",
              "      <td>3</td>\n",
              "      <td>1</td>\n",
              "      <td>1</td>\n",
              "      <td>1</td>\n",
              "      <td>2</td>\n",
              "      <td>1.0</td>\n",
              "      <td>2</td>\n",
              "      <td>1</td>\n",
              "      <td>2</td>\n",
              "      <td>2</td>\n",
              "    </tr>\n",
              "    <tr>\n",
              "      <th>694</th>\n",
              "      <td>3</td>\n",
              "      <td>1</td>\n",
              "      <td>1</td>\n",
              "      <td>1</td>\n",
              "      <td>3</td>\n",
              "      <td>2.0</td>\n",
              "      <td>1</td>\n",
              "      <td>1</td>\n",
              "      <td>1</td>\n",
              "      <td>2</td>\n",
              "    </tr>\n",
              "    <tr>\n",
              "      <th>696</th>\n",
              "      <td>5</td>\n",
              "      <td>10</td>\n",
              "      <td>10</td>\n",
              "      <td>3</td>\n",
              "      <td>7</td>\n",
              "      <td>3.0</td>\n",
              "      <td>8</td>\n",
              "      <td>10</td>\n",
              "      <td>2</td>\n",
              "      <td>4</td>\n",
              "    </tr>\n",
              "    <tr>\n",
              "      <th>697</th>\n",
              "      <td>4</td>\n",
              "      <td>8</td>\n",
              "      <td>6</td>\n",
              "      <td>4</td>\n",
              "      <td>3</td>\n",
              "      <td>4.0</td>\n",
              "      <td>10</td>\n",
              "      <td>6</td>\n",
              "      <td>1</td>\n",
              "      <td>4</td>\n",
              "    </tr>\n",
              "    <tr>\n",
              "      <th>698</th>\n",
              "      <td>4</td>\n",
              "      <td>8</td>\n",
              "      <td>8</td>\n",
              "      <td>5</td>\n",
              "      <td>4</td>\n",
              "      <td>5.0</td>\n",
              "      <td>10</td>\n",
              "      <td>4</td>\n",
              "      <td>1</td>\n",
              "      <td>4</td>\n",
              "    </tr>\n",
              "  </tbody>\n",
              "</table>\n",
              "<p>457 rows × 10 columns</p>\n",
              "</div>"
            ],
            "text/plain": [
              "     Clump Thickness  Uniformity of Cell Size  ...  Mitoses  Class\n",
              "0                  5                        1  ...        1      2\n",
              "1                  5                        4  ...        1      2\n",
              "2                  3                        1  ...        1      2\n",
              "3                  6                        8  ...        1      2\n",
              "4                  4                        1  ...        1      2\n",
              "..               ...                      ...  ...      ...    ...\n",
              "693                3                        1  ...        2      2\n",
              "694                3                        1  ...        1      2\n",
              "696                5                       10  ...        2      4\n",
              "697                4                        8  ...        1      4\n",
              "698                4                        8  ...        1      4\n",
              "\n",
              "[457 rows x 10 columns]"
            ]
          },
          "metadata": {},
          "execution_count": 952
        }
      ]
    },
    {
      "cell_type": "code",
      "metadata": {
        "colab": {
          "base_uri": "https://localhost:8080/",
          "height": 161
        },
        "id": "IWUv1GTnieI_",
        "outputId": "531547cb-b5f4-42f0-a04c-797b3bc2a4dd"
      },
      "source": [
        "sample = data2.sample(n=3)\n",
        "sample"
      ],
      "execution_count": 953,
      "outputs": [
        {
          "output_type": "execute_result",
          "data": {
            "text/html": [
              "<div>\n",
              "<style scoped>\n",
              "    .dataframe tbody tr th:only-of-type {\n",
              "        vertical-align: middle;\n",
              "    }\n",
              "\n",
              "    .dataframe tbody tr th {\n",
              "        vertical-align: top;\n",
              "    }\n",
              "\n",
              "    .dataframe thead th {\n",
              "        text-align: right;\n",
              "    }\n",
              "</style>\n",
              "<table border=\"1\" class=\"dataframe\">\n",
              "  <thead>\n",
              "    <tr style=\"text-align: right;\">\n",
              "      <th></th>\n",
              "      <th>Clump Thickness</th>\n",
              "      <th>Uniformity of Cell Size</th>\n",
              "      <th>Uniformity of Cell Shape</th>\n",
              "      <th>Marginal Adhesion</th>\n",
              "      <th>Single Epithelial Cell Size</th>\n",
              "      <th>Bare Nuclei</th>\n",
              "      <th>Bland Chromatin</th>\n",
              "      <th>Normal Nucleoli</th>\n",
              "      <th>Mitoses</th>\n",
              "      <th>Class</th>\n",
              "    </tr>\n",
              "  </thead>\n",
              "  <tbody>\n",
              "    <tr>\n",
              "      <th>271</th>\n",
              "      <td>5</td>\n",
              "      <td>1</td>\n",
              "      <td>1</td>\n",
              "      <td>1</td>\n",
              "      <td>2</td>\n",
              "      <td>1.0</td>\n",
              "      <td>3</td>\n",
              "      <td>1</td>\n",
              "      <td>1</td>\n",
              "      <td>2</td>\n",
              "    </tr>\n",
              "    <tr>\n",
              "      <th>401</th>\n",
              "      <td>3</td>\n",
              "      <td>1</td>\n",
              "      <td>1</td>\n",
              "      <td>1</td>\n",
              "      <td>2</td>\n",
              "      <td>1.0</td>\n",
              "      <td>1</td>\n",
              "      <td>1</td>\n",
              "      <td>1</td>\n",
              "      <td>2</td>\n",
              "    </tr>\n",
              "    <tr>\n",
              "      <th>664</th>\n",
              "      <td>3</td>\n",
              "      <td>1</td>\n",
              "      <td>1</td>\n",
              "      <td>3</td>\n",
              "      <td>2</td>\n",
              "      <td>1.0</td>\n",
              "      <td>2</td>\n",
              "      <td>1</td>\n",
              "      <td>1</td>\n",
              "      <td>2</td>\n",
              "    </tr>\n",
              "  </tbody>\n",
              "</table>\n",
              "</div>"
            ],
            "text/plain": [
              "     Clump Thickness  Uniformity of Cell Size  ...  Mitoses  Class\n",
              "271                5                        1  ...        1      2\n",
              "401                3                        1  ...        1      2\n",
              "664                3                        1  ...        1      2\n",
              "\n",
              "[3 rows x 10 columns]"
            ]
          },
          "metadata": {},
          "execution_count": 953
        }
      ]
    },
    {
      "cell_type": "code",
      "metadata": {
        "colab": {
          "base_uri": "https://localhost:8080/",
          "height": 286
        },
        "id": "lotcFTB0ih-U",
        "outputId": "4e507061-2ae4-4c22-cfeb-922c0805bdeb"
      },
      "source": [
        "sample = data2.sample(frac=0.01, random_state=1)\n",
        "sample"
      ],
      "execution_count": 954,
      "outputs": [
        {
          "output_type": "execute_result",
          "data": {
            "text/html": [
              "<div>\n",
              "<style scoped>\n",
              "    .dataframe tbody tr th:only-of-type {\n",
              "        vertical-align: middle;\n",
              "    }\n",
              "\n",
              "    .dataframe tbody tr th {\n",
              "        vertical-align: top;\n",
              "    }\n",
              "\n",
              "    .dataframe thead th {\n",
              "        text-align: right;\n",
              "    }\n",
              "</style>\n",
              "<table border=\"1\" class=\"dataframe\">\n",
              "  <thead>\n",
              "    <tr style=\"text-align: right;\">\n",
              "      <th></th>\n",
              "      <th>Clump Thickness</th>\n",
              "      <th>Uniformity of Cell Size</th>\n",
              "      <th>Uniformity of Cell Shape</th>\n",
              "      <th>Marginal Adhesion</th>\n",
              "      <th>Single Epithelial Cell Size</th>\n",
              "      <th>Bare Nuclei</th>\n",
              "      <th>Bland Chromatin</th>\n",
              "      <th>Normal Nucleoli</th>\n",
              "      <th>Mitoses</th>\n",
              "      <th>Class</th>\n",
              "    </tr>\n",
              "  </thead>\n",
              "  <tbody>\n",
              "    <tr>\n",
              "      <th>584</th>\n",
              "      <td>5</td>\n",
              "      <td>1</td>\n",
              "      <td>1</td>\n",
              "      <td>6</td>\n",
              "      <td>3</td>\n",
              "      <td>1.0</td>\n",
              "      <td>1</td>\n",
              "      <td>1</td>\n",
              "      <td>1</td>\n",
              "      <td>2</td>\n",
              "    </tr>\n",
              "    <tr>\n",
              "      <th>417</th>\n",
              "      <td>1</td>\n",
              "      <td>1</td>\n",
              "      <td>1</td>\n",
              "      <td>1</td>\n",
              "      <td>2</td>\n",
              "      <td>1.0</td>\n",
              "      <td>2</td>\n",
              "      <td>1</td>\n",
              "      <td>1</td>\n",
              "      <td>2</td>\n",
              "    </tr>\n",
              "    <tr>\n",
              "      <th>606</th>\n",
              "      <td>4</td>\n",
              "      <td>1</td>\n",
              "      <td>1</td>\n",
              "      <td>2</td>\n",
              "      <td>2</td>\n",
              "      <td>1.0</td>\n",
              "      <td>1</td>\n",
              "      <td>1</td>\n",
              "      <td>1</td>\n",
              "      <td>2</td>\n",
              "    </tr>\n",
              "    <tr>\n",
              "      <th>349</th>\n",
              "      <td>4</td>\n",
              "      <td>2</td>\n",
              "      <td>3</td>\n",
              "      <td>5</td>\n",
              "      <td>3</td>\n",
              "      <td>8.0</td>\n",
              "      <td>7</td>\n",
              "      <td>6</td>\n",
              "      <td>1</td>\n",
              "      <td>4</td>\n",
              "    </tr>\n",
              "    <tr>\n",
              "      <th>134</th>\n",
              "      <td>3</td>\n",
              "      <td>1</td>\n",
              "      <td>1</td>\n",
              "      <td>1</td>\n",
              "      <td>3</td>\n",
              "      <td>1.0</td>\n",
              "      <td>2</td>\n",
              "      <td>1</td>\n",
              "      <td>1</td>\n",
              "      <td>2</td>\n",
              "    </tr>\n",
              "    <tr>\n",
              "      <th>502</th>\n",
              "      <td>4</td>\n",
              "      <td>1</td>\n",
              "      <td>1</td>\n",
              "      <td>2</td>\n",
              "      <td>2</td>\n",
              "      <td>1.0</td>\n",
              "      <td>2</td>\n",
              "      <td>1</td>\n",
              "      <td>1</td>\n",
              "      <td>2</td>\n",
              "    </tr>\n",
              "    <tr>\n",
              "      <th>117</th>\n",
              "      <td>4</td>\n",
              "      <td>5</td>\n",
              "      <td>5</td>\n",
              "      <td>10</td>\n",
              "      <td>4</td>\n",
              "      <td>10.0</td>\n",
              "      <td>7</td>\n",
              "      <td>5</td>\n",
              "      <td>8</td>\n",
              "      <td>4</td>\n",
              "    </tr>\n",
              "  </tbody>\n",
              "</table>\n",
              "</div>"
            ],
            "text/plain": [
              "     Clump Thickness  Uniformity of Cell Size  ...  Mitoses  Class\n",
              "584                5                        1  ...        1      2\n",
              "417                1                        1  ...        1      2\n",
              "606                4                        1  ...        1      2\n",
              "349                4                        2  ...        1      4\n",
              "134                3                        1  ...        1      2\n",
              "502                4                        1  ...        1      2\n",
              "117                4                        5  ...        8      4\n",
              "\n",
              "[7 rows x 10 columns]"
            ]
          },
          "metadata": {},
          "execution_count": 954
        }
      ]
    },
    {
      "cell_type": "code",
      "metadata": {
        "colab": {
          "base_uri": "https://localhost:8080/",
          "height": 286
        },
        "id": "f6kjqXBNilrb",
        "outputId": "5b64099d-cb93-4eec-a155-9f84e3294880"
      },
      "source": [
        "sample = data2.sample(frac=0.01, replace=True, random_state=1)\n",
        "sample"
      ],
      "execution_count": 955,
      "outputs": [
        {
          "output_type": "execute_result",
          "data": {
            "text/html": [
              "<div>\n",
              "<style scoped>\n",
              "    .dataframe tbody tr th:only-of-type {\n",
              "        vertical-align: middle;\n",
              "    }\n",
              "\n",
              "    .dataframe tbody tr th {\n",
              "        vertical-align: top;\n",
              "    }\n",
              "\n",
              "    .dataframe thead th {\n",
              "        text-align: right;\n",
              "    }\n",
              "</style>\n",
              "<table border=\"1\" class=\"dataframe\">\n",
              "  <thead>\n",
              "    <tr style=\"text-align: right;\">\n",
              "      <th></th>\n",
              "      <th>Clump Thickness</th>\n",
              "      <th>Uniformity of Cell Size</th>\n",
              "      <th>Uniformity of Cell Shape</th>\n",
              "      <th>Marginal Adhesion</th>\n",
              "      <th>Single Epithelial Cell Size</th>\n",
              "      <th>Bare Nuclei</th>\n",
              "      <th>Bland Chromatin</th>\n",
              "      <th>Normal Nucleoli</th>\n",
              "      <th>Mitoses</th>\n",
              "      <th>Class</th>\n",
              "    </tr>\n",
              "  </thead>\n",
              "  <tbody>\n",
              "    <tr>\n",
              "      <th>37</th>\n",
              "      <td>6</td>\n",
              "      <td>2</td>\n",
              "      <td>1</td>\n",
              "      <td>1</td>\n",
              "      <td>1</td>\n",
              "      <td>1.0</td>\n",
              "      <td>7</td>\n",
              "      <td>1</td>\n",
              "      <td>1</td>\n",
              "      <td>2</td>\n",
              "    </tr>\n",
              "    <tr>\n",
              "      <th>235</th>\n",
              "      <td>3</td>\n",
              "      <td>1</td>\n",
              "      <td>4</td>\n",
              "      <td>1</td>\n",
              "      <td>2</td>\n",
              "      <td>1.0</td>\n",
              "      <td>3</td>\n",
              "      <td>1</td>\n",
              "      <td>1</td>\n",
              "      <td>2</td>\n",
              "    </tr>\n",
              "    <tr>\n",
              "      <th>72</th>\n",
              "      <td>1</td>\n",
              "      <td>3</td>\n",
              "      <td>3</td>\n",
              "      <td>2</td>\n",
              "      <td>2</td>\n",
              "      <td>1.0</td>\n",
              "      <td>7</td>\n",
              "      <td>2</td>\n",
              "      <td>1</td>\n",
              "      <td>2</td>\n",
              "    </tr>\n",
              "    <tr>\n",
              "      <th>645</th>\n",
              "      <td>3</td>\n",
              "      <td>1</td>\n",
              "      <td>1</td>\n",
              "      <td>1</td>\n",
              "      <td>2</td>\n",
              "      <td>1.0</td>\n",
              "      <td>2</td>\n",
              "      <td>1</td>\n",
              "      <td>1</td>\n",
              "      <td>2</td>\n",
              "    </tr>\n",
              "    <tr>\n",
              "      <th>144</th>\n",
              "      <td>2</td>\n",
              "      <td>1</td>\n",
              "      <td>1</td>\n",
              "      <td>1</td>\n",
              "      <td>2</td>\n",
              "      <td>1.0</td>\n",
              "      <td>2</td>\n",
              "      <td>1</td>\n",
              "      <td>1</td>\n",
              "      <td>2</td>\n",
              "    </tr>\n",
              "    <tr>\n",
              "      <th>129</th>\n",
              "      <td>1</td>\n",
              "      <td>1</td>\n",
              "      <td>1</td>\n",
              "      <td>1</td>\n",
              "      <td>10</td>\n",
              "      <td>1.0</td>\n",
              "      <td>1</td>\n",
              "      <td>1</td>\n",
              "      <td>1</td>\n",
              "      <td>2</td>\n",
              "    </tr>\n",
              "    <tr>\n",
              "      <th>583</th>\n",
              "      <td>3</td>\n",
              "      <td>1</td>\n",
              "      <td>1</td>\n",
              "      <td>1</td>\n",
              "      <td>2</td>\n",
              "      <td>1.0</td>\n",
              "      <td>1</td>\n",
              "      <td>1</td>\n",
              "      <td>1</td>\n",
              "      <td>2</td>\n",
              "    </tr>\n",
              "  </tbody>\n",
              "</table>\n",
              "</div>"
            ],
            "text/plain": [
              "     Clump Thickness  Uniformity of Cell Size  ...  Mitoses  Class\n",
              "37                 6                        2  ...        1      2\n",
              "235                3                        1  ...        1      2\n",
              "72                 1                        3  ...        1      2\n",
              "645                3                        1  ...        1      2\n",
              "144                2                        1  ...        1      2\n",
              "129                1                        1  ...        1      2\n",
              "583                3                        1  ...        1      2\n",
              "\n",
              "[7 rows x 10 columns]"
            ]
          },
          "metadata": {},
          "execution_count": 955
        }
      ]
    },
    {
      "cell_type": "code",
      "metadata": {
        "colab": {
          "base_uri": "https://localhost:8080/"
        },
        "id": "GAHQkpukittO",
        "outputId": "5b36d8d7-af8d-45ce-ae20-6dfa5e8c0abb"
      },
      "source": [
        "bins = pd.cut(data['Clump Thickness'],4)\n",
        "bins.value_counts(sort=False)"
      ],
      "execution_count": 956,
      "outputs": [
        {
          "output_type": "execute_result",
          "data": {
            "text/plain": [
              "(0.991, 3.25]    303\n",
              "(3.25, 5.5]      210\n",
              "(5.5, 7.75]       57\n",
              "(7.75, 10.0]     129\n",
              "Name: Clump Thickness, dtype: int64"
            ]
          },
          "metadata": {},
          "execution_count": 956
        }
      ]
    },
    {
      "cell_type": "markdown",
      "metadata": {
        "id": "q2Nh6h73sobL"
      },
      "source": [
        "# 3 C .\tCorrelational analysis on the dataset and visualization\n"
      ]
    },
    {
      "cell_type": "code",
      "metadata": {
        "colab": {
          "base_uri": "https://localhost:8080/",
          "height": 501
        },
        "id": "chaQiU9aqPMq",
        "outputId": "c2805ecf-1385-421d-8e1b-589150a411f3"
      },
      "source": [
        "# Check the correlation in the data\n",
        "data.corr()"
      ],
      "execution_count": 957,
      "outputs": [
        {
          "output_type": "execute_result",
          "data": {
            "text/html": [
              "<div>\n",
              "<style scoped>\n",
              "    .dataframe tbody tr th:only-of-type {\n",
              "        vertical-align: middle;\n",
              "    }\n",
              "\n",
              "    .dataframe tbody tr th {\n",
              "        vertical-align: top;\n",
              "    }\n",
              "\n",
              "    .dataframe thead th {\n",
              "        text-align: right;\n",
              "    }\n",
              "</style>\n",
              "<table border=\"1\" class=\"dataframe\">\n",
              "  <thead>\n",
              "    <tr style=\"text-align: right;\">\n",
              "      <th></th>\n",
              "      <th>Clump Thickness</th>\n",
              "      <th>Uniformity of Cell Size</th>\n",
              "      <th>Uniformity of Cell Shape</th>\n",
              "      <th>Marginal Adhesion</th>\n",
              "      <th>Single Epithelial Cell Size</th>\n",
              "      <th>Bare Nuclei</th>\n",
              "      <th>Bland Chromatin</th>\n",
              "      <th>Normal Nucleoli</th>\n",
              "      <th>Mitoses</th>\n",
              "      <th>Class</th>\n",
              "    </tr>\n",
              "  </thead>\n",
              "  <tbody>\n",
              "    <tr>\n",
              "      <th>Clump Thickness</th>\n",
              "      <td>1.000000</td>\n",
              "      <td>0.644913</td>\n",
              "      <td>0.654589</td>\n",
              "      <td>0.486356</td>\n",
              "      <td>0.521816</td>\n",
              "      <td>0.590008</td>\n",
              "      <td>0.558428</td>\n",
              "      <td>0.535835</td>\n",
              "      <td>0.350034</td>\n",
              "      <td>0.716001</td>\n",
              "    </tr>\n",
              "    <tr>\n",
              "      <th>Uniformity of Cell Size</th>\n",
              "      <td>0.644913</td>\n",
              "      <td>1.000000</td>\n",
              "      <td>0.906882</td>\n",
              "      <td>0.705582</td>\n",
              "      <td>0.751799</td>\n",
              "      <td>0.686673</td>\n",
              "      <td>0.755721</td>\n",
              "      <td>0.722865</td>\n",
              "      <td>0.458693</td>\n",
              "      <td>0.817904</td>\n",
              "    </tr>\n",
              "    <tr>\n",
              "      <th>Uniformity of Cell Shape</th>\n",
              "      <td>0.654589</td>\n",
              "      <td>0.906882</td>\n",
              "      <td>1.000000</td>\n",
              "      <td>0.683079</td>\n",
              "      <td>0.719668</td>\n",
              "      <td>0.707474</td>\n",
              "      <td>0.735948</td>\n",
              "      <td>0.719446</td>\n",
              "      <td>0.438911</td>\n",
              "      <td>0.818934</td>\n",
              "    </tr>\n",
              "    <tr>\n",
              "      <th>Marginal Adhesion</th>\n",
              "      <td>0.486356</td>\n",
              "      <td>0.705582</td>\n",
              "      <td>0.683079</td>\n",
              "      <td>1.000000</td>\n",
              "      <td>0.599599</td>\n",
              "      <td>0.666971</td>\n",
              "      <td>0.666715</td>\n",
              "      <td>0.603352</td>\n",
              "      <td>0.417633</td>\n",
              "      <td>0.696800</td>\n",
              "    </tr>\n",
              "    <tr>\n",
              "      <th>Single Epithelial Cell Size</th>\n",
              "      <td>0.521816</td>\n",
              "      <td>0.751799</td>\n",
              "      <td>0.719668</td>\n",
              "      <td>0.599599</td>\n",
              "      <td>1.000000</td>\n",
              "      <td>0.583701</td>\n",
              "      <td>0.616102</td>\n",
              "      <td>0.628881</td>\n",
              "      <td>0.479101</td>\n",
              "      <td>0.682785</td>\n",
              "    </tr>\n",
              "    <tr>\n",
              "      <th>Bare Nuclei</th>\n",
              "      <td>0.590008</td>\n",
              "      <td>0.686673</td>\n",
              "      <td>0.707474</td>\n",
              "      <td>0.666971</td>\n",
              "      <td>0.583701</td>\n",
              "      <td>1.000000</td>\n",
              "      <td>0.674215</td>\n",
              "      <td>0.574778</td>\n",
              "      <td>0.342397</td>\n",
              "      <td>0.818968</td>\n",
              "    </tr>\n",
              "    <tr>\n",
              "      <th>Bland Chromatin</th>\n",
              "      <td>0.558428</td>\n",
              "      <td>0.755721</td>\n",
              "      <td>0.735948</td>\n",
              "      <td>0.666715</td>\n",
              "      <td>0.616102</td>\n",
              "      <td>0.674215</td>\n",
              "      <td>1.000000</td>\n",
              "      <td>0.665878</td>\n",
              "      <td>0.344169</td>\n",
              "      <td>0.756616</td>\n",
              "    </tr>\n",
              "    <tr>\n",
              "      <th>Normal Nucleoli</th>\n",
              "      <td>0.535835</td>\n",
              "      <td>0.722865</td>\n",
              "      <td>0.719446</td>\n",
              "      <td>0.603352</td>\n",
              "      <td>0.628881</td>\n",
              "      <td>0.574778</td>\n",
              "      <td>0.665878</td>\n",
              "      <td>1.000000</td>\n",
              "      <td>0.428336</td>\n",
              "      <td>0.712244</td>\n",
              "    </tr>\n",
              "    <tr>\n",
              "      <th>Mitoses</th>\n",
              "      <td>0.350034</td>\n",
              "      <td>0.458693</td>\n",
              "      <td>0.438911</td>\n",
              "      <td>0.417633</td>\n",
              "      <td>0.479101</td>\n",
              "      <td>0.342397</td>\n",
              "      <td>0.344169</td>\n",
              "      <td>0.428336</td>\n",
              "      <td>1.000000</td>\n",
              "      <td>0.423170</td>\n",
              "    </tr>\n",
              "    <tr>\n",
              "      <th>Class</th>\n",
              "      <td>0.716001</td>\n",
              "      <td>0.817904</td>\n",
              "      <td>0.818934</td>\n",
              "      <td>0.696800</td>\n",
              "      <td>0.682785</td>\n",
              "      <td>0.818968</td>\n",
              "      <td>0.756616</td>\n",
              "      <td>0.712244</td>\n",
              "      <td>0.423170</td>\n",
              "      <td>1.000000</td>\n",
              "    </tr>\n",
              "  </tbody>\n",
              "</table>\n",
              "</div>"
            ],
            "text/plain": [
              "                             Clump Thickness  ...     Class\n",
              "Clump Thickness                     1.000000  ...  0.716001\n",
              "Uniformity of Cell Size             0.644913  ...  0.817904\n",
              "Uniformity of Cell Shape            0.654589  ...  0.818934\n",
              "Marginal Adhesion                   0.486356  ...  0.696800\n",
              "Single Epithelial Cell Size         0.521816  ...  0.682785\n",
              "Bare Nuclei                         0.590008  ...  0.818968\n",
              "Bland Chromatin                     0.558428  ...  0.756616\n",
              "Normal Nucleoli                     0.535835  ...  0.712244\n",
              "Mitoses                             0.350034  ...  0.423170\n",
              "Class                               0.716001  ...  1.000000\n",
              "\n",
              "[10 rows x 10 columns]"
            ]
          },
          "metadata": {},
          "execution_count": 957
        }
      ]
    },
    {
      "cell_type": "code",
      "metadata": {
        "colab": {
          "base_uri": "https://localhost:8080/",
          "height": 403
        },
        "id": "qZfh1Go-rL7j",
        "outputId": "feb2c537-c950-4b7e-d53e-6976ca8b9345"
      },
      "source": [
        "sns.heatmap(data.corr(), square = True)"
      ],
      "execution_count": 958,
      "outputs": [
        {
          "output_type": "execute_result",
          "data": {
            "text/plain": [
              "<matplotlib.axes._subplots.AxesSubplot at 0x7fdd2b3a91d0>"
            ]
          },
          "metadata": {},
          "execution_count": 958
        },
        {
          "output_type": "display_data",
          "data": {
            "image/png": "[encoded data removed]",
            "text/plain": [
              "<Figure size 432x288 with 2 Axes>"
            ]
          },
          "metadata": {
            "needs_background": "light"
          }
        }
      ]
    },
    {
      "cell_type": "markdown",
      "metadata": {
        "id": "u_lDsy9LrcyE"
      },
      "source": [
        "# 3B Applying Feature Reduction techniques\n",
        "# Features \"Uniformity of Cell Size\" and \"Uniformity of Cell Shape\" are highly correlated. So dropping the feature \"Uniformity of Cell Size\"\n"
      ]
    },
    {
      "cell_type": "code",
      "metadata": {
        "colab": {
          "base_uri": "https://localhost:8080/",
          "height": 441
        },
        "id": "L3aYGMO8rcPE",
        "outputId": "5c278f01-b04c-4b2d-b9be-f469f47752de"
      },
      "source": [
        "data2.drop(['Uniformity of Cell Size'],axis=1)"
      ],
      "execution_count": 959,
      "outputs": [
        {
          "output_type": "execute_result",
          "data": {
            "text/html": [
              "<div>\n",
              "<style scoped>\n",
              "    .dataframe tbody tr th:only-of-type {\n",
              "        vertical-align: middle;\n",
              "    }\n",
              "\n",
              "    .dataframe tbody tr th {\n",
              "        vertical-align: top;\n",
              "    }\n",
              "\n",
              "    .dataframe thead th {\n",
              "        text-align: right;\n",
              "    }\n",
              "</style>\n",
              "<table border=\"1\" class=\"dataframe\">\n",
              "  <thead>\n",
              "    <tr style=\"text-align: right;\">\n",
              "      <th></th>\n",
              "      <th>Clump Thickness</th>\n",
              "      <th>Uniformity of Cell Shape</th>\n",
              "      <th>Marginal Adhesion</th>\n",
              "      <th>Single Epithelial Cell Size</th>\n",
              "      <th>Bare Nuclei</th>\n",
              "      <th>Bland Chromatin</th>\n",
              "      <th>Normal Nucleoli</th>\n",
              "      <th>Mitoses</th>\n",
              "      <th>Class</th>\n",
              "    </tr>\n",
              "  </thead>\n",
              "  <tbody>\n",
              "    <tr>\n",
              "      <th>0</th>\n",
              "      <td>5</td>\n",
              "      <td>1</td>\n",
              "      <td>1</td>\n",
              "      <td>2</td>\n",
              "      <td>1.0</td>\n",
              "      <td>3</td>\n",
              "      <td>1</td>\n",
              "      <td>1</td>\n",
              "      <td>2</td>\n",
              "    </tr>\n",
              "    <tr>\n",
              "      <th>1</th>\n",
              "      <td>5</td>\n",
              "      <td>4</td>\n",
              "      <td>5</td>\n",
              "      <td>7</td>\n",
              "      <td>10.0</td>\n",
              "      <td>3</td>\n",
              "      <td>2</td>\n",
              "      <td>1</td>\n",
              "      <td>2</td>\n",
              "    </tr>\n",
              "    <tr>\n",
              "      <th>2</th>\n",
              "      <td>3</td>\n",
              "      <td>1</td>\n",
              "      <td>1</td>\n",
              "      <td>2</td>\n",
              "      <td>2.0</td>\n",
              "      <td>3</td>\n",
              "      <td>1</td>\n",
              "      <td>1</td>\n",
              "      <td>2</td>\n",
              "    </tr>\n",
              "    <tr>\n",
              "      <th>3</th>\n",
              "      <td>6</td>\n",
              "      <td>8</td>\n",
              "      <td>1</td>\n",
              "      <td>3</td>\n",
              "      <td>4.0</td>\n",
              "      <td>3</td>\n",
              "      <td>7</td>\n",
              "      <td>1</td>\n",
              "      <td>2</td>\n",
              "    </tr>\n",
              "    <tr>\n",
              "      <th>4</th>\n",
              "      <td>4</td>\n",
              "      <td>1</td>\n",
              "      <td>3</td>\n",
              "      <td>2</td>\n",
              "      <td>1.0</td>\n",
              "      <td>3</td>\n",
              "      <td>1</td>\n",
              "      <td>1</td>\n",
              "      <td>2</td>\n",
              "    </tr>\n",
              "    <tr>\n",
              "      <th>...</th>\n",
              "      <td>...</td>\n",
              "      <td>...</td>\n",
              "      <td>...</td>\n",
              "      <td>...</td>\n",
              "      <td>...</td>\n",
              "      <td>...</td>\n",
              "      <td>...</td>\n",
              "      <td>...</td>\n",
              "      <td>...</td>\n",
              "    </tr>\n",
              "    <tr>\n",
              "      <th>694</th>\n",
              "      <td>3</td>\n",
              "      <td>1</td>\n",
              "      <td>1</td>\n",
              "      <td>3</td>\n",
              "      <td>2.0</td>\n",
              "      <td>1</td>\n",
              "      <td>1</td>\n",
              "      <td>1</td>\n",
              "      <td>2</td>\n",
              "    </tr>\n",
              "    <tr>\n",
              "      <th>695</th>\n",
              "      <td>2</td>\n",
              "      <td>1</td>\n",
              "      <td>1</td>\n",
              "      <td>2</td>\n",
              "      <td>1.0</td>\n",
              "      <td>1</td>\n",
              "      <td>1</td>\n",
              "      <td>1</td>\n",
              "      <td>2</td>\n",
              "    </tr>\n",
              "    <tr>\n",
              "      <th>696</th>\n",
              "      <td>5</td>\n",
              "      <td>10</td>\n",
              "      <td>3</td>\n",
              "      <td>7</td>\n",
              "      <td>3.0</td>\n",
              "      <td>8</td>\n",
              "      <td>10</td>\n",
              "      <td>2</td>\n",
              "      <td>4</td>\n",
              "    </tr>\n",
              "    <tr>\n",
              "      <th>697</th>\n",
              "      <td>4</td>\n",
              "      <td>6</td>\n",
              "      <td>4</td>\n",
              "      <td>3</td>\n",
              "      <td>4.0</td>\n",
              "      <td>10</td>\n",
              "      <td>6</td>\n",
              "      <td>1</td>\n",
              "      <td>4</td>\n",
              "    </tr>\n",
              "    <tr>\n",
              "      <th>698</th>\n",
              "      <td>4</td>\n",
              "      <td>8</td>\n",
              "      <td>5</td>\n",
              "      <td>4</td>\n",
              "      <td>5.0</td>\n",
              "      <td>10</td>\n",
              "      <td>4</td>\n",
              "      <td>1</td>\n",
              "      <td>4</td>\n",
              "    </tr>\n",
              "  </tbody>\n",
              "</table>\n",
              "<p>699 rows × 9 columns</p>\n",
              "</div>"
            ],
            "text/plain": [
              "     Clump Thickness  Uniformity of Cell Shape  ...  Mitoses  Class\n",
              "0                  5                         1  ...        1      2\n",
              "1                  5                         4  ...        1      2\n",
              "2                  3                         1  ...        1      2\n",
              "3                  6                         8  ...        1      2\n",
              "4                  4                         1  ...        1      2\n",
              "..               ...                       ...  ...      ...    ...\n",
              "694                3                         1  ...        1      2\n",
              "695                2                         1  ...        1      2\n",
              "696                5                        10  ...        2      4\n",
              "697                4                         6  ...        1      4\n",
              "698                4                         8  ...        1      4\n",
              "\n",
              "[699 rows x 9 columns]"
            ]
          },
          "metadata": {},
          "execution_count": 959
        }
      ]
    },
    {
      "cell_type": "markdown",
      "metadata": {
        "id": "qMSOr_F3utqy"
      },
      "source": [
        "# 4.\tData Preparation"
      ]
    },
    {
      "cell_type": "code",
      "metadata": {
        "colab": {
          "base_uri": "https://localhost:8080/"
        },
        "id": "m29cXb63rbg0",
        "outputId": "3db285b3-9e2c-44c9-cb64-6c13e6828564"
      },
      "source": [
        "features = ['Clump Thickness', 'Uniformity of Cell Shape',\n",
        "                'Marginal Adhesion', 'Single Epithelial Cell Size', 'Bare Nuclei', 'Bland Chromatin','Normal Nucleoli', 'Mitoses']\n",
        "X = data2[features]\n",
        "# Label selection\n",
        "y = data2.Class\n",
        "print('X:', X)\n",
        "print('y:', y)\n",
        "# For testing purpose\n",
        "train_X, test_X, train_y, test_y = train_test_split(X, y)"
      ],
      "execution_count": 960,
      "outputs": [
        {
          "output_type": "stream",
          "text": [
            "X:      Clump Thickness  Uniformity of Cell Shape  ...  Normal Nucleoli  Mitoses\n",
            "0                  5                         1  ...                1        1\n",
            "1                  5                         4  ...                2        1\n",
            "2                  3                         1  ...                1        1\n",
            "3                  6                         8  ...                7        1\n",
            "4                  4                         1  ...                1        1\n",
            "..               ...                       ...  ...              ...      ...\n",
            "694                3                         1  ...                1        1\n",
            "695                2                         1  ...                1        1\n",
            "696                5                        10  ...               10        2\n",
            "697                4                         6  ...                6        1\n",
            "698                4                         8  ...                4        1\n",
            "\n",
            "[699 rows x 8 columns]\n",
            "y: 0      2\n",
            "1      2\n",
            "2      2\n",
            "3      2\n",
            "4      2\n",
            "      ..\n",
            "694    2\n",
            "695    2\n",
            "696    4\n",
            "697    4\n",
            "698    4\n",
            "Name: Class, Length: 699, dtype: int64\n"
          ],
          "name": "stdout"
        }
      ]
    },
    {
      "cell_type": "markdown",
      "metadata": {
        "id": "gXSoFhVbyGwr"
      },
      "source": [
        "# Part B \n",
        "\n",
        "# 1. Model Building: This section uses 4 models to predict the Class labels for test data. i.e. RandomForestClassifier, LogisticRegression, GaussianNaiiveBayes, DecisionTreeClassifier\n"
      ]
    },
    {
      "cell_type": "markdown",
      "metadata": {
        "id": "6vmhyoeqcAoR"
      },
      "source": [
        "# Model 1: Using RandomForestClassifier to train the model"
      ]
    },
    {
      "cell_type": "code",
      "metadata": {
        "id": "IvBn8Q7Ww-E0"
      },
      "source": [
        "# Loop is used to get more generalized result\n",
        "total_sum = []\n",
        "# Hypertuning of parameters for better prediction\n",
        "forest_model = RandomForestClassifier(n_estimators=100, n_jobs=-1, random_state=9)\n",
        "forest_fit = forest_model.fit(train_X, train_y)"
      ],
      "execution_count": 961,
      "outputs": []
    },
    {
      "cell_type": "markdown",
      "metadata": {
        "id": "pr8oE8kUXFaG"
      },
      "source": [
        "\n",
        "\n",
        "\n",
        "> Predict the Class labels for the test data\n",
        "\n",
        "\n",
        "\n"
      ]
    },
    {
      "cell_type": "code",
      "metadata": {
        "colab": {
          "base_uri": "https://localhost:8080/"
        },
        "id": "UL8hOkWsXbBI",
        "outputId": "a9e522c7-b6ad-49e2-a83a-e80ad9565b18"
      },
      "source": [
        "# For testing purpose\n",
        "#forest_model.fit(train_X, train_y)\n",
        "# Pass values to get prediction for ratings\n",
        "# 1st value = Clump Thickness\n",
        "# 2nd value = Uniformity of Cell Shape\n",
        "# 3rd value = Marginal Adhesion\n",
        "# 4th value = Single Epithelial Cell Size\n",
        "# 5th value = Bare Nuclei\n",
        "# 6th value = Bland Chromatin\n",
        "# 7th value = Normal Nucleoli\n",
        "# 8th value = Mitoses\n",
        " \n",
        "# Just for testing purpose\n",
        "#forest_pred = forest_model.predict([[10,7,3,8,5,7,4,3]])\n",
        "\n",
        "forest_pred = forest_model.predict(test_X)\n",
        "print('Classes predicted by RandomForestClassifer for test data are:', forest_pred)"
      ],
      "execution_count": 962,
      "outputs": [
        {
          "output_type": "stream",
          "text": [
            "Classes predicted by RandomForestClassifer for test data are: [2 2 2 2 4 2 4 2 2 2 4 2 4 2 2 2 4 2 4 4 2 4 2 4 4 2 2 2 2 4 4 4 2 4 4 2 4\n",
            " 2 2 4 2 4 4 2 2 2 2 4 2 4 2 2 2 2 2 4 4 2 2 2 2 4 2 2 2 2 2 2 4 2 2 2 4 4\n",
            " 2 4 2 2 2 4 4 4 2 2 4 4 4 2 2 2 2 2 4 4 2 4 2 4 2 2 2 2 2 2 2 4 2 2 4 4 2\n",
            " 4 4 2 2 2 2 4 2 2 4 4 2 2 2 4 2 2 4 2 2 2 4 4 2 2 2 4 2 2 2 2 4 2 2 2 2 4\n",
            " 2 2 2 4 4 2 2 4 2 2 2 4 2 2 2 2 2 2 2 2 4 2 2 4 2 2 2]\n"
          ],
          "name": "stdout"
        }
      ]
    },
    {
      "cell_type": "markdown",
      "metadata": {
        "id": "ldhnIQ2NNeaG"
      },
      "source": [
        " > Print the training accuracy and loss values\n"
      ]
    },
    {
      "cell_type": "code",
      "metadata": {
        "colab": {
          "base_uri": "https://localhost:8080/"
        },
        "id": "ciyNfBoiNF2w",
        "outputId": "5e576851-c142-4a73-b7e6-7231a57e5e80"
      },
      "source": [
        "print('Mean Absolute Error:', metrics.mean_absolute_error(test_y, forest_pred))\n",
        "print('Mean Squared Error:', metrics.mean_squared_error(test_y, forest_pred))\n",
        "print('Root Mean Squared Error:', np.sqrt(metrics.mean_squared_error(test_y, forest_pred)))\n",
        "print('Cross Entropy:', log_loss(test_y,forest_pred,eps=1e-15,sample_weight=None, labels=None)/len(test_y))\n",
        "print('Classification Report:', metrics.classification_report(test_y,forest_pred))\n",
        "score_rfcla = forest_model.score(test_X, test_y)\n",
        "print('Accuracy Score:', score_rfcla)"
      ],
      "execution_count": 963,
      "outputs": [
        {
          "output_type": "stream",
          "text": [
            "Mean Absolute Error: 0.03428571428571429\n",
            "Mean Squared Error: 0.06857142857142857\n",
            "Root Mean Squared Error: 0.26186146828319085\n",
            "Cross Entropy: 0.13421092385595312\n",
            "Classification Report:               precision    recall  f1-score   support\n",
            "\n",
            "           2       1.00      0.97      0.99       119\n",
            "           4       0.95      1.00      0.97        56\n",
            "\n",
            "    accuracy                           0.98       175\n",
            "   macro avg       0.97      0.99      0.98       175\n",
            "weighted avg       0.98      0.98      0.98       175\n",
            "\n",
            "Accuracy Score: 0.9828571428571429\n"
          ],
          "name": "stdout"
        }
      ]
    },
    {
      "cell_type": "markdown",
      "metadata": {
        "id": "k5H2IGCSW5-1"
      },
      "source": [
        "> Part B: Print Confusion Matrix\n",
        "\n",
        "\n",
        "\n"
      ]
    },
    {
      "cell_type": "code",
      "metadata": {
        "colab": {
          "base_uri": "https://localhost:8080/",
          "height": 350
        },
        "id": "xXn8R8NLRq0X",
        "outputId": "32cde8f0-2b31-497f-fd75-aebd30a1dc9f"
      },
      "source": [
        "forest_model_cm = confusion_matrix(test_y, forest_pred)\n",
        "f, ax = plt.subplots(figsize=(5,5))\n",
        "sns.heatmap(forest_model_cm, annot=True, linewidth=0.7, linecolor='red', fmt='g', ax=ax, cmap=\"BuPu\")\n",
        "plt.title('Random Forest Model Confusion Matrix')\n",
        "plt.xlabel('Y predict')\n",
        "plt.ylabel('Y test')\n",
        "plt.show()"
      ],
      "execution_count": 964,
      "outputs": [
        {
          "output_type": "display_data",
          "data": {
            "image/png": "[encoded data removed]",
            "text/plain": [
              "<Figure size 360x360 with 2 Axes>"
            ]
          },
          "metadata": {
            "needs_background": "light"
          }
        }
      ]
    },
    {
      "cell_type": "markdown",
      "metadata": {
        "id": "A_BdSUgvLa4w"
      },
      "source": [
        "# Model 2: Using LogisticRegression to train the model"
      ]
    },
    {
      "cell_type": "code",
      "metadata": {
        "colab": {
          "base_uri": "https://localhost:8080/"
        },
        "id": "4LVx9DGEPj2S",
        "outputId": "1ab94b3f-e5b0-4c4e-94b1-ec0812a6b797"
      },
      "source": [
        "logreg = LogisticRegression()\n",
        "logreg.fit(train_X, train_y)"
      ],
      "execution_count": 965,
      "outputs": [
        {
          "output_type": "execute_result",
          "data": {
            "text/plain": [
              "LogisticRegression(C=1.0, class_weight=None, dual=False, fit_intercept=True,\n",
              "                   intercept_scaling=1, l1_ratio=None, max_iter=100,\n",
              "                   multi_class='auto', n_jobs=None, penalty='l2',\n",
              "                   random_state=None, solver='lbfgs', tol=0.0001, verbose=0,\n",
              "                   warm_start=False)"
            ]
          },
          "metadata": {},
          "execution_count": 965
        }
      ]
    },
    {
      "cell_type": "markdown",
      "metadata": {
        "id": "CUTRhBWqY49-"
      },
      "source": [
        "\n",
        "\n",
        "> Predicting Class labels for the test data\n",
        "\n"
      ]
    },
    {
      "cell_type": "code",
      "metadata": {
        "colab": {
          "base_uri": "https://localhost:8080/"
        },
        "id": "HY41KafkY5iR",
        "outputId": "0c484b25-cf85-4fc2-f936-9ff9e31e9d84"
      },
      "source": [
        "logreg_predict = logreg.predict(test_X)\n",
        "print('Classes predicted by LogisticRegression model for test data are:', logreg_predict)"
      ],
      "execution_count": 966,
      "outputs": [
        {
          "output_type": "stream",
          "text": [
            "Classes predicted by LogisticRegression model for test data are: [2 2 2 2 4 2 4 2 2 2 4 2 4 2 2 2 4 2 4 4 2 4 2 4 4 2 2 2 2 4 4 4 2 4 4 2 4\n",
            " 2 4 4 2 4 4 2 2 2 2 4 2 4 2 2 2 2 2 4 4 2 2 2 2 4 2 2 2 2 2 2 4 2 2 2 4 4\n",
            " 2 4 2 2 2 4 2 4 2 2 4 4 4 2 2 2 2 2 4 4 2 4 2 4 2 2 2 2 2 2 2 4 2 2 4 4 2\n",
            " 4 4 2 2 2 2 4 2 2 4 4 2 2 2 4 2 2 4 2 2 2 4 4 2 2 2 4 2 2 2 2 4 2 2 2 2 2\n",
            " 2 2 2 4 4 2 2 4 2 2 2 4 2 2 2 2 2 2 2 2 4 2 2 4 2 2 2]\n"
          ],
          "name": "stdout"
        }
      ]
    },
    {
      "cell_type": "markdown",
      "metadata": {
        "id": "V5DrWYekZXYE"
      },
      "source": [
        " > Print the training accuracy and loss values"
      ]
    },
    {
      "cell_type": "code",
      "metadata": {
        "colab": {
          "base_uri": "https://localhost:8080/"
        },
        "id": "OsxnSN6BQKKH",
        "outputId": "a5c11947-e962-4879-a99d-1872ca9d024d"
      },
      "source": [
        "print('Mean Absolute Error:', metrics.mean_absolute_error(test_y, logreg_predict))\n",
        "print('Mean Squared Error:', metrics.mean_squared_error(test_y, logreg_predict))\n",
        "print('Root Mean Squared Error:', np.sqrt(metrics.mean_squared_error(test_y, logreg_predict)))\n",
        "print('Cross Entropy:', log_loss(test_y,logreg_predict,eps=1e-15,sample_weight=None, labels=None)/len(test_y))\n",
        "print('Classification Report:', metrics.classification_report(test_y,logreg_predict))\n",
        "print('Accuracy Score:', logreg.score(test_X, test_y))"
      ],
      "execution_count": 967,
      "outputs": [
        {
          "output_type": "stream",
          "text": [
            "Mean Absolute Error: 0.06857142857142857\n",
            "Mean Squared Error: 0.13714285714285715\n",
            "Root Mean Squared Error: 0.3703280399090206\n",
            "Cross Entropy: 0.13421092385595312\n",
            "Classification Report:               precision    recall  f1-score   support\n",
            "\n",
            "           2       0.98      0.97      0.97       119\n",
            "           4       0.93      0.96      0.95        56\n",
            "\n",
            "    accuracy                           0.97       175\n",
            "   macro avg       0.96      0.97      0.96       175\n",
            "weighted avg       0.97      0.97      0.97       175\n",
            "\n",
            "Accuracy Score: 0.9657142857142857\n"
          ],
          "name": "stdout"
        }
      ]
    },
    {
      "cell_type": "markdown",
      "metadata": {
        "id": "uxeXQ1PLPlv9"
      },
      "source": [
        "> Part B: Print the confusion matrix."
      ]
    },
    {
      "cell_type": "code",
      "metadata": {
        "colab": {
          "base_uri": "https://localhost:8080/",
          "height": 350
        },
        "id": "GaAYUsywLbgZ",
        "outputId": "088894f0-4cd0-431f-d442-54f4a1c1f016"
      },
      "source": [
        "logreg_cm = confusion_matrix(test_y, predict_y)\n",
        "f, ax = plt.subplots(figsize=(5,5))\n",
        "sns.heatmap(logreg_cm, annot=True, linewidth=0.7, linecolor='red', fmt='g', ax=ax, cmap=\"BuPu\")\n",
        "plt.title('Logistic Regression Classification Confusion Matrix')\n",
        "plt.xlabel('Y predict')\n",
        "plt.ylabel('Y test')\n",
        "plt.show()"
      ],
      "execution_count": 968,
      "outputs": [
        {
          "output_type": "display_data",
          "data": {
            "image/png": "[encoded data removed]",
            "text/plain": [
              "<Figure size 360x360 with 2 Axes>"
            ]
          },
          "metadata": {
            "needs_background": "light"
          }
        }
      ]
    },
    {
      "cell_type": "markdown",
      "metadata": {
        "id": "pAU_pSMlP3ID"
      },
      "source": [
        "# Model 3: Using NaiiveBayes Classifier to train the model"
      ]
    },
    {
      "cell_type": "code",
      "metadata": {
        "colab": {
          "base_uri": "https://localhost:8080/"
        },
        "id": "huUivaDNZ-PL",
        "outputId": "b6822cca-6fec-47f3-9a19-4ebce70adaa0"
      },
      "source": [
        "# We define the model\n",
        "nbcla = GaussianNB()\n",
        "# We train model\n",
        "nbcla.fit(train_X, train_y)"
      ],
      "execution_count": 969,
      "outputs": [
        {
          "output_type": "execute_result",
          "data": {
            "text/plain": [
              "GaussianNB(priors=None, var_smoothing=1e-09)"
            ]
          },
          "metadata": {},
          "execution_count": 969
        }
      ]
    },
    {
      "cell_type": "markdown",
      "metadata": {
        "id": "rcUyRa5Tce3m"
      },
      "source": [
        "> Predicting Class labels for the test data"
      ]
    },
    {
      "cell_type": "code",
      "metadata": {
        "colab": {
          "base_uri": "https://localhost:8080/"
        },
        "id": "8iiesgv-ceFK",
        "outputId": "64bb1f28-92d8-46ae-ff5b-67891eea3111"
      },
      "source": [
        "# We predict target values\n",
        "nbcla_predict = nbcla.predict(test_X)\n",
        "print('Classes predicted by GaussianNB model for test data are:', nbcla_predict)"
      ],
      "execution_count": 970,
      "outputs": [
        {
          "output_type": "stream",
          "text": [
            "Classes predicted by GaussianNB model for test data are: [2 2 2 2 4 2 4 2 2 2 4 2 4 2 2 2 4 2 4 4 2 4 2 4 4 2 2 2 2 4 4 4 2 4 4 2 4\n",
            " 2 2 4 2 4 4 2 2 2 2 4 2 4 2 2 2 2 2 4 4 2 2 2 2 4 4 2 2 2 2 2 4 2 2 2 4 4\n",
            " 2 4 2 2 2 4 4 4 2 2 4 4 4 4 2 2 2 2 4 4 2 4 2 4 2 2 2 2 2 2 2 4 2 2 4 4 2\n",
            " 4 4 2 2 2 2 4 2 2 4 4 2 2 2 4 2 2 4 2 2 2 4 4 2 2 2 4 2 2 2 2 4 2 2 2 2 2\n",
            " 2 2 2 4 4 2 2 4 2 2 2 4 2 2 2 2 2 2 2 2 4 2 2 4 2 2 2]\n"
          ],
          "name": "stdout"
        }
      ]
    },
    {
      "cell_type": "markdown",
      "metadata": {
        "id": "J2-iNO-3c-GI"
      },
      "source": [
        " > Print the training accuracy and loss values\n",
        "\n"
      ]
    },
    {
      "cell_type": "code",
      "metadata": {
        "colab": {
          "base_uri": "https://localhost:8080/"
        },
        "id": "oLL9IBVvc-aB",
        "outputId": "c1b7f4da-76ae-4c61-8235-3c96c6319159"
      },
      "source": [
        "print('Mean Absolute Error:', metrics.mean_absolute_error(test_y, nbcla_predict))\n",
        "print('Mean Squared Error:', metrics.mean_squared_error(test_y, nbcla_predict))\n",
        "print('Root Mean Squared Error:', np.sqrt(metrics.mean_squared_error(test_y, nbcla_predict)))\n",
        "print('Cross Entropy:', log_loss(test_y,nbcla_predict,eps=1e-15,sample_weight=None, labels=None)/len(test_y))\n",
        "print('Classification Report:', metrics.classification_report(test_y,nbcla_predict))\n",
        "print('Accuracy Score:', nbcla.score(test_X, test_y))"
      ],
      "execution_count": 971,
      "outputs": [
        {
          "output_type": "stream",
          "text": [
            "Mean Absolute Error: 0.06857142857142857\n",
            "Mean Squared Error: 0.13714285714285715\n",
            "Root Mean Squared Error: 0.3703280399090206\n",
            "Cross Entropy: 0.13421092385595312\n",
            "Classification Report:               precision    recall  f1-score   support\n",
            "\n",
            "           2       0.99      0.96      0.97       119\n",
            "           4       0.92      0.98      0.95        56\n",
            "\n",
            "    accuracy                           0.97       175\n",
            "   macro avg       0.95      0.97      0.96       175\n",
            "weighted avg       0.97      0.97      0.97       175\n",
            "\n",
            "Accuracy Score: 0.9657142857142857\n"
          ],
          "name": "stdout"
        }
      ]
    },
    {
      "cell_type": "markdown",
      "metadata": {
        "id": "ckDiBJX0coV4"
      },
      "source": [
        "> Part B: Print the confusion matrix.\n"
      ]
    },
    {
      "cell_type": "code",
      "metadata": {
        "colab": {
          "base_uri": "https://localhost:8080/",
          "height": 350
        },
        "id": "w_vGyORgco4O",
        "outputId": "50bb9a13-1b05-49bd-c354-3093dd9b8183"
      },
      "source": [
        "nbcla_cm = confusion_matrix(test_y, nbcla_predict)\n",
        "f, ax = plt.subplots(figsize=(5,5))\n",
        "sns.heatmap(nbcla_cm, annot=True, linewidth=0.7, linecolor='red', fmt='g', ax=ax, cmap=\"BuPu\")\n",
        "plt.title('Naive Bayes Classification Confusion Matrix')\n",
        "plt.xlabel('Y predict')\n",
        "plt.ylabel('Y test')\n",
        "plt.show()"
      ],
      "execution_count": 972,
      "outputs": [
        {
          "output_type": "display_data",
          "data": {
            "image/png": "[encoded data removed]",
            "text/plain": [
              "<Figure size 360x360 with 2 Axes>"
            ]
          },
          "metadata": {
            "needs_background": "light"
          }
        }
      ]
    },
    {
      "cell_type": "markdown",
      "metadata": {
        "id": "JGO3vJRjdXPM"
      },
      "source": [
        "# Model 4: Using DecisionTreeClassifier to train the model"
      ]
    },
    {
      "cell_type": "code",
      "metadata": {
        "colab": {
          "base_uri": "https://localhost:8080/"
        },
        "id": "9tLIqgnsar0E",
        "outputId": "ebf7555e-c02b-4826-a97d-424cfe3161c8"
      },
      "source": [
        "\n",
        "# We define the model\n",
        "dtcla = DecisionTreeClassifier(random_state=9)\n",
        "\n",
        "# We train model\n",
        "dtcla.fit(train_X, train_y)\n",
        "\n",
        "\n"
      ],
      "execution_count": 973,
      "outputs": [
        {
          "output_type": "execute_result",
          "data": {
            "text/plain": [
              "DecisionTreeClassifier(ccp_alpha=0.0, class_weight=None, criterion='gini',\n",
              "                       max_depth=None, max_features=None, max_leaf_nodes=None,\n",
              "                       min_impurity_decrease=0.0, min_impurity_split=None,\n",
              "                       min_samples_leaf=1, min_samples_split=2,\n",
              "                       min_weight_fraction_leaf=0.0, presort='deprecated',\n",
              "                       random_state=9, splitter='best')"
            ]
          },
          "metadata": {},
          "execution_count": 973
        }
      ]
    },
    {
      "cell_type": "markdown",
      "metadata": {
        "id": "U2l4yGRidk5p"
      },
      "source": [
        "\n",
        "\n",
        "> Predict the class values for the test data\n",
        "\n"
      ]
    },
    {
      "cell_type": "code",
      "metadata": {
        "colab": {
          "base_uri": "https://localhost:8080/"
        },
        "id": "HDPIKuZndlLR",
        "outputId": "81ef417d-ee9f-45a6-8ea4-2d7b895dfc0d"
      },
      "source": [
        "# We predict target values\n",
        "dcla_predict = dtcla.predict(test_X)\n",
        "print('Classes predicted by DecisionTreeClassifier model for test data are:', dcla_predict)"
      ],
      "execution_count": 974,
      "outputs": [
        {
          "output_type": "stream",
          "text": [
            "Classes predicted by DecisionTreeClassifier model for test data are: [2 2 2 2 4 2 4 2 2 2 4 2 2 2 2 2 4 2 4 4 2 4 2 4 4 2 2 2 2 4 4 4 2 4 4 2 4\n",
            " 2 4 4 2 4 4 2 2 2 2 4 2 4 2 2 2 2 2 4 2 4 2 2 2 4 2 2 2 2 4 2 4 2 2 2 2 4\n",
            " 2 4 2 2 2 4 4 4 2 2 4 4 4 4 2 2 2 4 4 2 2 4 2 4 2 2 2 2 2 2 2 4 2 2 2 4 2\n",
            " 4 4 2 2 2 2 4 2 2 4 4 2 2 2 4 2 2 4 2 2 2 4 2 2 2 2 4 2 2 2 2 4 2 2 2 2 2\n",
            " 2 2 2 4 4 2 2 4 2 2 2 4 2 2 2 2 2 2 2 2 4 2 2 4 2 2 2]\n"
          ],
          "name": "stdout"
        }
      ]
    },
    {
      "cell_type": "markdown",
      "metadata": {
        "id": "qHqik55mdumK"
      },
      "source": [
        " > Print the training accuracy and loss values"
      ]
    },
    {
      "cell_type": "code",
      "metadata": {
        "colab": {
          "base_uri": "https://localhost:8080/"
        },
        "id": "EPx24aPodvwd",
        "outputId": "5bce1f6e-10e0-4376-a8f1-109776cb55a0"
      },
      "source": [
        "print('Mean Absolute Error:', metrics.mean_absolute_error(test_y, dcla_predict))\n",
        "print('Mean Squared Error:', metrics.mean_squared_error(test_y, dcla_predict))\n",
        "print('Root Mean Squared Error:', np.sqrt(metrics.mean_squared_error(test_y, dcla_predict)))\n",
        "print('Cross Entropy:', log_loss(test_y,dcla_predict,eps=1e-15,sample_weight=None, labels=None)/len(test_y))\n",
        "print('Classification Report:', metrics.classification_report(test_y,dcla_predict))\n",
        "print('Accuracy Score:', dtcla.score(test_X, test_y))"
      ],
      "execution_count": 975,
      "outputs": [
        {
          "output_type": "stream",
          "text": [
            "Mean Absolute Error: 0.17142857142857143\n",
            "Mean Squared Error: 0.34285714285714286\n",
            "Root Mean Squared Error: 0.5855400437691199\n",
            "Cross Entropy: 0.13421092385595312\n",
            "Classification Report:               precision    recall  f1-score   support\n",
            "\n",
            "           2       0.94      0.93      0.94       119\n",
            "           4       0.86      0.88      0.87        56\n",
            "\n",
            "    accuracy                           0.91       175\n",
            "   macro avg       0.90      0.90      0.90       175\n",
            "weighted avg       0.91      0.91      0.91       175\n",
            "\n",
            "Accuracy Score: 0.9142857142857143\n"
          ],
          "name": "stdout"
        }
      ]
    },
    {
      "cell_type": "markdown",
      "metadata": {
        "id": "CfTdsnYbdm1g"
      },
      "source": [
        "> Part B: Print the confusion matrix."
      ]
    },
    {
      "cell_type": "code",
      "metadata": {
        "colab": {
          "base_uri": "https://localhost:8080/",
          "height": 350
        },
        "id": "HmgdKtDVdnZ8",
        "outputId": "b40ac515-46f5-406a-f965-68fb2a56a561"
      },
      "source": [
        "dtcla_cm = confusion_matrix(test_y, dcla_predict)\n",
        "f, ax = plt.subplots(figsize=(5,5))\n",
        "sns.heatmap(dtcla_cm, annot=True, linewidth=0.7, linecolor='red', fmt='g', ax=ax, cmap=\"BuPu\")\n",
        "plt.title('Decision Tree Classification Confusion Matrix')\n",
        "plt.xlabel('Y predict')\n",
        "plt.ylabel('Y test')\n",
        "plt.show()"
      ],
      "execution_count": 976,
      "outputs": [
        {
          "output_type": "display_data",
          "data": {
            "image/png": "[encoded data removed]",
            "text/plain": [
              "<Figure size 360x360 with 2 Axes>"
            ]
          },
          "metadata": {
            "needs_background": "light"
          }
        }
      ]
    },
    {
      "cell_type": "code",
      "metadata": {
        "id": "G091Lua9HMeE",
        "outputId": "f21fa82d-b7a7-4377-8a14-16ba79322d44",
        "colab": {
          "base_uri": "https://localhost:8080/"
        }
      },
      "source": [
        "Testscores = pd.Series([score_rfcla, score_logreg, score_nbcla, score_dtcla, ], \n",
        "                        index=['Random Forest Score', 'Logistic Regression Score', 'Naive Bayes Score', 'Decision Tree Score']) \n",
        "print(Testscores)"
      ],
      "execution_count": 977,
      "outputs": [
        {
          "output_type": "stream",
          "text": [
            "Random Forest Score          0.982857\n",
            "Logistic Regression Score    0.911706\n",
            "Naive Bayes Score            0.948571\n",
            "Decision Tree Score          0.937143\n",
            "dtype: float64\n"
          ],
          "name": "stdout"
        }
      ]
    },
    {
      "cell_type": "markdown",
      "metadata": {
        "id": "eR9S8pjhIMTe"
      },
      "source": [
        "# Inference:\n",
        "\n",
        "As per the outcome above, out of the 4 classifiers, Random Forest Classifier has the most optimal result accuracy with an accuracy of 98.28% followed by Naive Bayes Classifier. This is due to the iteration of all 100 trees in the forest in the assembly because of which the label that gets the most incidents is reported as prediction.\n",
        "\n"
      ]
    }
  ]
}